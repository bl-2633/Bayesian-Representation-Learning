{
 "cells": [
  {
   "cell_type": "code",
   "execution_count": 1,
   "metadata": {},
   "outputs": [
    {
     "name": "stderr",
     "output_type": "stream",
     "text": [
      "Using TensorFlow backend.\n"
     ]
    }
   ],
   "source": [
    "%matplotlib inline\n",
    "from edward.util import Progbar\n",
    "import tensorflow as tf\n",
    "from utils import generator_xy\n",
    "import keras\n",
    "import edward as ed\n",
    "import numpy as np\n",
    "from observations import mnist\n",
    "import matplotlib.pyplot as plt\n",
    "from edward.models import Normal, Bernoulli, Categorical\n",
    "import pickle\n",
    "import seaborn as sns\n",
    "plt.style.use('ggplot')"
   ]
  },
  {
   "cell_type": "code",
   "execution_count": 2,
   "metadata": {},
   "outputs": [],
   "source": [
    "sess = tf.InteractiveSession()\n",
    "ed.set_seed(100)\n",
    "M = 12000\n",
    "(x_train, y_train), (x_test, y_test) = mnist('./data')\n",
    "y_train = tf.cast(y_train, tf.int32).eval()\n",
    "y_test = tf.cast(y_test, tf.int32).eval()\n",
    "x_train = x_train.astype('float32') / 255.\n",
    "x_test = x_test.astype('float32') / 255.\n",
    "x_train_generator = generator_xy([x_train,y_train], M)"
   ]
  },
  {
   "cell_type": "code",
   "execution_count": 3,
   "metadata": {},
   "outputs": [
    {
     "data": {
      "image/png": "[encoded data removed]",
      "text/plain": [
       "<matplotlib.figure.Figure at 0x7f7f49c1eef0>"
      ]
     },
     "metadata": {},
     "output_type": "display_data"
    }
   ],
   "source": [
    "f, axes = plt.subplots(2, 2)\n",
    "for ax, i in zip(axes.flat[0:], range(4)):\n",
    "    ax.imshow(x_train[i,:].reshape(28,28),cmap = 'gray')\n",
    "plt.show()"
   ]
  },
  {
   "cell_type": "code",
   "execution_count": 4,
   "metadata": {},
   "outputs": [],
   "source": [
    "\n",
    "def auto_encoder(x, W_encode, W_decode, b_endoce, b_decode):\n",
    "    h = tf.nn.relu(tf.matmul(x,W_encode) + b_encode)\n",
    "    h = tf.nn.sigmoid(tf.matmul(h,W_decode) + b_decode)\n",
    "    return h\n",
    "\n",
    "def mlp(x, W_1, W_2, b_1, b_2):\n",
    "    h = tf.nn.relu(tf.matmul(x, W_1) + b_1)\n",
    "    h = tf.nn.softmax(tf.matmul(h, W_2) + b_2)\n",
    "    return h\n",
    "\n",
    "def encoder(x, W_encode, b_encode):\n",
    "    h = tf.nn.relu(tf.matmul(x,W_encode) + b_encode)\n",
    "    return h\n",
    "\n",
    "def accuracy(y_true, y_pred):\n",
    "    correct = 0\n",
    "    for i in range(len(y_true)):\n",
    "        if y_true[i] == y_pred[i]:\n",
    "            correct += 1\n",
    "        else:\n",
    "            pass\n",
    "    return correct/len(y_true)* 1."
   ]
  },
  {
   "cell_type": "code",
   "execution_count": 5,
   "metadata": {},
   "outputs": [],
   "source": [
    "W_encode = Normal(loc = tf.zeros([28*28, 256]), scale = 0.01 * tf.ones([28*28, 256]))\n",
    "W_decode = Normal(loc = tf.zeros([256, 28*28]), scale = 0.01 * tf.ones([256,28*28]))\n",
    "b_encode = Normal(loc = tf.zeros(256), scale = 0.01 * tf.ones(256))\n",
    "b_decode = Normal(loc = tf.zeros(28*28), scale = 0.01 * tf.ones(28*28))\n",
    "W_clf_1  = Normal(loc = tf.zeros([256, 100]), scale = tf.ones([256, 100]))\n",
    "b_clf_1  = Normal(loc = tf.zeros(100), scale = tf.ones(100)) \n",
    "W_clf_2  = Normal(loc = tf.zeros([100,10]), scale = tf.ones([100, 10]))\n",
    "b_clf_2  = Normal(loc = tf.zeros(10), scale = tf.ones(10))\n",
    "\n",
    "\n",
    "x = tf.placeholder(tf.float32, [None, 28 * 28])\n",
    "\n",
    "x_reconstruct = Normal(loc=auto_encoder(x, W_encode, W_decode, b_encode, b_decode),\n",
    "                      scale = 0.1 *tf.ones([28*28]))\n",
    "y = Categorical(logits = mlp(encoder(x, W_encode, b_encode) \n",
    "                             , W_clf_1, W_clf_2, b_clf_1, b_clf_2))"
   ]
  },
  {
   "cell_type": "code",
   "execution_count": 6,
   "metadata": {},
   "outputs": [],
   "source": [
    "qW_encode = Normal(loc = tf.Variable(tf.random_normal([28*28,256])),\n",
    "                  scale = tf.nn.softplus(tf.Variable(tf.random_normal([28*28,256]))))\n",
    "qW_decode = Normal(loc = tf.Variable(tf.random_normal([256,28*28])),\n",
    "                  scale = tf.nn.softplus(tf.Variable(tf.random_normal([256,28*28]))))\n",
    "qb_encode = Normal(loc = tf.Variable(tf.random_normal([256])),\n",
    "                  scale = tf.nn.softplus(tf.Variable(tf.random_normal([256]))))\n",
    "qb_decode = Normal(loc = tf.Variable(tf.random_normal([28*28])),\n",
    "                   scale = tf.nn.softplus(tf.Variable(tf.random_normal([28*28]))))\n",
    "\n",
    "qW_clf_1 = Normal(loc = tf.Variable(tf.random_normal([256,100])),\n",
    "                  scale = tf.nn.softplus(tf.Variable(tf.random_normal([256,100]))))\n",
    "qW_clf_2 = Normal(loc = tf.Variable(tf.random_normal([100,10])),\n",
    "                  scale = tf.nn.softplus(tf.Variable(tf.random_normal([100,10]))))\n",
    "qb_clf_1 = Normal(loc = tf.Variable(tf.random_normal([100])),\n",
    "                  scale = tf.nn.softplus(tf.Variable(tf.random_normal([100]))))\n",
    "qb_clf_2 = Normal(loc = tf.Variable(tf.random_normal([10])),\n",
    "                   scale = tf.nn.softplus(tf.Variable(tf.random_normal([10]))))\n",
    "\n"
   ]
  },
  {
   "cell_type": "code",
   "execution_count": 7,
   "metadata": {},
   "outputs": [],
   "source": [
    "reconstruct = tf.stack([auto_encoder(x,qW_encode.sample(), \n",
    "                                   qW_decode.sample(), qb_encode.sample(), \n",
    "                                   qb_decode.sample()) \n",
    "                          for _ in range(4)])\n",
    "tf.global_variables_initializer().run()\n",
    "out = sess.run(reconstruct, feed_dict = {x: x_train})\n"
   ]
  },
  {
   "cell_type": "code",
   "execution_count": 8,
   "metadata": {},
   "outputs": [
    {
     "name": "stdout",
     "output_type": "stream",
     "text": [
      "(4, 60000, 784)\n"
     ]
    },
    {
     "data": {
      "image/png": "[encoded data removed]",
      "text/plain": [
       "<matplotlib.figure.Figure at 0x7f7f313b8be0>"
      ]
     },
     "metadata": {},
     "output_type": "display_data"
    },
    {
     "data": {
      "image/png": "[encoded data removed]",
      "text/plain": [
       "<matplotlib.figure.Figure at 0x7f7f313b8d30>"
      ]
     },
     "metadata": {},
     "output_type": "display_data"
    }
   ],
   "source": [
    "print(out.shape)\n",
    "f, axes = plt.subplots(2, 2)\n",
    "for ax, i in zip(axes.flat[0:], range(4)):\n",
    "    ax.imshow(out[i,0,:].reshape(28,28),cmap = 'gray')\n",
    "plt.show()\n",
    "plt.imshow(x_train[0,:].reshape(28, 28), cmap = 'gray')\n",
    "plt.show()"
   ]
  },
  {
   "cell_type": "code",
   "execution_count": 9,
   "metadata": {},
   "outputs": [],
   "source": [
    "inference = ed.KLqp({W_encode:qW_encode, b_encode:qb_encode,\n",
    "                    W_decode:qW_decode, b_decode:qb_decode, \n",
    "                    W_clf_1: qW_clf_1, W_clf_2: qW_clf_2, \n",
    "                    b_clf_1: qb_clf_1, b_clf_2: qb_clf_2}, \n",
    "                    data = {x: x_train, x_reconstruct: x_train, \n",
    "                           y: y_train})\n",
    "inference.initialize(n_iter = 1000, n_samples = 5)\n",
    "tf.global_variables_initializer().run()\n"
   ]
  },
  {
   "cell_type": "code",
   "execution_count": null,
   "metadata": {},
   "outputs": [
    {
     "name": "stdout",
     "output_type": "stream",
     "text": [
      "Epoch: 1\n",
      "-log p(x) <= 311599.817\n",
      "Epoch: 2\n",
      "-log p(x) <= 181704.230\n",
      "Epoch: 3\n",
      "-log p(x) <= 112466.283\n",
      "Epoch: 4\n",
      "-log p(x) <= 72436.252\n",
      "Epoch: 5\n",
      "-log p(x) <= 50494.267\n",
      "Epoch: 6\n",
      "-log p(x) <= 38542.571\n",
      "Epoch: 7\n",
      "-log p(x) <= 31818.826\n",
      "Epoch: 8\n",
      "-log p(x) <= 27700.225\n",
      "Epoch: 9\n",
      "-log p(x) <= 24862.781\n",
      "Epoch: 10\n"
     ]
    }
   ],
   "source": [
    "n_epoch = 40\n",
    "n_iter_per_epoch = x_train.shape[0] // M\n",
    "log_loss = []\n",
    "for epoch in range(1, n_epoch + 1):\n",
    "  print(\"Epoch: {0}\".format(epoch))\n",
    "  avg_loss = 0.0\n",
    "\n",
    "  pbar = Progbar(n_iter_per_epoch, verbose = 0)\n",
    "  for t in range(1, n_iter_per_epoch + 1):\n",
    "    pbar.update(t)\n",
    "    x_batch, y_batch = next(x_train_generator)\n",
    "    info_dict = inference.update(feed_dict={x: x_batch, x_reconstruct: x_batch, \n",
    "                                           y: y_batch})\n",
    "    avg_loss += info_dict['loss']\n",
    "  avg_loss = avg_loss / n_iter_per_epoch\n",
    "  avg_loss = avg_loss / M\n",
    "  log_loss.append(-avg_loss)\n",
    "  print(\"-log p(x) <= {:0.3f}\".format(avg_loss))\n",
    "    "
   ]
  },
  {
   "cell_type": "code",
   "execution_count": null,
   "metadata": {},
   "outputs": [],
   "source": [
    "out = sess.run(reconstruct, feed_dict={x: x_test})\n",
    "f, axes = plt.subplots(2, 2)\n",
    "for ax, i in zip(axes.flat[0:], range(4)):\n",
    "    ax.imshow(out[i,1,:].reshape(28,28),cmap = 'gray')\n",
    "plt.show()\n",
    "plt.imshow(x_test[1,:].reshape(28, 28), cmap = 'gray')\n",
    "plt.show()"
   ]
  },
  {
   "cell_type": "code",
   "execution_count": null,
   "metadata": {},
   "outputs": [],
   "source": [
    "encode_weights = qW_encode.sample()\n",
    "encode_bias = qb_encode.sample()\n",
    "train_encoded = tf.matmul(x_train, encode_weights) + encode_bias\n",
    "test_encoded = tf.matmul(x_test, encode_weights) + encode_bias\n",
    "print(train_encoded.eval().shape)\n",
    "print(test_encoded.eval().shape)\n",
    "with open('./data/encoded_train_BAE.pkl','wb') as f:\n",
    "    pickle.dump(train_encoded.eval(),f)\n",
    "with open('./data/encoded_test_BAE.pkl','wb') as f:\n",
    "    pickle.dump(test_encoded.eval(),f)"
   ]
  },
  {
   "cell_type": "code",
   "execution_count": null,
   "metadata": {},
   "outputs": [],
   "source": [
    "log_loss_temp = np.multiply(log_loss, -1)\n",
    "print(log_loss_temp)\n",
    "plt.plot(range(40), log_loss_temp)\n",
    "plt.show()"
   ]
  },
  {
   "cell_type": "code",
   "execution_count": null,
   "metadata": {},
   "outputs": [],
   "source": [
    "y_pred_train = mlp(train_encoded, qW_clf_1.sample(),qW_clf_2.sample(),qb_clf_1.sample(), qb_clf_2.sample())\n",
    "y_pred_train = [np.argmax(i) for i in y_pred_train.eval()]\n",
    "\n",
    "y_pred_test = mlp(test_encoded, qW_clf_1.sample(),qW_clf_2.sample(),qb_clf_1.sample(), qb_clf_2.sample())\n",
    "y_pred_test = [np.argmax(i) for i in y_pred_test.eval()]\n",
    "\n",
    "print(accuracy(y_train, y_pred_train))\n",
    "print(accuracy(y_test, y_pred_test))"
   ]
  },
  {
   "cell_type": "code",
   "execution_count": null,
   "metadata": {},
   "outputs": [],
   "source": [
    "pos_encode = qW_encode.sample().eval()\n",
    "pri_encode = W_encode.sample().eval()\n",
    "sns.distplot(np.ndarray.flatten(pos_encode), color = 'red')\n",
    "sns.distplot(np.ndarray.flatten(pri_encode), color = 'blue')\n",
    "plt.show()"
   ]
  },
  {
   "cell_type": "code",
   "execution_count": null,
   "metadata": {},
   "outputs": [],
   "source": []
  }
 ],
 "metadata": {
  "kernelspec": {
   "display_name": "Python 3",
   "language": "python",
   "name": "python3"
  },
  "language_info": {
   "codemirror_mode": {
    "name": "ipython",
    "version": 3
   },
   "file_extension": ".py",
   "mimetype": "text/x-python",
   "name": "python",
   "nbconvert_exporter": "python",
   "pygments_lexer": "ipython3",
   "version": "3.5.3"
  }
 },
 "nbformat": 4,
 "nbformat_minor": 2
}
