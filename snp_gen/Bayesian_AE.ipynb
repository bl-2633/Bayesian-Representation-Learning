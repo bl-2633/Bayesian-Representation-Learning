{
 "cells": [
  {
   "cell_type": "code",
   "execution_count": 1,
   "metadata": {},
   "outputs": [
    {
     "name": "stderr",
     "output_type": "stream",
     "text": [
      "Using TensorFlow backend.\n"
     ]
    }
   ],
   "source": [
    "%matplotlib inline\n",
    "from edward.util import Progbar\n",
    "import tensorflow as tf\n",
    "from utils import generator\n",
    "import keras\n",
    "import edward as ed\n",
    "import numpy as np\n",
    "from observations import mnist\n",
    "import matplotlib.pyplot as plt\n",
    "from edward.models import Normal, Bernoulli\n",
    "import pickle\n",
    "plt.style.use('ggplot')"
   ]
  },
  {
   "cell_type": "code",
   "execution_count": 2,
   "metadata": {},
   "outputs": [],
   "source": [
    "ed.set_seed(100)\n",
    "M = 10000\n",
    "(x_train, _), (x_test, _) = mnist('./data')\n",
    "x_train = x_train.astype('float32') / 255.\n",
    "x_test = x_test.astype('float32') / 255.\n",
    "x_train_generator = generator(x_train, M)"
   ]
  },
  {
   "cell_type": "code",
   "execution_count": 3,
   "metadata": {},
   "outputs": [
    {
     "data": {
      "image/png": "[encoded data removed]",
      "text/plain": [
       "<matplotlib.figure.Figure at 0x7fd05f2aa390>"
      ]
     },
     "metadata": {},
     "output_type": "display_data"
    }
   ],
   "source": [
    "f, axes = plt.subplots(2, 2)\n",
    "for ax, i in zip(axes.flat[0:], range(4)):\n",
    "    ax.imshow(x_train[i,:].reshape(28,28),cmap = 'gray')\n",
    "plt.show()"
   ]
  },
  {
   "cell_type": "code",
   "execution_count": 4,
   "metadata": {},
   "outputs": [],
   "source": [
    "sess = tf.InteractiveSession()\n",
    "def auto_encoder(x, W_encode, W_decode, b_endoce, b_decode):\n",
    "    h = tf.nn.relu(tf.matmul(x,W_encode) + b_encode)\n",
    "    h = tf.matmul(h,W_decode) + b_decode\n",
    "    return h"
   ]
  },
  {
   "cell_type": "code",
   "execution_count": 5,
   "metadata": {},
   "outputs": [],
   "source": [
    "W_encode = Normal(loc = tf.zeros([28*28, 256]), scale = tf.ones([28*28, 256]))\n",
    "W_decode = Normal(loc = tf.zeros([256, 28*28]), scale = tf.ones([256,28*28]))\n",
    "b_encode = Normal(loc = tf.zeros(256), scale = tf.ones(256))\n",
    "b_decode = Normal(loc = tf.zeros(28*28), scale = tf.ones(28*28))\n",
    "\n",
    "x = tf.placeholder(tf.float32, [None, 28 * 28])\n",
    "\n",
    "x_reconstruct = Normal(loc=auto_encoder(x, W_encode, W_decode, b_encode, b_decode),\n",
    "                      scale = 0.1 *tf.ones([28*28]))\n"
   ]
  },
  {
   "cell_type": "code",
   "execution_count": 6,
   "metadata": {},
   "outputs": [],
   "source": [
    "qW_encode = Normal(loc = tf.Variable(tf.random_normal([28*28,256])),\n",
    "                  scale = tf.nn.softplus(tf.Variable(tf.random_normal([28*28,256]))))\n",
    "qW_decode = Normal(loc = tf.Variable(tf.random_normal([256,28*28])),\n",
    "                  scale = tf.nn.softplus(tf.Variable(tf.random_normal([256,28*28]))))\n",
    "qb_encode = Normal(loc = tf.Variable(tf.random_normal([256])),\n",
    "                  scale = tf.nn.softplus(tf.Variable(tf.random_normal([256]))))\n",
    "qb_decode = Normal(loc = tf.Variable(tf.random_normal([28*28])),\n",
    "                   scale = tf.nn.softplus(tf.Variable(tf.random_normal([28*28]))))\n"
   ]
  },
  {
   "cell_type": "code",
   "execution_count": 7,
   "metadata": {},
   "outputs": [],
   "source": [
    "reconstruct = tf.stack([auto_encoder(x,qW_encode.sample(), \n",
    "                                   qW_decode.sample(), qb_encode.sample(), \n",
    "                                   qb_decode.sample()) \n",
    "                          for _ in range(4)])\n",
    "tf.global_variables_initializer().run()\n",
    "out = sess.run(reconstruct, feed_dict = {x: x_train})\n"
   ]
  },
  {
   "cell_type": "code",
   "execution_count": 8,
   "metadata": {},
   "outputs": [
    {
     "name": "stdout",
     "output_type": "stream",
     "text": [
      "(4, 60000, 784)\n"
     ]
    },
    {
     "data": {
      "image/png": "[encoded data removed]",
      "text/plain": [
       "<matplotlib.figure.Figure at 0x7fd055e63fd0>"
      ]
     },
     "metadata": {},
     "output_type": "display_data"
    }
   ],
   "source": [
    "print(out.shape)\n",
    "f, axes = plt.subplots(2, 2)\n",
    "for ax, i in zip(axes.flat[0:], range(4)):\n",
    "    ax.imshow(out[i,0,:].reshape(28,28),cmap = 'gray')\n",
    "plt.show()\n"
   ]
  },
  {
   "cell_type": "code",
   "execution_count": 9,
   "metadata": {},
   "outputs": [],
   "source": [
    "inference = ed.KLqp({W_encode:qW_encode, b_encode:qb_encode,\n",
    "                    W_decode:qW_decode, b_decode:qb_decode}, data = {x: x_train, x_reconstruct: x_train})\n",
    "inference.initialize(n_iter = 1000, n_samples = 5)\n",
    "tf.global_variables_initializer().run()\n"
   ]
  },
  {
   "cell_type": "code",
   "execution_count": 10,
   "metadata": {},
   "outputs": [
    {
     "name": "stdout",
     "output_type": "stream",
     "text": [
      "Epoch: 1\n",
      "6/6 [100%] ██████████████████████████████ Elapsed: 63s\n",
      "-log p(x) <= 2110309524.821\n",
      "Epoch: 2\n",
      "6/6 [100%] ██████████████████████████████ Elapsed: 59s\n",
      "-log p(x) <= 1517733.197\n",
      "Epoch: 3\n",
      "6/6 [100%] ██████████████████████████████ Elapsed: 59s\n",
      "-log p(x) <= 508910.054\n",
      "Epoch: 4\n",
      "6/6 [100%] ██████████████████████████████ Elapsed: 58s\n",
      "-log p(x) <= 459107.046\n",
      "Epoch: 5\n",
      "6/6 [100%] ██████████████████████████████ Elapsed: 59s\n",
      "-log p(x) <= 414419.221\n",
      "Epoch: 6\n",
      "6/6 [100%] ██████████████████████████████ Elapsed: 59s\n",
      "-log p(x) <= 383187.580\n",
      "Epoch: 7\n",
      "6/6 [100%] ██████████████████████████████ Elapsed: 58s\n",
      "-log p(x) <= 348645.687\n",
      "Epoch: 8\n",
      "6/6 [100%] ██████████████████████████████ Elapsed: 59s\n",
      "-log p(x) <= 322178.953\n",
      "Epoch: 9\n",
      "6/6 [100%] ██████████████████████████████ Elapsed: 59s\n",
      "-log p(x) <= 284394.961\n",
      "Epoch: 10\n",
      "6/6 [100%] ██████████████████████████████ Elapsed: 58s\n",
      "-log p(x) <= 265278.908\n",
      "Epoch: 11\n",
      "6/6 [100%] ██████████████████████████████ Elapsed: 59s\n",
      "-log p(x) <= 235681.975\n",
      "Epoch: 12\n",
      "6/6 [100%] ██████████████████████████████ Elapsed: 59s\n",
      "-log p(x) <= 220809.197\n",
      "Epoch: 13\n",
      "6/6 [100%] ██████████████████████████████ Elapsed: 59s\n",
      "-log p(x) <= 195697.357\n",
      "Epoch: 14\n",
      "6/6 [100%] ██████████████████████████████ Elapsed: 64s\n",
      "-log p(x) <= 179806.065\n",
      "Epoch: 15\n",
      "6/6 [100%] ██████████████████████████████ Elapsed: 61s\n",
      "-log p(x) <= 166087.503\n",
      "Epoch: 16\n",
      "6/6 [100%] ██████████████████████████████ Elapsed: 66s\n",
      "-log p(x) <= 150823.827\n",
      "Epoch: 17\n",
      "6/6 [100%] ██████████████████████████████ Elapsed: 66s\n",
      "-log p(x) <= 138646.848\n",
      "Epoch: 18\n",
      "6/6 [100%] ██████████████████████████████ Elapsed: 64s\n",
      "-log p(x) <= 125075.115\n",
      "Epoch: 19\n",
      "6/6 [100%] ██████████████████████████████ Elapsed: 60s\n",
      "-log p(x) <= 119100.879\n",
      "Epoch: 20\n",
      "6/6 [100%] ██████████████████████████████ Elapsed: 66s\n",
      "-log p(x) <= 109521.312\n",
      "Epoch: 21\n",
      "6/6 [100%] ██████████████████████████████ Elapsed: 59s\n",
      "-log p(x) <= 101434.726\n",
      "Epoch: 22\n",
      "6/6 [100%] ██████████████████████████████ Elapsed: 60s\n",
      "-log p(x) <= 96176.761\n",
      "Epoch: 23\n",
      "6/6 [100%] ██████████████████████████████ Elapsed: 59s\n",
      "-log p(x) <= 88394.357\n",
      "Epoch: 24\n",
      "6/6 [100%] ██████████████████████████████ Elapsed: 59s\n",
      "-log p(x) <= 82434.330\n",
      "Epoch: 25\n",
      "6/6 [100%] ██████████████████████████████ Elapsed: 60s\n",
      "-log p(x) <= 81941.360\n",
      "Epoch: 26\n",
      "6/6 [100%] ██████████████████████████████ Elapsed: 60s\n",
      "-log p(x) <= 71903.582\n",
      "Epoch: 27\n",
      "6/6 [100%] ██████████████████████████████ Elapsed: 59s\n",
      "-log p(x) <= 68762.470\n",
      "Epoch: 28\n",
      "6/6 [100%] ██████████████████████████████ Elapsed: 61s\n",
      "-log p(x) <= 64385.876\n",
      "Epoch: 29\n",
      "6/6 [100%] ██████████████████████████████ Elapsed: 61s\n",
      "-log p(x) <= 59850.865\n",
      "Epoch: 30\n",
      "6/6 [100%] ██████████████████████████████ Elapsed: 58s\n",
      "-log p(x) <= 56439.673\n",
      "Epoch: 31\n",
      "6/6 [100%] ██████████████████████████████ Elapsed: 58s\n",
      "-log p(x) <= 53131.766\n",
      "Epoch: 32\n",
      "6/6 [100%] ██████████████████████████████ Elapsed: 58s\n",
      "-log p(x) <= 51173.163\n",
      "Epoch: 33\n",
      "6/6 [100%] ██████████████████████████████ Elapsed: 60s\n",
      "-log p(x) <= 47865.652\n",
      "Epoch: 34\n",
      "6/6 [100%] ██████████████████████████████ Elapsed: 59s\n",
      "-log p(x) <= 45070.583\n",
      "Epoch: 35\n",
      "6/6 [100%] ██████████████████████████████ Elapsed: 59s\n",
      "-log p(x) <= 43875.633\n",
      "Epoch: 36\n",
      "6/6 [100%] ██████████████████████████████ Elapsed: 59s\n",
      "-log p(x) <= 41482.947\n",
      "Epoch: 37\n",
      "6/6 [100%] ██████████████████████████████ Elapsed: 59s\n",
      "-log p(x) <= 40630.025\n",
      "Epoch: 38\n",
      "6/6 [100%] ██████████████████████████████ Elapsed: 59s\n",
      "-log p(x) <= 38599.510\n",
      "Epoch: 39\n",
      "6/6 [100%] ██████████████████████████████ Elapsed: 58s\n",
      "-log p(x) <= 36854.155\n",
      "Epoch: 40\n",
      "6/6 [100%] ██████████████████████████████ Elapsed: 59s\n",
      "-log p(x) <= 35823.384\n",
      "Epoch: 41\n",
      "6/6 [100%] ██████████████████████████████ Elapsed: 59s\n",
      "-log p(x) <= 33989.488\n",
      "Epoch: 42\n",
      "6/6 [100%] ██████████████████████████████ Elapsed: 58s\n",
      "-log p(x) <= 33191.052\n",
      "Epoch: 43\n",
      "6/6 [100%] ██████████████████████████████ Elapsed: 59s\n",
      "-log p(x) <= 31958.186\n",
      "Epoch: 44\n",
      "6/6 [100%] ██████████████████████████████ Elapsed: 59s\n",
      "-log p(x) <= 30380.454\n",
      "Epoch: 45\n",
      "6/6 [100%] ██████████████████████████████ Elapsed: 59s\n",
      "-log p(x) <= 29858.236\n",
      "Epoch: 46\n",
      "6/6 [100%] ██████████████████████████████ Elapsed: 59s\n",
      "-log p(x) <= 28790.034\n",
      "Epoch: 47\n",
      "6/6 [100%] ██████████████████████████████ Elapsed: 59s\n",
      "-log p(x) <= 27777.737\n",
      "Epoch: 48\n",
      "6/6 [100%] ██████████████████████████████ Elapsed: 59s\n",
      "-log p(x) <= 26721.763\n",
      "Epoch: 49\n",
      "6/6 [100%] ██████████████████████████████ Elapsed: 59s\n",
      "-log p(x) <= 26332.879\n",
      "Epoch: 50\n",
      "6/6 [100%] ██████████████████████████████ Elapsed: 59s\n",
      "-log p(x) <= 26056.957\n",
      "Epoch: 51\n",
      "6/6 [100%] ██████████████████████████████ Elapsed: 58s\n",
      "-log p(x) <= 25074.243\n",
      "Epoch: 52\n",
      "6/6 [100%] ██████████████████████████████ Elapsed: 59s\n",
      "-log p(x) <= 24865.841\n",
      "Epoch: 53\n",
      "6/6 [100%] ██████████████████████████████ Elapsed: 59s\n",
      "-log p(x) <= 23810.707\n",
      "Epoch: 54\n",
      "6/6 [100%] ██████████████████████████████ Elapsed: 59s\n",
      "-log p(x) <= 23573.934\n",
      "Epoch: 55\n",
      "6/6 [100%] ██████████████████████████████ Elapsed: 58s\n",
      "-log p(x) <= 23949.775\n",
      "Epoch: 56\n",
      "6/6 [100%] ██████████████████████████████ Elapsed: 59s\n",
      "-log p(x) <= 22753.292\n",
      "Epoch: 57\n",
      "6/6 [100%] ██████████████████████████████ Elapsed: 58s\n",
      "-log p(x) <= 21861.373\n",
      "Epoch: 58\n",
      "6/6 [100%] ██████████████████████████████ Elapsed: 59s\n",
      "-log p(x) <= 21931.834\n",
      "Epoch: 59\n",
      "6/6 [100%] ██████████████████████████████ Elapsed: 58s\n",
      "-log p(x) <= 21243.933\n",
      "Epoch: 60\n",
      "6/6 [100%] ██████████████████████████████ Elapsed: 59s\n",
      "-log p(x) <= 21261.285\n",
      "Epoch: 61\n",
      "6/6 [100%] ██████████████████████████████ Elapsed: 59s\n",
      "-log p(x) <= 20913.256\n",
      "Epoch: 62\n",
      "6/6 [100%] ██████████████████████████████ Elapsed: 58s\n",
      "-log p(x) <= 20245.848\n",
      "Epoch: 63\n",
      "6/6 [100%] ██████████████████████████████ Elapsed: 59s\n",
      "-log p(x) <= 20307.543\n",
      "Epoch: 64\n",
      "6/6 [100%] ██████████████████████████████ Elapsed: 59s\n",
      "-log p(x) <= 20110.437\n",
      "Epoch: 65\n",
      "6/6 [100%] ██████████████████████████████ Elapsed: 59s\n",
      "-log p(x) <= 19486.398\n",
      "Epoch: 66\n",
      "6/6 [100%] ██████████████████████████████ Elapsed: 58s\n",
      "-log p(x) <= 19260.061\n",
      "Epoch: 67\n",
      "6/6 [100%] ██████████████████████████████ Elapsed: 59s\n",
      "-log p(x) <= 19394.911\n",
      "Epoch: 68\n",
      "6/6 [100%] ██████████████████████████████ Elapsed: 59s\n",
      "-log p(x) <= 18795.028\n",
      "Epoch: 69\n",
      "6/6 [100%] ██████████████████████████████ Elapsed: 59s\n",
      "-log p(x) <= 18788.046\n",
      "Epoch: 70\n",
      "6/6 [100%] ██████████████████████████████ Elapsed: 59s\n",
      "-log p(x) <= 18915.600\n",
      "Epoch: 71\n",
      "6/6 [100%] ██████████████████████████████ Elapsed: 59s\n",
      "-log p(x) <= 18258.095\n",
      "Epoch: 72\n",
      "6/6 [100%] ██████████████████████████████ Elapsed: 59s\n",
      "-log p(x) <= 17988.462\n",
      "Epoch: 73\n",
      "6/6 [100%] ██████████████████████████████ Elapsed: 62s\n",
      "-log p(x) <= 17781.748\n",
      "Epoch: 74\n",
      "6/6 [100%] ██████████████████████████████ Elapsed: 63s\n",
      "-log p(x) <= 17851.591\n",
      "Epoch: 75\n",
      "6/6 [100%] ██████████████████████████████ Elapsed: 59s\n",
      "-log p(x) <= 17546.127\n",
      "Epoch: 76\n",
      "6/6 [100%] ██████████████████████████████ Elapsed: 62s\n",
      "-log p(x) <= 17556.098\n",
      "Epoch: 77\n",
      "6/6 [100%] ██████████████████████████████ Elapsed: 63s\n",
      "-log p(x) <= 17454.760\n",
      "Epoch: 78\n",
      "6/6 [100%] ██████████████████████████████ Elapsed: 60s\n",
      "-log p(x) <= 16999.672\n",
      "Epoch: 79\n",
      "6/6 [100%] ██████████████████████████████ Elapsed: 60s\n",
      "-log p(x) <= 17076.691\n",
      "Epoch: 80\n",
      "6/6 [100%] ██████████████████████████████ Elapsed: 59s\n",
      "-log p(x) <= 16842.467\n",
      "Epoch: 81\n",
      "6/6 [100%] ██████████████████████████████ Elapsed: 61s\n",
      "-log p(x) <= 16639.164\n",
      "Epoch: 82\n",
      "6/6 [100%] ██████████████████████████████ Elapsed: 59s\n",
      "-log p(x) <= 16663.180\n",
      "Epoch: 83\n",
      "6/6 [100%] ██████████████████████████████ Elapsed: 60s\n",
      "-log p(x) <= 16246.303\n",
      "Epoch: 84\n",
      "6/6 [100%] ██████████████████████████████ Elapsed: 59s\n",
      "-log p(x) <= 16629.854\n",
      "Epoch: 85\n",
      "6/6 [100%] ██████████████████████████████ Elapsed: 59s\n",
      "-log p(x) <= 16497.042\n",
      "Epoch: 86\n",
      "6/6 [100%] ██████████████████████████████ Elapsed: 59s\n",
      "-log p(x) <= 15992.830\n",
      "Epoch: 87\n",
      "6/6 [100%] ██████████████████████████████ Elapsed: 61s\n",
      "-log p(x) <= 16097.051\n",
      "Epoch: 88\n",
      "6/6 [100%] ██████████████████████████████ Elapsed: 60s\n",
      "-log p(x) <= 16203.037\n",
      "Epoch: 89\n",
      "6/6 [100%] ██████████████████████████████ Elapsed: 60s\n",
      "-log p(x) <= 16084.139\n",
      "Epoch: 90\n",
      "6/6 [100%] ██████████████████████████████ Elapsed: 60s\n",
      "-log p(x) <= 15756.595\n",
      "Epoch: 91\n",
      "6/6 [100%] ██████████████████████████████ Elapsed: 63s\n",
      "-log p(x) <= 15601.811\n",
      "Epoch: 92\n",
      "6/6 [100%] ██████████████████████████████ Elapsed: 59s\n",
      "-log p(x) <= 15575.199\n",
      "Epoch: 93\n",
      "6/6 [100%] ██████████████████████████████ Elapsed: 60s\n",
      "-log p(x) <= 15940.377\n",
      "Epoch: 94\n"
     ]
    },
    {
     "name": "stdout",
     "output_type": "stream",
     "text": [
      "6/6 [100%] ██████████████████████████████ Elapsed: 62s\n",
      "-log p(x) <= 15380.823\n",
      "Epoch: 95\n",
      "6/6 [100%] ██████████████████████████████ Elapsed: 61s\n",
      "-log p(x) <= 15505.878\n",
      "Epoch: 96\n",
      "6/6 [100%] ██████████████████████████████ Elapsed: 61s\n",
      "-log p(x) <= 15771.357\n",
      "Epoch: 97\n",
      "6/6 [100%] ██████████████████████████████ Elapsed: 61s\n",
      "-log p(x) <= 15117.590\n",
      "Epoch: 98\n",
      "6/6 [100%] ██████████████████████████████ Elapsed: 63s\n",
      "-log p(x) <= 15038.766\n",
      "Epoch: 99\n",
      "6/6 [100%] ██████████████████████████████ Elapsed: 64s\n",
      "-log p(x) <= 15280.895\n",
      "Epoch: 100\n",
      "6/6 [100%] ██████████████████████████████ Elapsed: 61s\n",
      "-log p(x) <= 14876.749\n"
     ]
    }
   ],
   "source": [
    "n_epoch = 100\n",
    "n_iter_per_epoch = x_train.shape[0] // M\n",
    "log_loss = []\n",
    "for epoch in range(1, n_epoch + 1):\n",
    "  print(\"Epoch: {0}\".format(epoch))\n",
    "  avg_loss = 0.0\n",
    "\n",
    "  pbar = Progbar(n_iter_per_epoch)\n",
    "  for t in range(1, n_iter_per_epoch + 1):\n",
    "    pbar.update(t)\n",
    "    x_batch = next(x_train_generator)\n",
    "    info_dict = inference.update(feed_dict={x: x_batch, x_reconstruct: x_batch})\n",
    "    avg_loss += info_dict['loss']\n",
    "  avg_loss = avg_loss / n_iter_per_epoch\n",
    "  avg_loss = avg_loss / M\n",
    "  log_loss.append(-avg_loss)\n",
    "  print(\"-log p(x) <= {:0.3f}\".format(avg_loss))\n",
    "    "
   ]
  },
  {
   "cell_type": "code",
   "execution_count": 11,
   "metadata": {},
   "outputs": [
    {
     "data": {
      "image/png": "[encoded data removed]",
      "text/plain": [
       "<matplotlib.figure.Figure at 0x7fd036959dd8>"
      ]
     },
     "metadata": {},
     "output_type": "display_data"
    }
   ],
   "source": [
    "out = sess.run(reconstruct, feed_dict={x: x_train})\n",
    "f, axes = plt.subplots(2, 2)\n",
    "for ax, i in zip(axes.flat[0:], range(4)):\n",
    "    ax.imshow(out[i,0,:].reshape(28,28),cmap = 'gray')\n",
    "plt.show()\n"
   ]
  },
  {
   "cell_type": "code",
   "execution_count": 12,
   "metadata": {},
   "outputs": [
    {
     "name": "stdout",
     "output_type": "stream",
     "text": [
      "(60000, 256)\n",
      "(10000, 256)\n"
     ]
    }
   ],
   "source": [
    "encode_weights = qW_encode.sample()\n",
    "encode_bias = qb_encode.sample()\n",
    "train_encoded = tf.matmul(x_train, encode_weights) + encode_bias\n",
    "test_encoded = tf.matmul(x_test, encode_weights) + encode_bias\n",
    "print(train_encoded.eval().shape)\n",
    "print(test_encoded.eval().shape)\n",
    "with open('./data/encoded_train_BAE.pkl','wb') as f:\n",
    "    pickle.dump(train_encoded.eval(),f)\n",
    "with open('./data/encoded_test_BAE.pkl','wb') as f:\n",
    "    pickle.dump(test_encoded.eval(),f)"
   ]
  },
  {
   "cell_type": "code",
   "execution_count": 25,
   "metadata": {},
   "outputs": [
    {
     "name": "stdout",
     "output_type": "stream",
     "text": [
      "[  2.11030952e+09   1.51773320e+06   5.08910054e+05   4.59107046e+05\n",
      "   4.14419221e+05   3.83187580e+05   3.48645687e+05   3.22178953e+05\n",
      "   2.84394961e+05   2.65278908e+05   2.35681975e+05   2.20809197e+05\n",
      "   1.95697357e+05   1.79806065e+05   1.66087503e+05   1.50823827e+05\n",
      "   1.38646848e+05   1.25075115e+05   1.19100879e+05   1.09521312e+05\n",
      "   1.01434726e+05   9.61767605e+04   8.83943573e+04   8.24343296e+04\n",
      "   8.19413600e+04   7.19035819e+04   6.87624704e+04   6.43858763e+04\n",
      "   5.98508651e+04   5.64396725e+04   5.31317664e+04   5.11731627e+04\n",
      "   4.78656517e+04   4.50705829e+04   4.38756331e+04   4.14829467e+04\n",
      "   4.06300251e+04   3.85995104e+04   3.68541552e+04   3.58233840e+04\n",
      "   3.39894880e+04   3.31910517e+04   3.19581856e+04   3.03804544e+04\n",
      "   2.98582363e+04   2.87900341e+04   2.77777368e+04   2.67217629e+04\n",
      "   2.63328795e+04   2.60569571e+04   2.50742432e+04   2.48658413e+04\n",
      "   2.38107067e+04   2.35739341e+04   2.39497755e+04   2.27532923e+04\n",
      "   2.18613728e+04   2.19318344e+04   2.12439331e+04   2.12612851e+04\n",
      "   2.09132563e+04   2.02458480e+04   2.03075429e+04   2.01104371e+04\n",
      "   1.94863984e+04   1.92600608e+04   1.93949107e+04   1.87950280e+04\n",
      "   1.87880461e+04   1.89156003e+04   1.82580949e+04   1.79884624e+04\n",
      "   1.77817483e+04   1.78515909e+04   1.75461267e+04   1.75560976e+04\n",
      "   1.74547600e+04   1.69996720e+04   1.70766912e+04   1.68424669e+04\n",
      "   1.66391643e+04   1.66631797e+04   1.62463032e+04   1.66298541e+04\n",
      "   1.64970421e+04   1.59928304e+04   1.60970515e+04   1.62030365e+04\n",
      "   1.60841387e+04   1.57565952e+04   1.56018109e+04   1.55751992e+04\n",
      "   1.59403773e+04   1.53808232e+04   1.55058779e+04   1.57713565e+04\n",
      "   1.51175901e+04   1.50387661e+04   1.52808952e+04   1.48767485e+04]\n"
     ]
    },
    {
     "data": {
      "image/png": "[encoded data removed]",
      "text/plain": [
       "<matplotlib.figure.Figure at 0x7fd0364ed048>"
      ]
     },
     "metadata": {},
     "output_type": "display_data"
    }
   ],
   "source": [
    "log_loss_temp = np.multiply(log_loss, -1)\n",
    "print(log_loss_temp)\n",
    "plt.plot(range(97), log_loss_temp[3:])\n",
    "plt.show()"
   ]
  },
  {
   "cell_type": "code",
   "execution_count": null,
   "metadata": {},
   "outputs": [],
   "source": []
  }
 ],
 "metadata": {
  "kernelspec": {
   "display_name": "Python 3",
   "language": "python",
   "name": "python3"
  },
  "language_info": {
   "codemirror_mode": {
    "name": "ipython",
    "version": 3
   },
   "file_extension": ".py",
   "mimetype": "text/x-python",
   "name": "python",
   "nbconvert_exporter": "python",
   "pygments_lexer": "ipython3",
   "version": "3.5.3"
  }
 },
 "nbformat": 4,
 "nbformat_minor": 2
}
