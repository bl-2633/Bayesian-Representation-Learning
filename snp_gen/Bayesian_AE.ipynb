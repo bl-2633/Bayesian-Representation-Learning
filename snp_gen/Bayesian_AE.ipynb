{
 "cells": [
  {
   "cell_type": "code",
   "execution_count": 1,
   "metadata": {},
   "outputs": [
    {
     "name": "stderr",
     "output_type": "stream",
     "text": [
      "Using TensorFlow backend.\n"
     ]
    }
   ],
   "source": [
    "%matplotlib inline\n",
    "from edward.util import Progbar\n",
    "import tensorflow as tf\n",
    "from utils import generator_xy\n",
    "import keras\n",
    "import edward as ed\n",
    "import numpy as np\n",
    "from observations import mnist\n",
    "import matplotlib.pyplot as plt\n",
    "from edward.models import Normal, Bernoulli, Categorical\n",
    "import pickle\n",
    "import seaborn as sns\n",
    "plt.style.use('ggplot')"
   ]
  },
  {
   "cell_type": "code",
   "execution_count": 2,
   "metadata": {},
   "outputs": [],
   "source": [
    "sess = tf.InteractiveSession()\n",
    "ed.set_seed(100)\n",
    "M = 12000\n",
    "num_latent = 32\n",
    "num_hidden = 16\n",
    "D = 28*28\n",
    "num_class = 10\n",
    "(x_train, y_train), (x_test, y_test) = mnist('./data')\n",
    "y_train = tf.cast(y_train, tf.int32).eval()\n",
    "y_test = tf.cast(y_test, tf.int32).eval()\n",
    "x_train = x_train.astype('float32') / 255.\n",
    "x_test = x_test.astype('float32') / 255.\n",
    "x_train_generator = generator_xy([x_train,y_train], M)"
   ]
  },
  {
   "cell_type": "code",
   "execution_count": 3,
   "metadata": {},
   "outputs": [
    {
     "data": {
      "image/png": "[encoded data removed]",
      "text/plain": [
       "<matplotlib.figure.Figure at 0x7f4c14b91f98>"
      ]
     },
     "metadata": {},
     "output_type": "display_data"
    }
   ],
   "source": [
    "f, axes = plt.subplots(2, 2)\n",
    "for ax, i in zip(axes.flat[0:], range(4)):\n",
    "    ax.imshow(x_train[i,:].reshape(28,28),cmap = 'gray')\n",
    "plt.show()"
   ]
  },
  {
   "cell_type": "code",
   "execution_count": 4,
   "metadata": {},
   "outputs": [],
   "source": [
    "\n",
    "def auto_encoder(x, W_encode, W_decode, b_endoce, b_decode):\n",
    "    h = tf.nn.relu(tf.matmul(x,W_encode) + b_encode)\n",
    "    h = tf.nn.sigmoid(tf.matmul(h,W_decode) + b_decode)\n",
    "    return h\n",
    "\n",
    "def mlp(x, W_1, W_2, b_1, b_2):\n",
    "    h = tf.nn.relu(tf.matmul(x, W_1) + b_1)\n",
    "    h = tf.nn.softmax(tf.matmul(h, W_2) + b_2)\n",
    "    return h\n",
    "\n",
    "def encoder(x, W_encode, b_encode):\n",
    "    h = tf.nn.relu(tf.matmul(x,W_encode) + b_encode)\n",
    "    return h\n",
    "\n",
    "def accuracy(y_true, y_pred):\n",
    "    correct = 0\n",
    "    for i in range(len(y_true)):\n",
    "        if y_true[i] == y_pred[i]:\n",
    "            correct += 1\n",
    "        else:\n",
    "            pass\n",
    "    return correct/len(y_true)* 1."
   ]
  },
  {
   "cell_type": "code",
   "execution_count": 5,
   "metadata": {},
   "outputs": [],
   "source": [
    "W_encode = Normal(loc = tf.zeros([D, num_latent]), scale = 0.01 * tf.ones([D, num_latent]))\n",
    "W_decode = Normal(loc = tf.zeros([num_latent, D]), scale = 0.01 * tf.ones([num_latent,D]))\n",
    "b_encode = Normal(loc = tf.zeros(num_latent), scale = 0.01 * tf.ones(num_latent))\n",
    "b_decode = Normal(loc = tf.zeros(D), scale = 0.01 * tf.ones(D))\n",
    "W_clf_1  = Normal(loc = tf.zeros([num_latent, num_hidden]), scale = tf.ones([num_latent, num_hidden]))\n",
    "b_clf_1  = Normal(loc = tf.zeros(num_hidden), scale = tf.ones(num_hidden)) \n",
    "W_clf_2  = Normal(loc = tf.zeros([num_hidden,num_class]), scale = tf.ones([num_hidden, num_class]))\n",
    "b_clf_2  = Normal(loc = tf.zeros(num_class), scale = tf.ones(num_class))\n",
    "\n",
    "\n",
    "x = tf.placeholder(tf.float32, [None, D])\n",
    "\n",
    "x_reconstruct = Normal(loc=auto_encoder(x, W_encode, W_decode, b_encode, b_decode),\n",
    "                      scale = 0.1 *tf.ones([D]))\n",
    "y = Categorical(logits = mlp(encoder(x, W_encode, b_encode) \n",
    "                             , W_clf_1, W_clf_2, b_clf_1, b_clf_2))"
   ]
  },
  {
   "cell_type": "code",
   "execution_count": 6,
   "metadata": {},
   "outputs": [],
   "source": [
    "qW_encode = Normal(loc = tf.Variable(tf.random_normal([D,num_latent])),\n",
    "                  scale = tf.nn.softplus(tf.Variable(tf.random_normal([D,num_latent]))))\n",
    "qW_decode = Normal(loc = tf.Variable(tf.random_normal([num_latent ,D])),\n",
    "                  scale = tf.nn.softplus(tf.Variable(tf.random_normal([num_latent,D]))))\n",
    "qb_encode = Normal(loc = tf.Variable(tf.random_normal([num_latent])),\n",
    "                  scale = tf.nn.softplus(tf.Variable(tf.random_normal([num_latent]))))\n",
    "qb_decode = Normal(loc = tf.Variable(tf.random_normal([D])),\n",
    "                   scale = tf.nn.softplus(tf.Variable(tf.random_normal([D]))))\n",
    "\n",
    "qW_clf_1 = Normal(loc = tf.Variable(tf.random_normal([num_latent,num_hidden])),\n",
    "                  scale = tf.nn.softplus(tf.Variable(tf.random_normal([num_latent,num_hidden]))))\n",
    "qW_clf_2 = Normal(loc = tf.Variable(tf.random_normal([num_hidden,num_class])),\n",
    "                  scale = tf.nn.softplus(tf.Variable(tf.random_normal([num_hidden,num_class]))))\n",
    "qb_clf_1 = Normal(loc = tf.Variable(tf.random_normal([num_hidden])),\n",
    "                  scale = tf.nn.softplus(tf.Variable(tf.random_normal([num_hidden]))))\n",
    "qb_clf_2 = Normal(loc = tf.Variable(tf.random_normal([num_class])),\n",
    "                   scale = tf.nn.softplus(tf.Variable(tf.random_normal([num_class]))))\n",
    "\n"
   ]
  },
  {
   "cell_type": "code",
   "execution_count": 7,
   "metadata": {},
   "outputs": [],
   "source": [
    "reconstruct = tf.stack([auto_encoder(x,qW_encode.sample(), \n",
    "                                   qW_decode.sample(), qb_encode.sample(), \n",
    "                                   qb_decode.sample()) \n",
    "                          for _ in range(4)])\n",
    "tf.global_variables_initializer().run()\n",
    "out = sess.run(reconstruct, feed_dict = {x: x_train})\n"
   ]
  },
  {
   "cell_type": "code",
   "execution_count": 8,
   "metadata": {},
   "outputs": [
    {
     "name": "stdout",
     "output_type": "stream",
     "text": [
      "(4, 60000, 784)\n"
     ]
    },
    {
     "data": {
      "image/png": "[encoded data removed]",
      "text/plain": [
       "<matplotlib.figure.Figure at 0x7f4c0828c940>"
      ]
     },
     "metadata": {},
     "output_type": "display_data"
    },
    {
     "data": {
      "image/png": "[encoded data removed]",
      "text/plain": [
       "<matplotlib.figure.Figure at 0x7f4c082b4320>"
      ]
     },
     "metadata": {},
     "output_type": "display_data"
    }
   ],
   "source": [
    "print(out.shape)\n",
    "f, axes = plt.subplots(2, 2)\n",
    "for ax, i in zip(axes.flat[0:], range(4)):\n",
    "    ax.imshow(out[i,0,:].reshape(28,28),cmap = 'gray')\n",
    "plt.show()\n",
    "plt.imshow(x_train[0,:].reshape(28, 28), cmap = 'gray')\n",
    "plt.show()"
   ]
  },
  {
   "cell_type": "code",
   "execution_count": 9,
   "metadata": {},
   "outputs": [],
   "source": [
    "inference = ed.KLqp({W_encode:qW_encode, b_encode:qb_encode,\n",
    "                    W_decode:qW_decode, b_decode:qb_decode, \n",
    "                    W_clf_1: qW_clf_1, W_clf_2: qW_clf_2, \n",
    "                    b_clf_1: qb_clf_1, b_clf_2: qb_clf_2}, \n",
    "                    data = {x: x_train, x_reconstruct: x_train, \n",
    "                           y: y_train})\n",
    "inference.initialize(n_iter = 1000, n_samples = 5)\n",
    "tf.global_variables_initializer().run()\n"
   ]
  },
  {
   "cell_type": "code",
   "execution_count": 10,
   "metadata": {},
   "outputs": [
    {
     "name": "stdout",
     "output_type": "stream",
     "text": [
      "Epoch: 1\n",
      "-log p(x) <= 96387.814\n",
      "Epoch: 2\n",
      "-log p(x) <= 48690.386\n",
      "Epoch: 3\n",
      "-log p(x) <= 39355.990\n",
      "Epoch: 4\n",
      "-log p(x) <= 35090.252\n",
      "Epoch: 5\n",
      "-log p(x) <= 31599.363\n",
      "Epoch: 6\n",
      "-log p(x) <= 28746.225\n",
      "Epoch: 7\n",
      "-log p(x) <= 26314.307\n",
      "Epoch: 8\n",
      "-log p(x) <= 24407.604\n",
      "Epoch: 9\n",
      "-log p(x) <= 22967.093\n",
      "Epoch: 10\n",
      "-log p(x) <= 21731.030\n",
      "Epoch: 11\n",
      "-log p(x) <= 20767.852\n",
      "Epoch: 12\n",
      "-log p(x) <= 20133.123\n",
      "Epoch: 13\n",
      "-log p(x) <= 19573.707\n",
      "Epoch: 14\n",
      "-log p(x) <= 18986.375\n",
      "Epoch: 15\n",
      "-log p(x) <= 18257.526\n",
      "Epoch: 16\n",
      "-log p(x) <= 17134.813\n",
      "Epoch: 17\n",
      "-log p(x) <= 15890.058\n",
      "Epoch: 18\n",
      "-log p(x) <= 14114.918\n",
      "Epoch: 19\n",
      "-log p(x) <= 11901.653\n",
      "Epoch: 20\n",
      "-log p(x) <= 10254.907\n",
      "Epoch: 21\n",
      "-log p(x) <= 9219.510\n",
      "Epoch: 22\n",
      "-log p(x) <= 8037.872\n",
      "Epoch: 23\n",
      "-log p(x) <= 7249.754\n",
      "Epoch: 24\n",
      "-log p(x) <= 6376.087\n",
      "Epoch: 25\n",
      "-log p(x) <= 5464.137\n",
      "Epoch: 26\n",
      "-log p(x) <= 4726.524\n",
      "Epoch: 27\n",
      "-log p(x) <= 4890.878\n",
      "Epoch: 28\n",
      "-log p(x) <= 4856.700\n",
      "Epoch: 29\n",
      "-log p(x) <= 4156.060\n",
      "Epoch: 30\n",
      "-log p(x) <= 3712.953\n",
      "Epoch: 31\n",
      "-log p(x) <= 3287.373\n",
      "Epoch: 32\n",
      "-log p(x) <= 3222.421\n",
      "Epoch: 33\n",
      "-log p(x) <= 3421.108\n",
      "Epoch: 34\n",
      "-log p(x) <= 3037.520\n",
      "Epoch: 35\n",
      "-log p(x) <= 2905.610\n",
      "Epoch: 36\n",
      "-log p(x) <= 2377.489\n",
      "Epoch: 37\n",
      "-log p(x) <= 2938.319\n",
      "Epoch: 38\n",
      "-log p(x) <= 2705.568\n",
      "Epoch: 39\n",
      "-log p(x) <= 2366.849\n",
      "Epoch: 40\n",
      "-log p(x) <= 2072.719\n",
      "Epoch: 41\n",
      "-log p(x) <= 1673.305\n",
      "Epoch: 42\n",
      "-log p(x) <= 1458.861\n",
      "Epoch: 43\n",
      "-log p(x) <= 1257.642\n",
      "Epoch: 44\n",
      "-log p(x) <= 842.738\n",
      "Epoch: 45\n",
      "-log p(x) <= 739.394\n",
      "Epoch: 46\n",
      "-log p(x) <= 462.556\n",
      "Epoch: 47\n",
      "-log p(x) <= 2081.255\n",
      "Epoch: 48\n",
      "-log p(x) <= 1600.340\n",
      "Epoch: 49\n",
      "-log p(x) <= 1110.502\n",
      "Epoch: 50\n",
      "-log p(x) <= 805.617\n"
     ]
    }
   ],
   "source": [
    "n_epoch = 50\n",
    "n_iter_per_epoch = x_train.shape[0] // M\n",
    "log_loss = []\n",
    "for epoch in range(1, n_epoch + 1):\n",
    "  print(\"Epoch: {0}\".format(epoch))\n",
    "  avg_loss = 0.0\n",
    "\n",
    "  pbar = Progbar(n_iter_per_epoch, verbose = 0)\n",
    "  for t in range(1, n_iter_per_epoch + 1):\n",
    "    pbar.update(t)\n",
    "    x_batch, y_batch = next(x_train_generator)\n",
    "    info_dict = inference.update(feed_dict={x: x_batch, x_reconstruct: x_batch, \n",
    "                                           y: y_batch})\n",
    "    avg_loss += info_dict['loss']\n",
    "  avg_loss = avg_loss / n_iter_per_epoch\n",
    "  avg_loss = avg_loss / M\n",
    "  log_loss.append(avg_loss)\n",
    "  print(\"-log p(x) <= {:0.3f}\".format(avg_loss))\n",
    "    "
   ]
  },
  {
   "cell_type": "code",
   "execution_count": 16,
   "metadata": {},
   "outputs": [
    {
     "data": {
      "image/png": "[encoded data removed]",
      "text/plain": [
       "<matplotlib.figure.Figure at 0x7f4bbaabe860>"
      ]
     },
     "metadata": {},
     "output_type": "display_data"
    },
    {
     "data": {
      "image/png": "[encoded data removed]",
      "text/plain": [
       "<matplotlib.figure.Figure at 0x7f4bbaabebe0>"
      ]
     },
     "metadata": {},
     "output_type": "display_data"
    }
   ],
   "source": [
    "out = sess.run(reconstruct, feed_dict={x: x_test})\n",
    "f, axes = plt.subplots(2, 2)\n",
    "for ax, i in zip(axes.flat[0:], range(4)):\n",
    "    ax.imshow(out[i,5,:].reshape(28,28),cmap = 'gray')\n",
    "plt.show()\n",
    "plt.imshow(x_test[5,:].reshape(28, 28), cmap = 'gray')\n",
    "plt.show()"
   ]
  },
  {
   "cell_type": "code",
   "execution_count": 12,
   "metadata": {},
   "outputs": [
    {
     "name": "stdout",
     "output_type": "stream",
     "text": [
      "(60000, 32)\n",
      "(10000, 32)\n"
     ]
    }
   ],
   "source": [
    "encode_weights = qW_encode.sample()\n",
    "encode_bias = qb_encode.sample()\n",
    "train_encoded = tf.matmul(x_train, encode_weights) + encode_bias\n",
    "test_encoded = tf.matmul(x_test, encode_weights) + encode_bias\n",
    "print(train_encoded.eval().shape)\n",
    "print(test_encoded.eval().shape)\n",
    "# with open('./data/encoded_train_BAE.pkl','wb') as f:\n",
    "#     pickle.dump(train_encoded.eval(),f)\n",
    "# with open('./data/encoded_test_BAE.pkl','wb') as f:\n",
    "#     pickle.dump(test_encoded.eval(),f)"
   ]
  },
  {
   "cell_type": "code",
   "execution_count": 13,
   "metadata": {},
   "outputs": [
    {
     "data": {
      "image/png": "[encoded data removed]",
      "text/plain": [
       "<matplotlib.figure.Figure at 0x7f4bbb056ac8>"
      ]
     },
     "metadata": {},
     "output_type": "display_data"
    }
   ],
   "source": [
    "plt.plot(range(50), log_loss)\n",
    "plt.show()"
   ]
  },
  {
   "cell_type": "code",
   "execution_count": 14,
   "metadata": {},
   "outputs": [
    {
     "name": "stdout",
     "output_type": "stream",
     "text": [
      "0.22573333333333334\n",
      "0.0997\n"
     ]
    }
   ],
   "source": [
    "sample_W1 = qW_clf_1.sample()\n",
    "sample_W2 = qW_clf_2.sample()\n",
    "sample_b1 = qb_clf_1.sample()\n",
    "sample_b2 = qb_clf_2.sample()\n",
    "\n",
    "y_pred_train = mlp(train_encoded, sample_W1,sample_W2,sample_b1, sample_b2)\n",
    "y_pred_train = [np.argmax(i) for i in y_pred_train.eval()]\n",
    "\n",
    "y_pred_test = mlp(test_encoded, sample_W1,sample_W2,sample_b1, sample_b2)\n",
    "y_pred_test = [np.argmax(i) for i in y_pred_test.eval()]\n",
    "\n",
    "print(accuracy(y_train, y_pred_train))\n",
    "print(accuracy(y_test, y_pred_test))"
   ]
  },
  {
   "cell_type": "code",
   "execution_count": 15,
   "metadata": {},
   "outputs": [
    {
     "data": {
      "image/png": "[encoded data removed]",
      "text/plain": [
       "<matplotlib.figure.Figure at 0x7f4bbad5ff28>"
      ]
     },
     "metadata": {},
     "output_type": "display_data"
    }
   ],
   "source": [
    "pos_encode = qW_encode.sample().eval()\n",
    "pri_encode = W_encode.sample().eval()\n",
    "\n",
    "sns.distplot(np.ndarray.flatten(pos_encode), color = 'red')\n",
    "sns.distplot(np.ndarray.flatten(pri_encode), color = 'blue')\n",
    "plt.show()"
   ]
  },
  {
   "cell_type": "code",
   "execution_count": null,
   "metadata": {},
   "outputs": [],
   "source": []
  }
 ],
 "metadata": {
  "kernelspec": {
   "display_name": "Python 3",
   "language": "python",
   "name": "python3"
  },
  "language_info": {
   "codemirror_mode": {
    "name": "ipython",
    "version": 3
   },
   "file_extension": ".py",
   "mimetype": "text/x-python",
   "name": "python",
   "nbconvert_exporter": "python",
   "pygments_lexer": "ipython3",
   "version": "3.5.3"
  }
 },
 "nbformat": 4,
 "nbformat_minor": 2
}
