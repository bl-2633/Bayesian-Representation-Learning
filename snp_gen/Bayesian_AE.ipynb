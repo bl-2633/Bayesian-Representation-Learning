{
 "cells": [
  {
   "cell_type": "code",
   "execution_count": 1,
   "metadata": {},
   "outputs": [
    {
     "name": "stderr",
     "output_type": "stream",
     "text": [
      "Using TensorFlow backend.\n"
     ]
    }
   ],
   "source": [
    "%matplotlib inline\n",
    "from edward.util import Progbar\n",
    "import tensorflow as tf\n",
    "from utils import generator_xy\n",
    "import keras\n",
    "import edward as ed\n",
    "import numpy as np\n",
    "from observations import mnist\n",
    "import matplotlib.pyplot as plt\n",
    "from edward.models import Normal, Bernoulli, Categorical\n",
    "import pickle\n",
    "import seaborn as sns\n",
    "plt.style.use('ggplot')"
   ]
  },
  {
   "cell_type": "code",
   "execution_count": 2,
   "metadata": {},
   "outputs": [],
   "source": [
    "sess = tf.InteractiveSession()\n",
    "ed.set_seed(100)\n",
    "M = 12000\n",
    "(x_train, y_train), (x_test, y_test) = mnist('./data')\n",
    "y_train = tf.cast(y_train, tf.int32).eval()\n",
    "y_test = tf.cast(y_test, tf.int32).eval()\n",
    "x_train = x_train.astype('float32') / 255.\n",
    "x_test = x_test.astype('float32') / 255.\n",
    "x_train_generator = generator_xy([x_train,y_train], M)"
   ]
  },
  {
   "cell_type": "code",
   "execution_count": 3,
   "metadata": {},
   "outputs": [
    {
     "data": {
      "image/png": "[encoded data removed]",
      "text/plain": [
       "<matplotlib.figure.Figure at 0x7fd0f9f53eb8>"
      ]
     },
     "metadata": {},
     "output_type": "display_data"
    }
   ],
   "source": [
    "f, axes = plt.subplots(2, 2)\n",
    "for ax, i in zip(axes.flat[0:], range(4)):\n",
    "    ax.imshow(x_train[i,:].reshape(28,28),cmap = 'gray')\n",
    "plt.show()"
   ]
  },
  {
   "cell_type": "code",
   "execution_count": 4,
   "metadata": {},
   "outputs": [],
   "source": [
    "\n",
    "def auto_encoder(x, W_encode, W_decode, b_endoce, b_decode):\n",
    "    h = tf.nn.relu(tf.matmul(x,W_encode) + b_encode)\n",
    "    h = tf.nn.sigmoid(tf.matmul(h,W_decode) + b_decode)\n",
    "    return h\n",
    "\n",
    "def mlp(x, W_1, W_2, b_1, b_2):\n",
    "    h = tf.nn.relu(tf.matmul(x, W_1) + b_1)\n",
    "    h = tf.nn.softmax(tf.matmul(h, W_2) + b_2)\n",
    "    return h\n",
    "\n",
    "def encoder(x, W_encode, b_encode):\n",
    "    h = tf.nn.relu(tf.matmul(x,W_encode) + b_encode)\n",
    "    return h\n",
    "\n",
    "def accuracy(y_true, y_pred):\n",
    "    correct = 0\n",
    "    for i in range(len(y_true)):\n",
    "        if y_true[i] == y_pred[i]:\n",
    "            correct += 1\n",
    "        else:\n",
    "            pass\n",
    "    return correct/len(y_true)* 1."
   ]
  },
  {
   "cell_type": "code",
   "execution_count": 5,
   "metadata": {},
   "outputs": [],
   "source": [
    "W_encode = Normal(loc = tf.zeros([28*28, 32]), scale = 0.01 * tf.ones([28*28, 32]))\n",
    "W_decode = Normal(loc = tf.zeros([32, 28*28]), scale = 0.01 * tf.ones([32,28*28]))\n",
    "b_encode = Normal(loc = tf.zeros(32), scale = 0.01 * tf.ones(32))\n",
    "b_decode = Normal(loc = tf.zeros(28*28), scale = 0.01 * tf.ones(28*28))\n",
    "W_clf_1  = Normal(loc = tf.zeros([32, 16]), scale = tf.ones([32, 16]))\n",
    "b_clf_1  = Normal(loc = tf.zeros(16), scale = tf.ones(16)) \n",
    "W_clf_2  = Normal(loc = tf.zeros([16,10]), scale = tf.ones([16, 10]))\n",
    "b_clf_2  = Normal(loc = tf.zeros(10), scale = tf.ones(10))\n",
    "\n",
    "\n",
    "x = tf.placeholder(tf.float32, [None, 28 * 28])\n",
    "\n",
    "x_reconstruct = Normal(loc=auto_encoder(x, W_encode, W_decode, b_encode, b_decode),\n",
    "                      scale = 0.1 *tf.ones([28*28]))\n",
    "y = Categorical(logits = mlp(encoder(x, W_encode, b_encode) \n",
    "                             , W_clf_1, W_clf_2, b_clf_1, b_clf_2))"
   ]
  },
  {
   "cell_type": "code",
   "execution_count": 6,
   "metadata": {},
   "outputs": [],
   "source": [
    "qW_encode = Normal(loc = tf.Variable(tf.random_normal([28*28,32])),\n",
    "                  scale = tf.nn.softplus(tf.Variable(tf.random_normal([28*28,32]))))\n",
    "qW_decode = Normal(loc = tf.Variable(tf.random_normal([32,28*28])),\n",
    "                  scale = tf.nn.softplus(tf.Variable(tf.random_normal([32,28*28]))))\n",
    "qb_encode = Normal(loc = tf.Variable(tf.random_normal([32])),\n",
    "                  scale = tf.nn.softplus(tf.Variable(tf.random_normal([32]))))\n",
    "qb_decode = Normal(loc = tf.Variable(tf.random_normal([28*28])),\n",
    "                   scale = tf.nn.softplus(tf.Variable(tf.random_normal([28*28]))))\n",
    "\n",
    "qW_clf_1 = Normal(loc = tf.Variable(tf.random_normal([32,16])),\n",
    "                  scale = tf.nn.softplus(tf.Variable(tf.random_normal([32,16]))))\n",
    "qW_clf_2 = Normal(loc = tf.Variable(tf.random_normal([16,10])),\n",
    "                  scale = tf.nn.softplus(tf.Variable(tf.random_normal([16,10]))))\n",
    "qb_clf_1 = Normal(loc = tf.Variable(tf.random_normal([16])),\n",
    "                  scale = tf.nn.softplus(tf.Variable(tf.random_normal([16]))))\n",
    "qb_clf_2 = Normal(loc = tf.Variable(tf.random_normal([10])),\n",
    "                   scale = tf.nn.softplus(tf.Variable(tf.random_normal([10]))))\n",
    "\n"
   ]
  },
  {
   "cell_type": "code",
   "execution_count": 7,
   "metadata": {},
   "outputs": [],
   "source": [
    "reconstruct = tf.stack([auto_encoder(x,qW_encode.sample(), \n",
    "                                   qW_decode.sample(), qb_encode.sample(), \n",
    "                                   qb_decode.sample()) \n",
    "                          for _ in range(4)])\n",
    "tf.global_variables_initializer().run()\n",
    "out = sess.run(reconstruct, feed_dict = {x: x_train})\n"
   ]
  },
  {
   "cell_type": "code",
   "execution_count": 8,
   "metadata": {},
   "outputs": [
    {
     "name": "stdout",
     "output_type": "stream",
     "text": [
      "(4, 60000, 784)\n"
     ]
    },
    {
     "data": {
      "image/png": "[encoded data removed]",
      "text/plain": [
       "<matplotlib.figure.Figure at 0x7fd0f067dc18>"
      ]
     },
     "metadata": {},
     "output_type": "display_data"
    },
    {
     "data": {
      "image/png": "[encoded data removed]",
      "text/plain": [
       "<matplotlib.figure.Figure at 0x7fd0f067de48>"
      ]
     },
     "metadata": {},
     "output_type": "display_data"
    }
   ],
   "source": [
    "print(out.shape)\n",
    "f, axes = plt.subplots(2, 2)\n",
    "for ax, i in zip(axes.flat[0:], range(4)):\n",
    "    ax.imshow(out[i,0,:].reshape(28,28),cmap = 'gray')\n",
    "plt.show()\n",
    "plt.imshow(x_train[0,:].reshape(28, 28), cmap = 'gray')\n",
    "plt.show()"
   ]
  },
  {
   "cell_type": "code",
   "execution_count": 9,
   "metadata": {},
   "outputs": [],
   "source": [
    "inference = ed.KLqp({W_encode:qW_encode, b_encode:qb_encode,\n",
    "                    W_decode:qW_decode, b_decode:qb_decode, \n",
    "                    W_clf_1: qW_clf_1, W_clf_2: qW_clf_2, \n",
    "                    b_clf_1: qb_clf_1, b_clf_2: qb_clf_2}, \n",
    "                    data = {x: x_train, x_reconstruct: x_train, \n",
    "                           y: y_train})\n",
    "inference.initialize(n_iter = 1000, n_samples = 5)\n",
    "tf.global_variables_initializer().run()\n"
   ]
  },
  {
   "cell_type": "code",
   "execution_count": 10,
   "metadata": {},
   "outputs": [
    {
     "name": "stdout",
     "output_type": "stream",
     "text": [
      "Epoch: 1\n",
      "-log p(x) <= 96617.044\n",
      "Epoch: 2\n",
      "-log p(x) <= 48204.803\n",
      "Epoch: 3\n",
      "-log p(x) <= 39309.185\n",
      "Epoch: 4\n",
      "-log p(x) <= 35142.576\n",
      "Epoch: 5\n",
      "-log p(x) <= 31669.208\n",
      "Epoch: 6\n",
      "-log p(x) <= 28698.641\n",
      "Epoch: 7\n",
      "-log p(x) <= 26305.433\n",
      "Epoch: 8\n",
      "-log p(x) <= 24348.829\n",
      "Epoch: 9\n",
      "-log p(x) <= 22843.838\n",
      "Epoch: 10\n",
      "-log p(x) <= 21725.222\n",
      "Epoch: 11\n",
      "-log p(x) <= 20791.193\n",
      "Epoch: 12\n",
      "-log p(x) <= 20126.327\n",
      "Epoch: 13\n",
      "-log p(x) <= 19567.169\n",
      "Epoch: 14\n",
      "-log p(x) <= 19077.987\n",
      "Epoch: 15\n",
      "-log p(x) <= 18436.845\n",
      "Epoch: 16\n",
      "-log p(x) <= 17401.031\n",
      "Epoch: 17\n",
      "-log p(x) <= 15500.230\n",
      "Epoch: 18\n",
      "-log p(x) <= 13501.496\n",
      "Epoch: 19\n",
      "-log p(x) <= 12586.001\n",
      "Epoch: 20\n",
      "-log p(x) <= 10943.463\n",
      "Epoch: 21\n",
      "-log p(x) <= 9725.199\n",
      "Epoch: 22\n",
      "-log p(x) <= 8592.011\n",
      "Epoch: 23\n",
      "-log p(x) <= 7509.448\n",
      "Epoch: 24\n",
      "-log p(x) <= 6664.961\n",
      "Epoch: 25\n",
      "-log p(x) <= 5867.092\n",
      "Epoch: 26\n",
      "-log p(x) <= 5235.123\n",
      "Epoch: 27\n",
      "-log p(x) <= 4812.819\n",
      "Epoch: 28\n",
      "-log p(x) <= 4210.392\n",
      "Epoch: 29\n",
      "-log p(x) <= 3928.008\n",
      "Epoch: 30\n",
      "-log p(x) <= 4055.998\n",
      "Epoch: 31\n",
      "-log p(x) <= 3558.281\n",
      "Epoch: 32\n",
      "-log p(x) <= 3428.297\n",
      "Epoch: 33\n",
      "-log p(x) <= 3203.929\n",
      "Epoch: 34\n",
      "-log p(x) <= 2639.481\n",
      "Epoch: 35\n",
      "-log p(x) <= 3186.283\n",
      "Epoch: 36\n",
      "-log p(x) <= 3618.608\n",
      "Epoch: 37\n",
      "-log p(x) <= 3046.100\n",
      "Epoch: 38\n",
      "-log p(x) <= 2496.747\n",
      "Epoch: 39\n",
      "-log p(x) <= 2239.866\n",
      "Epoch: 40\n",
      "-log p(x) <= 2604.886\n",
      "Epoch: 41\n",
      "-log p(x) <= 2400.479\n",
      "Epoch: 42\n",
      "-log p(x) <= 1789.172\n",
      "Epoch: 43\n",
      "-log p(x) <= 1314.969\n",
      "Epoch: 44\n",
      "-log p(x) <= 1690.404\n",
      "Epoch: 45\n",
      "-log p(x) <= 1239.923\n",
      "Epoch: 46\n",
      "-log p(x) <= 1161.971\n",
      "Epoch: 47\n",
      "-log p(x) <= 936.012\n",
      "Epoch: 48\n",
      "-log p(x) <= 672.519\n",
      "Epoch: 49\n",
      "-log p(x) <= 447.326\n",
      "Epoch: 50\n",
      "-log p(x) <= 1625.241\n",
      "Epoch: 51\n",
      "-log p(x) <= 885.821\n",
      "Epoch: 52\n",
      "-log p(x) <= 624.089\n",
      "Epoch: 53\n",
      "-log p(x) <= 638.109\n",
      "Epoch: 54\n",
      "-log p(x) <= 1781.237\n",
      "Epoch: 55\n",
      "-log p(x) <= 1086.057\n",
      "Epoch: 56\n",
      "-log p(x) <= 550.508\n",
      "Epoch: 57\n",
      "-log p(x) <= 412.098\n",
      "Epoch: 58\n",
      "-log p(x) <= 690.773\n",
      "Epoch: 59\n",
      "-log p(x) <= 470.469\n",
      "Epoch: 60\n",
      "-log p(x) <= 110.996\n",
      "Epoch: 61\n",
      "-log p(x) <= 16.873\n",
      "Epoch: 62\n",
      "-log p(x) <= -293.666\n",
      "Epoch: 63\n",
      "-log p(x) <= -157.469\n",
      "Epoch: 64\n",
      "-log p(x) <= -278.816\n",
      "Epoch: 65\n",
      "-log p(x) <= -302.570\n",
      "Epoch: 66\n",
      "-log p(x) <= -382.428\n",
      "Epoch: 67\n",
      "-log p(x) <= -424.772\n",
      "Epoch: 68\n",
      "-log p(x) <= -377.773\n",
      "Epoch: 69\n",
      "-log p(x) <= -497.730\n",
      "Epoch: 70\n",
      "-log p(x) <= -563.193\n",
      "Epoch: 71\n",
      "-log p(x) <= -426.350\n",
      "Epoch: 72\n",
      "-log p(x) <= -632.911\n",
      "Epoch: 73\n",
      "-log p(x) <= -834.853\n",
      "Epoch: 74\n",
      "-log p(x) <= -628.593\n",
      "Epoch: 75\n",
      "-log p(x) <= -548.379\n",
      "Epoch: 76\n",
      "-log p(x) <= -785.461\n",
      "Epoch: 77\n",
      "-log p(x) <= -591.117\n",
      "Epoch: 78\n",
      "-log p(x) <= -488.180\n",
      "Epoch: 79\n",
      "-log p(x) <= -827.761\n",
      "Epoch: 80\n",
      "-log p(x) <= -778.617\n",
      "Epoch: 81\n",
      "-log p(x) <= -886.481\n",
      "Epoch: 82\n",
      "-log p(x) <= -972.205\n",
      "Epoch: 83\n",
      "-log p(x) <= -1055.652\n",
      "Epoch: 84\n",
      "-log p(x) <= -1242.477\n",
      "Epoch: 85\n",
      "-log p(x) <= -744.576\n",
      "Epoch: 86\n",
      "-log p(x) <= -629.755\n",
      "Epoch: 87\n",
      "-log p(x) <= -923.356\n",
      "Epoch: 88\n",
      "-log p(x) <= -1092.892\n",
      "Epoch: 89\n",
      "-log p(x) <= -1173.349\n",
      "Epoch: 90\n",
      "-log p(x) <= -1117.132\n",
      "Epoch: 91\n",
      "-log p(x) <= -1038.832\n",
      "Epoch: 92\n",
      "-log p(x) <= -1229.659\n",
      "Epoch: 93\n",
      "-log p(x) <= -1255.790\n",
      "Epoch: 94\n",
      "-log p(x) <= -979.619\n",
      "Epoch: 95\n",
      "-log p(x) <= -1148.864\n",
      "Epoch: 96\n",
      "-log p(x) <= -1317.557\n",
      "Epoch: 97\n",
      "-log p(x) <= -1370.856\n",
      "Epoch: 98\n",
      "-log p(x) <= -1471.226\n",
      "Epoch: 99\n",
      "-log p(x) <= -424.226\n",
      "Epoch: 100\n",
      "-log p(x) <= -465.446\n"
     ]
    }
   ],
   "source": [
    "n_epoch = 100\n",
    "n_iter_per_epoch = x_train.shape[0] // M\n",
    "log_loss = []\n",
    "for epoch in range(1, n_epoch + 1):\n",
    "  print(\"Epoch: {0}\".format(epoch))\n",
    "  avg_loss = 0.0\n",
    "\n",
    "  pbar = Progbar(n_iter_per_epoch, verbose = 0)\n",
    "  for t in range(1, n_iter_per_epoch + 1):\n",
    "    pbar.update(t)\n",
    "    x_batch, y_batch = next(x_train_generator)\n",
    "    info_dict = inference.update(feed_dict={x: x_batch, x_reconstruct: x_batch, \n",
    "                                           y: y_batch})\n",
    "    avg_loss += info_dict['loss']\n",
    "  avg_loss = avg_loss / n_iter_per_epoch\n",
    "  avg_loss = avg_loss / M\n",
    "  log_loss.append(avg_loss)\n",
    "  print(\"-log p(x) <= {:0.3f}\".format(avg_loss))\n",
    "    "
   ]
  },
  {
   "cell_type": "code",
   "execution_count": 15,
   "metadata": {},
   "outputs": [
    {
     "data": {
      "image/png": "[encoded data removed]",
      "text/plain": [
       "<matplotlib.figure.Figure at 0x7fd0c906c7f0>"
      ]
     },
     "metadata": {},
     "output_type": "display_data"
    },
    {
     "data": {
      "image/png": "[encoded data removed]",
      "text/plain": [
       "<matplotlib.figure.Figure at 0x7fd0c9068518>"
      ]
     },
     "metadata": {},
     "output_type": "display_data"
    }
   ],
   "source": [
    "out = sess.run(reconstruct, feed_dict={x: x_test})\n",
    "f, axes = plt.subplots(2, 2)\n",
    "for ax, i in zip(axes.flat[0:], range(4)):\n",
    "    ax.imshow(out[i,0,:].reshape(28,28),cmap = 'gray')\n",
    "plt.show()\n",
    "plt.imshow(x_test[0,:].reshape(28, 28), cmap = 'gray')\n",
    "plt.show()"
   ]
  },
  {
   "cell_type": "code",
   "execution_count": 12,
   "metadata": {},
   "outputs": [
    {
     "name": "stdout",
     "output_type": "stream",
     "text": [
      "(60000, 32)\n",
      "(10000, 32)\n"
     ]
    }
   ],
   "source": [
    "encode_weights = qW_encode.sample()\n",
    "encode_bias = qb_encode.sample()\n",
    "train_encoded = tf.matmul(x_train, encode_weights) + encode_bias\n",
    "test_encoded = tf.matmul(x_test, encode_weights) + encode_bias\n",
    "print(train_encoded.eval().shape)\n",
    "print(test_encoded.eval().shape)\n",
    "# with open('./data/encoded_train_BAE.pkl','wb') as f:\n",
    "#     pickle.dump(train_encoded.eval(),f)\n",
    "# with open('./data/encoded_test_BAE.pkl','wb') as f:\n",
    "#     pickle.dump(test_encoded.eval(),f)"
   ]
  },
  {
   "cell_type": "code",
   "execution_count": 16,
   "metadata": {},
   "outputs": [
    {
     "data": {
      "image/png": "[encoded data removed]",
      "text/plain": [
       "<matplotlib.figure.Figure at 0x7fd0c9007898>"
      ]
     },
     "metadata": {},
     "output_type": "display_data"
    }
   ],
   "source": [
    "plt.plot(range(100), log_loss)\n",
    "plt.show()"
   ]
  },
  {
   "cell_type": "code",
   "execution_count": 27,
   "metadata": {},
   "outputs": [
    {
     "name": "stdout",
     "output_type": "stream",
     "text": [
      "0.84435\n",
      "0.8392\n"
     ]
    }
   ],
   "source": [
    "sample_W1 = qW_clf_1.sample()\n",
    "sample_W2 = qW_clf_2.sample()\n",
    "sample_b1 = qb_clf_1.sample()\n",
    "sample_b2 = qb_clf_2.sample()\n",
    "\n",
    "y_pred_train = mlp(train_encoded, sample_W1,sample_W2,sample_b1, sample_b2)\n",
    "y_pred_train = [np.argmax(i) for i in y_pred_train.eval()]\n",
    "\n",
    "y_pred_test = mlp(test_encoded, sample_W1,sample_W2,sample_b1, sample_b2)\n",
    "y_pred_test = [np.argmax(i) for i in y_pred_test.eval()]\n",
    "\n",
    "print(accuracy(y_train, y_pred_train))\n",
    "print(accuracy(y_test, y_pred_test))"
   ]
  },
  {
   "cell_type": "code",
   "execution_count": 18,
   "metadata": {},
   "outputs": [
    {
     "data": {
      "image/png": "[encoded data removed]",
      "text/plain": [
       "<matplotlib.figure.Figure at 0x7fd0c8fe2278>"
      ]
     },
     "metadata": {},
     "output_type": "display_data"
    }
   ],
   "source": [
    "pos_encode = qW_encode.sample().eval()\n",
    "pri_encode = W_encode.sample().eval()\n",
    "\n",
    "sns.distplot(np.ndarray.flatten(pos_encode), color = 'red')\n",
    "sns.distplot(np.ndarray.flatten(pri_encode), color = 'blue')\n",
    "plt.show()"
   ]
  },
  {
   "cell_type": "code",
   "execution_count": null,
   "metadata": {},
   "outputs": [],
   "source": []
  }
 ],
 "metadata": {
  "kernelspec": {
   "display_name": "Python 3",
   "language": "python",
   "name": "python3"
  },
  "language_info": {
   "codemirror_mode": {
    "name": "ipython",
    "version": 3
   },
   "file_extension": ".py",
   "mimetype": "text/x-python",
   "name": "python",
   "nbconvert_exporter": "python",
   "pygments_lexer": "ipython3",
   "version": "3.5.3"
  }
 },
 "nbformat": 4,
 "nbformat_minor": 2
}
