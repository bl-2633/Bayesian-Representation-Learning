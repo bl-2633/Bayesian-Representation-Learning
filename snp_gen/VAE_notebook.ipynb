{
 "cells": [
  {
   "cell_type": "code",
   "execution_count": 1,
   "metadata": {},
   "outputs": [
    {
     "name": "stderr",
     "output_type": "stream",
     "text": [
      "Using TensorFlow backend.\n"
     ]
    }
   ],
   "source": [
    "from edward.util import Progbar\n",
    "from keras.layers import Dense\n",
    "from observations import mnist\n",
    "import edward as ed\n",
    "import numpy as np\n",
    "import os\n",
    "import tensorflow as tf\n",
    "from edward.models import Bernoulli, Normal\n",
    "from utils import generator\n",
    "from matplotlib import pyplot as plt\n",
    "%matplotlib inline"
   ]
  },
  {
   "cell_type": "code",
   "execution_count": 2,
   "metadata": {},
   "outputs": [],
   "source": [
    "sess = tf.InteractiveSession()\n",
    "d = 2\n",
    "M = 100\n",
    "(x_train, _), (x_test, _) = mnist('./data')\n",
    "x_train_generator = generator(x_train, M)"
   ]
  },
  {
   "cell_type": "code",
   "execution_count": 3,
   "metadata": {},
   "outputs": [],
   "source": [
    "z = Normal(loc=tf.zeros([M, d]), scale=tf.ones([M, d]))\n",
    "hidden = Dense(256, activation='relu')(z.value())\n",
    "x = Bernoulli(logits=Dense(28 * 28)(hidden))\n",
    "#x = Normal(loc = Dense(28 * 28)(hidden),scale = Dense(28 * 28,activation = 'softplus')(hidden))\n",
    "\n",
    "x_ph = tf.placeholder(tf.int32, [None, 28 * 28])\n",
    "hidden = Dense(256, activation='relu')(tf.cast(x_ph, tf.float32))\n",
    "qz = Normal(loc=Dense(d)(hidden),\n",
    "            scale=Dense(d, activation='softplus')(hidden))"
   ]
  },
  {
   "cell_type": "code",
   "execution_count": 4,
   "metadata": {},
   "outputs": [],
   "source": [
    "inference = ed.KLqp({z: qz}, data={x: x_ph})\n",
    "optimizer = tf.train.RMSPropOptimizer(0.01, epsilon=1.0)\n",
    "inference.initialize(optimizer=optimizer)\n",
    "tf.global_variables_initializer().run()"
   ]
  },
  {
   "cell_type": "code",
   "execution_count": 5,
   "metadata": {},
   "outputs": [
    {
     "name": "stdout",
     "output_type": "stream",
     "text": [
      "Epoch: 1\n",
      "600/600 [100%] ██████████████████████████████ Elapsed: 9s\n",
      "-log p(x) <= 189.148\n",
      "Epoch: 2\n",
      "600/600 [100%] ██████████████████████████████ Elapsed: 8s\n",
      "-log p(x) <= 168.990\n",
      "Epoch: 3\n",
      "600/600 [100%] ██████████████████████████████ Elapsed: 8s\n",
      "-log p(x) <= 165.999\n",
      "Epoch: 4\n",
      "600/600 [100%] ██████████████████████████████ Elapsed: 8s\n",
      "-log p(x) <= 164.053\n",
      "Epoch: 5\n",
      "600/600 [100%] ██████████████████████████████ Elapsed: 8s\n",
      "-log p(x) <= 163.014\n",
      "Epoch: 6\n",
      "600/600 [100%] ██████████████████████████████ Elapsed: 8s\n",
      "-log p(x) <= 162.149\n",
      "Epoch: 7\n",
      "600/600 [100%] ██████████████████████████████ Elapsed: 8s\n",
      "-log p(x) <= 161.472\n",
      "Epoch: 8\n",
      "600/600 [100%] ██████████████████████████████ Elapsed: 8s\n",
      "-log p(x) <= 161.013\n",
      "Epoch: 9\n",
      "600/600 [100%] ██████████████████████████████ Elapsed: 8s\n",
      "-log p(x) <= 160.693\n",
      "Epoch: 10\n",
      "600/600 [100%] ██████████████████████████████ Elapsed: 8s\n",
      "-log p(x) <= 160.435\n",
      "Epoch: 11\n",
      "600/600 [100%] ██████████████████████████████ Elapsed: 8s\n",
      "-log p(x) <= 160.072\n",
      "Epoch: 12\n",
      "600/600 [100%] ██████████████████████████████ Elapsed: 8s\n",
      "-log p(x) <= 159.933\n",
      "Epoch: 13\n",
      "600/600 [100%] ██████████████████████████████ Elapsed: 8s\n",
      "-log p(x) <= 159.650\n",
      "Epoch: 14\n",
      "600/600 [100%] ██████████████████████████████ Elapsed: 8s\n",
      "-log p(x) <= 159.674\n",
      "Epoch: 15\n",
      "600/600 [100%] ██████████████████████████████ Elapsed: 8s\n",
      "-log p(x) <= 159.343\n",
      "Epoch: 16\n",
      "600/600 [100%] ██████████████████████████████ Elapsed: 8s\n",
      "-log p(x) <= 159.308\n",
      "Epoch: 17\n",
      "600/600 [100%] ██████████████████████████████ Elapsed: 8s\n",
      "-log p(x) <= 159.212\n",
      "Epoch: 18\n",
      "600/600 [100%] ██████████████████████████████ Elapsed: 8s\n",
      "-log p(x) <= 158.998\n",
      "Epoch: 19\n",
      "600/600 [100%] ██████████████████████████████ Elapsed: 8s\n",
      "-log p(x) <= 159.072\n",
      "Epoch: 20\n",
      "600/600 [100%] ██████████████████████████████ Elapsed: 8s\n",
      "-log p(x) <= 158.906\n",
      "Epoch: 21\n",
      "600/600 [100%] ██████████████████████████████ Elapsed: 8s\n",
      "-log p(x) <= 158.803\n",
      "Epoch: 22\n",
      "600/600 [100%] ██████████████████████████████ Elapsed: 8s\n",
      "-log p(x) <= 158.792\n",
      "Epoch: 23\n",
      "600/600 [100%] ██████████████████████████████ Elapsed: 8s\n",
      "-log p(x) <= 158.775\n",
      "Epoch: 24\n",
      "600/600 [100%] ██████████████████████████████ Elapsed: 8s\n",
      "-log p(x) <= 158.664\n",
      "Epoch: 25\n",
      "600/600 [100%] ██████████████████████████████ Elapsed: 8s\n",
      "-log p(x) <= 158.624\n",
      "Epoch: 26\n",
      "600/600 [100%] ██████████████████████████████ Elapsed: 8s\n",
      "-log p(x) <= 158.506\n",
      "Epoch: 27\n",
      "600/600 [100%] ██████████████████████████████ Elapsed: 8s\n",
      "-log p(x) <= 158.362\n",
      "Epoch: 28\n",
      "600/600 [100%] ██████████████████████████████ Elapsed: 8s\n",
      "-log p(x) <= 158.469\n",
      "Epoch: 29\n",
      "600/600 [100%] ██████████████████████████████ Elapsed: 8s\n",
      "-log p(x) <= 158.388\n",
      "Epoch: 30\n",
      "600/600 [100%] ██████████████████████████████ Elapsed: 8s\n",
      "-log p(x) <= 158.439\n",
      "Epoch: 31\n",
      "600/600 [100%] ██████████████████████████████ Elapsed: 8s\n",
      "-log p(x) <= 158.324\n",
      "Epoch: 32\n",
      "600/600 [100%] ██████████████████████████████ Elapsed: 8s\n",
      "-log p(x) <= 158.296\n",
      "Epoch: 33\n",
      "600/600 [100%] ██████████████████████████████ Elapsed: 8s\n",
      "-log p(x) <= 158.357\n",
      "Epoch: 34\n",
      "600/600 [100%] ██████████████████████████████ Elapsed: 8s\n",
      "-log p(x) <= 158.119\n",
      "Epoch: 35\n",
      "600/600 [100%] ██████████████████████████████ Elapsed: 8s\n",
      "-log p(x) <= 158.077\n",
      "Epoch: 36\n",
      "600/600 [100%] ██████████████████████████████ Elapsed: 8s\n",
      "-log p(x) <= 158.145\n",
      "Epoch: 37\n",
      "600/600 [100%] ██████████████████████████████ Elapsed: 8s\n",
      "-log p(x) <= 158.080\n",
      "Epoch: 38\n",
      "600/600 [100%] ██████████████████████████████ Elapsed: 8s\n",
      "-log p(x) <= 158.004\n",
      "Epoch: 39\n",
      "600/600 [100%] ██████████████████████████████ Elapsed: 8s\n",
      "-log p(x) <= 158.099\n",
      "Epoch: 40\n",
      "600/600 [100%] ██████████████████████████████ Elapsed: 8s\n",
      "-log p(x) <= 158.005\n",
      "Epoch: 41\n",
      "600/600 [100%] ██████████████████████████████ Elapsed: 8s\n",
      "-log p(x) <= 157.938\n",
      "Epoch: 42\n",
      "600/600 [100%] ██████████████████████████████ Elapsed: 8s\n",
      "-log p(x) <= 157.860\n",
      "Epoch: 43\n",
      "600/600 [100%] ██████████████████████████████ Elapsed: 8s\n",
      "-log p(x) <= 157.916\n",
      "Epoch: 44\n",
      "600/600 [100%] ██████████████████████████████ Elapsed: 8s\n",
      "-log p(x) <= 157.820\n",
      "Epoch: 45\n",
      "600/600 [100%] ██████████████████████████████ Elapsed: 8s\n",
      "-log p(x) <= 157.811\n",
      "Epoch: 46\n",
      "600/600 [100%] ██████████████████████████████ Elapsed: 8s\n",
      "-log p(x) <= 157.911\n",
      "Epoch: 47\n",
      "600/600 [100%] ██████████████████████████████ Elapsed: 8s\n",
      "-log p(x) <= 157.853\n",
      "Epoch: 48\n",
      "600/600 [100%] ██████████████████████████████ Elapsed: 8s\n",
      "-log p(x) <= 157.840\n",
      "Epoch: 49\n",
      "600/600 [100%] ██████████████████████████████ Elapsed: 8s\n",
      "-log p(x) <= 157.783\n",
      "Epoch: 50\n",
      "600/600 [100%] ██████████████████████████████ Elapsed: 8s\n",
      "-log p(x) <= 157.883\n",
      "Epoch: 51\n",
      "600/600 [100%] ██████████████████████████████ Elapsed: 8s\n",
      "-log p(x) <= 157.828\n",
      "Epoch: 52\n",
      "600/600 [100%] ██████████████████████████████ Elapsed: 9s\n",
      "-log p(x) <= 157.734\n",
      "Epoch: 53\n",
      "600/600 [100%] ██████████████████████████████ Elapsed: 8s\n",
      "-log p(x) <= 157.705\n",
      "Epoch: 54\n",
      "600/600 [100%] ██████████████████████████████ Elapsed: 8s\n",
      "-log p(x) <= 157.728\n",
      "Epoch: 55\n",
      "600/600 [100%] ██████████████████████████████ Elapsed: 8s\n",
      "-log p(x) <= 157.670\n",
      "Epoch: 56\n",
      "600/600 [100%] ██████████████████████████████ Elapsed: 8s\n",
      "-log p(x) <= 157.679\n",
      "Epoch: 57\n",
      "600/600 [100%] ██████████████████████████████ Elapsed: 8s\n",
      "-log p(x) <= 157.640\n",
      "Epoch: 58\n",
      "600/600 [100%] ██████████████████████████████ Elapsed: 8s\n",
      "-log p(x) <= 157.690\n",
      "Epoch: 59\n",
      "600/600 [100%] ██████████████████████████████ Elapsed: 8s\n",
      "-log p(x) <= 157.571\n",
      "Epoch: 60\n",
      "600/600 [100%] ██████████████████████████████ Elapsed: 8s\n",
      "-log p(x) <= 157.585\n",
      "Epoch: 61\n",
      "600/600 [100%] ██████████████████████████████ Elapsed: 8s\n",
      "-log p(x) <= 157.593\n",
      "Epoch: 62\n",
      "600/600 [100%] ██████████████████████████████ Elapsed: 8s\n",
      "-log p(x) <= 157.472\n",
      "Epoch: 63\n",
      "600/600 [100%] ██████████████████████████████ Elapsed: 8s\n",
      "-log p(x) <= 157.553\n",
      "Epoch: 64\n",
      "600/600 [100%] ██████████████████████████████ Elapsed: 8s\n",
      "-log p(x) <= 157.502\n",
      "Epoch: 65\n",
      "600/600 [100%] ██████████████████████████████ Elapsed: 8s\n",
      "-log p(x) <= 157.543\n",
      "Epoch: 66\n",
      "600/600 [100%] ██████████████████████████████ Elapsed: 8s\n",
      "-log p(x) <= 157.452\n",
      "Epoch: 67\n",
      "600/600 [100%] ██████████████████████████████ Elapsed: 8s\n",
      "-log p(x) <= 157.432\n",
      "Epoch: 68\n",
      "600/600 [100%] ██████████████████████████████ Elapsed: 8s\n",
      "-log p(x) <= 157.455\n",
      "Epoch: 69\n",
      "600/600 [100%] ██████████████████████████████ Elapsed: 8s\n",
      "-log p(x) <= 157.543\n",
      "Epoch: 70\n",
      "600/600 [100%] ██████████████████████████████ Elapsed: 8s\n",
      "-log p(x) <= 157.404\n",
      "Epoch: 71\n",
      "600/600 [100%] ██████████████████████████████ Elapsed: 8s\n",
      "-log p(x) <= 157.413\n",
      "Epoch: 72\n",
      "600/600 [100%] ██████████████████████████████ Elapsed: 8s\n",
      "-log p(x) <= 157.480\n",
      "Epoch: 73\n",
      "600/600 [100%] ██████████████████████████████ Elapsed: 8s\n",
      "-log p(x) <= 157.358\n",
      "Epoch: 74\n",
      "600/600 [100%] ██████████████████████████████ Elapsed: 8s\n",
      "-log p(x) <= 157.374\n",
      "Epoch: 75\n",
      "600/600 [100%] ██████████████████████████████ Elapsed: 8s\n",
      "-log p(x) <= 157.202\n",
      "Epoch: 76\n",
      "600/600 [100%] ██████████████████████████████ Elapsed: 8s\n",
      "-log p(x) <= 157.339\n",
      "Epoch: 77\n",
      "600/600 [100%] ██████████████████████████████ Elapsed: 8s\n",
      "-log p(x) <= 157.273\n",
      "Epoch: 78\n",
      "600/600 [100%] ██████████████████████████████ Elapsed: 8s\n",
      "-log p(x) <= 157.345\n",
      "Epoch: 79\n",
      "600/600 [100%] ██████████████████████████████ Elapsed: 8s\n",
      "-log p(x) <= 157.215\n",
      "Epoch: 80\n",
      "600/600 [100%] ██████████████████████████████ Elapsed: 8s\n",
      "-log p(x) <= 157.233\n",
      "Epoch: 81\n",
      "600/600 [100%] ██████████████████████████████ Elapsed: 8s\n",
      "-log p(x) <= 157.191\n",
      "Epoch: 82\n",
      "600/600 [100%] ██████████████████████████████ Elapsed: 8s\n",
      "-log p(x) <= 157.337\n",
      "Epoch: 83\n",
      "600/600 [100%] ██████████████████████████████ Elapsed: 8s\n",
      "-log p(x) <= 157.248\n",
      "Epoch: 84\n",
      "600/600 [100%] ██████████████████████████████ Elapsed: 8s\n",
      "-log p(x) <= 157.213\n",
      "Epoch: 85\n",
      "600/600 [100%] ██████████████████████████████ Elapsed: 8s\n",
      "-log p(x) <= 157.255\n",
      "Epoch: 86\n",
      "600/600 [100%] ██████████████████████████████ Elapsed: 8s\n",
      "-log p(x) <= 157.234\n",
      "Epoch: 87\n",
      "600/600 [100%] ██████████████████████████████ Elapsed: 8s\n",
      "-log p(x) <= 157.156\n",
      "Epoch: 88\n",
      "600/600 [100%] ██████████████████████████████ Elapsed: 8s\n",
      "-log p(x) <= 157.297\n",
      "Epoch: 89\n",
      "600/600 [100%] ██████████████████████████████ Elapsed: 8s\n",
      "-log p(x) <= 157.157\n",
      "Epoch: 90\n",
      "600/600 [100%] ██████████████████████████████ Elapsed: 8s\n",
      "-log p(x) <= 157.229\n",
      "Epoch: 91\n",
      "600/600 [100%] ██████████████████████████████ Elapsed: 8s\n",
      "-log p(x) <= 157.105\n",
      "Epoch: 92\n",
      "600/600 [100%] ██████████████████████████████ Elapsed: 8s\n",
      "-log p(x) <= 157.187\n",
      "Epoch: 93\n"
     ]
    },
    {
     "name": "stdout",
     "output_type": "stream",
     "text": [
      "600/600 [100%] ██████████████████████████████ Elapsed: 8s\n",
      "-log p(x) <= 157.204\n",
      "Epoch: 94\n",
      "600/600 [100%] ██████████████████████████████ Elapsed: 8s\n",
      "-log p(x) <= 157.147\n",
      "Epoch: 95\n",
      "600/600 [100%] ██████████████████████████████ Elapsed: 8s\n",
      "-log p(x) <= 157.128\n",
      "Epoch: 96\n",
      "600/600 [100%] ██████████████████████████████ Elapsed: 8s\n",
      "-log p(x) <= 157.167\n",
      "Epoch: 97\n",
      "600/600 [100%] ██████████████████████████████ Elapsed: 8s\n",
      "-log p(x) <= 157.147\n",
      "Epoch: 98\n",
      "600/600 [100%] ██████████████████████████████ Elapsed: 8s\n",
      "-log p(x) <= 157.029\n",
      "Epoch: 99\n",
      "600/600 [100%] ██████████████████████████████ Elapsed: 8s\n",
      "-log p(x) <= 157.170\n",
      "Epoch: 100\n",
      "600/600 [100%] ██████████████████████████████ Elapsed: 8s\n",
      "-log p(x) <= 157.216\n"
     ]
    }
   ],
   "source": [
    "n_epoch = 100\n",
    "n_iter_per_epoch = x_train.shape[0] // M\n",
    "log_loss = []\n",
    "for epoch in range(1, n_epoch + 1):\n",
    "  print(\"Epoch: {0}\".format(epoch))\n",
    "  avg_loss = 0.0\n",
    "\n",
    "  pbar = Progbar(n_iter_per_epoch)\n",
    "  for t in range(1, n_iter_per_epoch + 1):\n",
    "    pbar.update(t)\n",
    "    x_batch = next(x_train_generator)\n",
    "    info_dict = inference.update(feed_dict={x_ph: x_batch})\n",
    "    avg_loss += info_dict['loss']\n",
    "  avg_loss = avg_loss / n_iter_per_epoch\n",
    "  avg_loss = avg_loss / M\n",
    "  log_loss.append(-avg_loss)\n",
    "  print(\"-log p(x) <= {:0.3f}\".format(avg_loss))"
   ]
  },
  {
   "cell_type": "code",
   "execution_count": 6,
   "metadata": {},
   "outputs": [
    {
     "data": {
      "image/png": "[encoded data removed]",
      "text/plain": [
       "<matplotlib.figure.Figure at 0x7f88ec795208>"
      ]
     },
     "metadata": {},
     "output_type": "display_data"
    },
    {
     "data": {
      "image/png": "[encoded data removed]",
      "text/plain": [
       "<matplotlib.figure.Figure at 0x7f8946f799e8>"
      ]
     },
     "metadata": {},
     "output_type": "display_data"
    }
   ],
   "source": [
    "plt.plot(range(n_epoch),log_loss)\n",
    "plt.show()\n",
    "img = x_train[4,:].reshape(28,28)\n",
    "plt.imshow(img, cmap='gray')\n",
    "plt.show()"
   ]
  },
  {
   "cell_type": "code",
   "execution_count": 7,
   "metadata": {},
   "outputs": [
    {
     "data": {
      "image/png": "[encoded data removed]",
      "text/plain": [
       "<matplotlib.figure.Figure at 0x7f88ffa7e6d8>"
      ]
     },
     "metadata": {},
     "output_type": "display_data"
    },
    {
     "data": {
      "image/png": "[encoded data removed]",
      "text/plain": [
       "<matplotlib.figure.Figure at 0x7f8946f6f278>"
      ]
     },
     "metadata": {},
     "output_type": "display_data"
    },
    {
     "data": {
      "image/png": "[encoded data removed]",
      "text/plain": [
       "<matplotlib.figure.Figure at 0x7f88ec782e48>"
      ]
     },
     "metadata": {},
     "output_type": "display_data"
    },
    {
     "data": {
      "image/png": "[encoded data removed]",
      "text/plain": [
       "<matplotlib.figure.Figure at 0x7f88fc08e3c8>"
      ]
     },
     "metadata": {},
     "output_type": "display_data"
    },
    {
     "data": {
      "image/png": "[encoded data removed]",
      "text/plain": [
       "<matplotlib.figure.Figure at 0x7f88fc045cc0>"
      ]
     },
     "metadata": {},
     "output_type": "display_data"
    },
    {
     "data": {
      "image/png": "[encoded data removed]",
      "text/plain": [
       "<matplotlib.figure.Figure at 0x7f88fc4a5e48>"
      ]
     },
     "metadata": {},
     "output_type": "display_data"
    },
    {
     "data": {
      "image/png": "[encoded data removed]",
      "text/plain": [
       "<matplotlib.figure.Figure at 0x7f88ec73e3c8>"
      ]
     },
     "metadata": {},
     "output_type": "display_data"
    },
    {
     "data": {
      "image/png": "[encoded data removed]",
      "text/plain": [
       "<matplotlib.figure.Figure at 0x7f88ec70e780>"
      ]
     },
     "metadata": {},
     "output_type": "display_data"
    },
    {
     "data": {
      "image/png": "[encoded data removed]",
      "text/plain": [
       "<matplotlib.figure.Figure at 0x7f88ec6d4f28>"
      ]
     },
     "metadata": {},
     "output_type": "display_data"
    },
    {
     "data": {
      "image/png": "[encoded data removed]",
      "text/plain": [
       "<matplotlib.figure.Figure at 0x7f88ec683d68>"
      ]
     },
     "metadata": {},
     "output_type": "display_data"
    }
   ],
   "source": [
    "#sample_img = sess.run(x,feed_dict = {z:sampe_z})\n",
    "\n",
    "sample_z = sess.run(qz, feed_dict = {x_ph: x_test[:100,:]})\n",
    "img = sess.run(x, feed_dict = {z: sample_z})\n",
    "\n",
    "for i in range(5):\n",
    "    plt.imshow(img[i+10,:].reshape(28,28),cmap = 'gray')\n",
    "    plt.show()\n",
    "for i in range(5):\n",
    "    plt.imshow(x_test[i+10,:].reshape(28,28),cmap = 'gray')\n",
    "    plt.show()"
   ]
  },
  {
   "cell_type": "code",
   "execution_count": 8,
   "metadata": {},
   "outputs": [
    {
     "data": {
      "image/png": "[encoded data removed]",
      "text/plain": [
       "<matplotlib.figure.Figure at 0x7f88fc1337b8>"
      ]
     },
     "metadata": {},
     "output_type": "display_data"
    },
    {
     "data": {
      "image/png": "[encoded data removed]",
      "text/plain": [
       "<matplotlib.figure.Figure at 0x7f88ec61fda0>"
      ]
     },
     "metadata": {},
     "output_type": "display_data"
    },
    {
     "data": {
      "image/png": "[encoded data removed]",
      "text/plain": [
       "<matplotlib.figure.Figure at 0x7f88ec5dc4a8>"
      ]
     },
     "metadata": {},
     "output_type": "display_data"
    },
    {
     "data": {
      "image/png": "[encoded data removed]",
      "text/plain": [
       "<matplotlib.figure.Figure at 0x7f88ec58fdd8>"
      ]
     },
     "metadata": {},
     "output_type": "display_data"
    },
    {
     "data": {
      "image/png": "[encoded data removed]",
      "text/plain": [
       "<matplotlib.figure.Figure at 0x7f88ec54eba8>"
      ]
     },
     "metadata": {},
     "output_type": "display_data"
    }
   ],
   "source": [
    "img = x.sample().eval()\n",
    "\n",
    "for i in range(5):\n",
    "    plt.imshow(img[i,:].reshape(28,28),cmap = 'gray')\n",
    "    plt.show()\n"
   ]
  },
  {
   "cell_type": "code",
   "execution_count": null,
   "metadata": {},
   "outputs": [],
   "source": []
  }
 ],
 "metadata": {
  "kernelspec": {
   "display_name": "Python 3",
   "language": "python",
   "name": "python3"
  },
  "language_info": {
   "codemirror_mode": {
    "name": "ipython",
    "version": 3
   },
   "file_extension": ".py",
   "mimetype": "text/x-python",
   "name": "python",
   "nbconvert_exporter": "python",
   "pygments_lexer": "ipython3",
   "version": "3.5.3"
  }
 },
 "nbformat": 4,
 "nbformat_minor": 2
}
