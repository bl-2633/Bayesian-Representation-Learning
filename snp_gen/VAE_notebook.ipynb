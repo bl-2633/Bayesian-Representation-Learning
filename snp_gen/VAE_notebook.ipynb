{
 "cells": [
  {
   "cell_type": "code",
   "execution_count": 1,
   "metadata": {},
   "outputs": [
    {
     "name": "stderr",
     "output_type": "stream",
     "text": [
      "Using TensorFlow backend.\n"
     ]
    }
   ],
   "source": [
    "from edward.util import Progbar\n",
    "from keras.layers import Dense\n",
    "from observations import mnist\n",
    "import edward as ed\n",
    "import numpy as np\n",
    "import os\n",
    "import tensorflow as tf\n",
    "from edward.models import Bernoulli, Normal\n",
    "from utils import generator\n",
    "from matplotlib import pyplot as plt\n",
    "%matplotlib inline"
   ]
  },
  {
   "cell_type": "code",
   "execution_count": 2,
   "metadata": {},
   "outputs": [
    {
     "name": "stdout",
     "output_type": "stream",
     "text": [
      "[[ 0.  0.  0. ...,  0.  0.  0.]\n",
      " [ 0.  0.  0. ...,  0.  0.  0.]\n",
      " [ 0.  0.  0. ...,  0.  0.  0.]\n",
      " ..., \n",
      " [ 0.  0.  0. ...,  0.  0.  0.]\n",
      " [ 0.  0.  0. ...,  0.  0.  0.]\n",
      " [ 0.  0.  0. ...,  0.  0.  0.]]\n"
     ]
    }
   ],
   "source": [
    "sess = tf.InteractiveSession()\n",
    "d = 2\n",
    "M = 100\n",
    "(x_train, _), (x_test, _) = mnist('./data')\n",
    "x_train_generator = generator(x_train, M)\n",
    "print(x_test)"
   ]
  },
  {
   "cell_type": "code",
   "execution_count": 3,
   "metadata": {},
   "outputs": [],
   "source": [
    "z = Normal(loc=tf.zeros([M, d]), scale=tf.ones([M, d]))\n",
    "hidden = Dense(256, activation='relu')(z.value())\n",
    "x = Bernoulli(logits=Dense(28 * 28)(hidden))\n",
    "\n",
    "\n",
    "x_ph = tf.placeholder(tf.int32, [None, 28 * 28])\n",
    "hidden = Dense(256, activation='relu')(tf.cast(x_ph, tf.float32))\n",
    "qz = Normal(loc=Dense(d)(hidden),\n",
    "            scale=Dense(d, activation='softplus')(hidden))"
   ]
  },
  {
   "cell_type": "code",
   "execution_count": 4,
   "metadata": {},
   "outputs": [],
   "source": [
    "inference = ed.KLqp({z: qz}, data={x: x_ph})\n",
    "optimizer = tf.train.RMSPropOptimizer(0.01, epsilon=1.0)\n",
    "inference.initialize(optimizer=optimizer)\n",
    "tf.global_variables_initializer().run()"
   ]
  },
  {
   "cell_type": "code",
   "execution_count": 5,
   "metadata": {},
   "outputs": [
    {
     "name": "stdout",
     "output_type": "stream",
     "text": [
      "Epoch: 1\n",
      "600/600 [100%] ██████████████████████████████ Elapsed: 10s\n",
      "-log p(x) <= 186.213\n",
      "Epoch: 2\n",
      "600/600 [100%] ██████████████████████████████ Elapsed: 10s\n",
      "-log p(x) <= 167.413\n",
      "Epoch: 3\n",
      "600/600 [100%] ██████████████████████████████ Elapsed: 10s\n",
      "-log p(x) <= 164.915\n",
      "Epoch: 4\n",
      "600/600 [100%] ██████████████████████████████ Elapsed: 10s\n",
      "-log p(x) <= 163.474\n",
      "Epoch: 5\n",
      "600/600 [100%] ██████████████████████████████ Elapsed: 10s\n",
      "-log p(x) <= 162.564\n",
      "Epoch: 6\n",
      "600/600 [100%] ██████████████████████████████ Elapsed: 10s\n",
      "-log p(x) <= 161.825\n",
      "Epoch: 7\n",
      "600/600 [100%] ██████████████████████████████ Elapsed: 10s\n",
      "-log p(x) <= 161.261\n",
      "Epoch: 8\n",
      "600/600 [100%] ██████████████████████████████ Elapsed: 10s\n",
      "-log p(x) <= 160.753\n",
      "Epoch: 9\n",
      "600/600 [100%] ██████████████████████████████ Elapsed: 10s\n",
      "-log p(x) <= 160.371\n",
      "Epoch: 10\n",
      "600/600 [100%] ██████████████████████████████ Elapsed: 10s\n",
      "-log p(x) <= 160.032\n",
      "Epoch: 11\n",
      "600/600 [100%] ██████████████████████████████ Elapsed: 10s\n",
      "-log p(x) <= 159.937\n",
      "Epoch: 12\n",
      "600/600 [100%] ██████████████████████████████ Elapsed: 10s\n",
      "-log p(x) <= 159.557\n",
      "Epoch: 13\n",
      "600/600 [100%] ██████████████████████████████ Elapsed: 10s\n",
      "-log p(x) <= 159.545\n",
      "Epoch: 14\n",
      "600/600 [100%] ██████████████████████████████ Elapsed: 10s\n",
      "-log p(x) <= 159.386\n",
      "Epoch: 15\n",
      "600/600 [100%] ██████████████████████████████ Elapsed: 10s\n",
      "-log p(x) <= 159.296\n",
      "Epoch: 16\n",
      "600/600 [100%] ██████████████████████████████ Elapsed: 10s\n",
      "-log p(x) <= 159.027\n",
      "Epoch: 17\n",
      "600/600 [100%] ██████████████████████████████ Elapsed: 10s\n",
      "-log p(x) <= 158.943\n",
      "Epoch: 18\n",
      "600/600 [100%] ██████████████████████████████ Elapsed: 10s\n",
      "-log p(x) <= 159.025\n",
      "Epoch: 19\n",
      "600/600 [100%] ██████████████████████████████ Elapsed: 10s\n",
      "-log p(x) <= 158.667\n",
      "Epoch: 20\n",
      "600/600 [100%] ██████████████████████████████ Elapsed: 10s\n",
      "-log p(x) <= 158.762\n",
      "Epoch: 21\n",
      "600/600 [100%] ██████████████████████████████ Elapsed: 10s\n",
      "-log p(x) <= 158.702\n",
      "Epoch: 22\n",
      "600/600 [100%] ██████████████████████████████ Elapsed: 10s\n",
      "-log p(x) <= 158.608\n",
      "Epoch: 23\n",
      "600/600 [100%] ██████████████████████████████ Elapsed: 10s\n",
      "-log p(x) <= 158.473\n",
      "Epoch: 24\n",
      "600/600 [100%] ██████████████████████████████ Elapsed: 10s\n",
      "-log p(x) <= 158.456\n",
      "Epoch: 25\n",
      "600/600 [100%] ██████████████████████████████ Elapsed: 10s\n",
      "-log p(x) <= 158.462\n",
      "Epoch: 26\n",
      "600/600 [100%] ██████████████████████████████ Elapsed: 10s\n",
      "-log p(x) <= 158.388\n",
      "Epoch: 27\n",
      "600/600 [100%] ██████████████████████████████ Elapsed: 10s\n",
      "-log p(x) <= 158.402\n",
      "Epoch: 28\n",
      "600/600 [100%] ██████████████████████████████ Elapsed: 10s\n",
      "-log p(x) <= 158.295\n",
      "Epoch: 29\n",
      "600/600 [100%] ██████████████████████████████ Elapsed: 10s\n",
      "-log p(x) <= 158.239\n",
      "Epoch: 30\n",
      "600/600 [100%] ██████████████████████████████ Elapsed: 10s\n",
      "-log p(x) <= 158.122\n",
      "Epoch: 31\n",
      "600/600 [100%] ██████████████████████████████ Elapsed: 10s\n",
      "-log p(x) <= 158.090\n",
      "Epoch: 32\n",
      "600/600 [100%] ██████████████████████████████ Elapsed: 10s\n",
      "-log p(x) <= 158.057\n",
      "Epoch: 33\n",
      "600/600 [100%] ██████████████████████████████ Elapsed: 10s\n",
      "-log p(x) <= 158.020\n",
      "Epoch: 34\n",
      "600/600 [100%] ██████████████████████████████ Elapsed: 10s\n",
      "-log p(x) <= 158.037\n",
      "Epoch: 35\n",
      "600/600 [100%] ██████████████████████████████ Elapsed: 10s\n",
      "-log p(x) <= 157.986\n",
      "Epoch: 36\n",
      "600/600 [100%] ██████████████████████████████ Elapsed: 10s\n",
      "-log p(x) <= 157.845\n",
      "Epoch: 37\n",
      "600/600 [100%] ██████████████████████████████ Elapsed: 10s\n",
      "-log p(x) <= 157.818\n",
      "Epoch: 38\n",
      "600/600 [100%] ██████████████████████████████ Elapsed: 10s\n",
      "-log p(x) <= 157.890\n",
      "Epoch: 39\n",
      "600/600 [100%] ██████████████████████████████ Elapsed: 10s\n",
      "-log p(x) <= 157.686\n",
      "Epoch: 40\n",
      "600/600 [100%] ██████████████████████████████ Elapsed: 10s\n",
      "-log p(x) <= 157.771\n",
      "Epoch: 41\n",
      "600/600 [100%] ██████████████████████████████ Elapsed: 10s\n",
      "-log p(x) <= 157.774\n",
      "Epoch: 42\n",
      "600/600 [100%] ██████████████████████████████ Elapsed: 10s\n",
      "-log p(x) <= 157.588\n",
      "Epoch: 43\n",
      "600/600 [100%] ██████████████████████████████ Elapsed: 10s\n",
      "-log p(x) <= 157.766\n",
      "Epoch: 44\n",
      "600/600 [100%] ██████████████████████████████ Elapsed: 10s\n",
      "-log p(x) <= 157.637\n",
      "Epoch: 45\n",
      "600/600 [100%] ██████████████████████████████ Elapsed: 10s\n",
      "-log p(x) <= 157.520\n",
      "Epoch: 46\n",
      "600/600 [100%] ██████████████████████████████ Elapsed: 10s\n",
      "-log p(x) <= 157.530\n",
      "Epoch: 47\n",
      "600/600 [100%] ██████████████████████████████ Elapsed: 10s\n",
      "-log p(x) <= 157.559\n",
      "Epoch: 48\n",
      "600/600 [100%] ██████████████████████████████ Elapsed: 10s\n",
      "-log p(x) <= 157.460\n",
      "Epoch: 49\n",
      "600/600 [100%] ██████████████████████████████ Elapsed: 10s\n",
      "-log p(x) <= 157.524\n",
      "Epoch: 50\n",
      "600/600 [100%] ██████████████████████████████ Elapsed: 10s\n",
      "-log p(x) <= 157.315\n",
      "Epoch: 51\n",
      "600/600 [100%] ██████████████████████████████ Elapsed: 10s\n",
      "-log p(x) <= 157.452\n",
      "Epoch: 52\n",
      "600/600 [100%] ██████████████████████████████ Elapsed: 10s\n",
      "-log p(x) <= 157.476\n",
      "Epoch: 53\n",
      "600/600 [100%] ██████████████████████████████ Elapsed: 10s\n",
      "-log p(x) <= 157.576\n",
      "Epoch: 54\n",
      "600/600 [100%] ██████████████████████████████ Elapsed: 10s\n",
      "-log p(x) <= 157.400\n",
      "Epoch: 55\n",
      "600/600 [100%] ██████████████████████████████ Elapsed: 10s\n",
      "-log p(x) <= 157.367\n",
      "Epoch: 56\n",
      "600/600 [100%] ██████████████████████████████ Elapsed: 10s\n",
      "-log p(x) <= 157.369\n",
      "Epoch: 57\n",
      "600/600 [100%] ██████████████████████████████ Elapsed: 10s\n",
      "-log p(x) <= 157.456\n",
      "Epoch: 58\n",
      "600/600 [100%] ██████████████████████████████ Elapsed: 10s\n",
      "-log p(x) <= 157.367\n",
      "Epoch: 59\n",
      "600/600 [100%] ██████████████████████████████ Elapsed: 10s\n",
      "-log p(x) <= 157.313\n",
      "Epoch: 60\n",
      "600/600 [100%] ██████████████████████████████ Elapsed: 10s\n",
      "-log p(x) <= 157.297\n",
      "Epoch: 61\n",
      "600/600 [100%] ██████████████████████████████ Elapsed: 10s\n",
      "-log p(x) <= 157.313\n",
      "Epoch: 62\n",
      "600/600 [100%] ██████████████████████████████ Elapsed: 10s\n",
      "-log p(x) <= 157.360\n",
      "Epoch: 63\n",
      "600/600 [100%] ██████████████████████████████ Elapsed: 10s\n",
      "-log p(x) <= 157.294\n",
      "Epoch: 64\n",
      "600/600 [100%] ██████████████████████████████ Elapsed: 10s\n",
      "-log p(x) <= 157.197\n",
      "Epoch: 65\n",
      "600/600 [100%] ██████████████████████████████ Elapsed: 10s\n",
      "-log p(x) <= 157.365\n",
      "Epoch: 66\n",
      "600/600 [100%] ██████████████████████████████ Elapsed: 10s\n",
      "-log p(x) <= 157.280\n",
      "Epoch: 67\n",
      "600/600 [100%] ██████████████████████████████ Elapsed: 10s\n",
      "-log p(x) <= 157.336\n",
      "Epoch: 68\n",
      "600/600 [100%] ██████████████████████████████ Elapsed: 10s\n",
      "-log p(x) <= 157.185\n",
      "Epoch: 69\n",
      "600/600 [100%] ██████████████████████████████ Elapsed: 10s\n",
      "-log p(x) <= 157.244\n",
      "Epoch: 70\n",
      "600/600 [100%] ██████████████████████████████ Elapsed: 10s\n",
      "-log p(x) <= 157.251\n",
      "Epoch: 71\n",
      "600/600 [100%] ██████████████████████████████ Elapsed: 10s\n",
      "-log p(x) <= 157.251\n",
      "Epoch: 72\n",
      "600/600 [100%] ██████████████████████████████ Elapsed: 10s\n",
      "-log p(x) <= 157.167\n",
      "Epoch: 73\n",
      "600/600 [100%] ██████████████████████████████ Elapsed: 10s\n",
      "-log p(x) <= 157.298\n",
      "Epoch: 74\n",
      "600/600 [100%] ██████████████████████████████ Elapsed: 10s\n",
      "-log p(x) <= 157.181\n",
      "Epoch: 75\n",
      "600/600 [100%] ██████████████████████████████ Elapsed: 10s\n",
      "-log p(x) <= 157.208\n",
      "Epoch: 76\n",
      "600/600 [100%] ██████████████████████████████ Elapsed: 10s\n",
      "-log p(x) <= 157.144\n",
      "Epoch: 77\n",
      "600/600 [100%] ██████████████████████████████ Elapsed: 10s\n",
      "-log p(x) <= 156.990\n",
      "Epoch: 78\n",
      "600/600 [100%] ██████████████████████████████ Elapsed: 10s\n",
      "-log p(x) <= 157.126\n",
      "Epoch: 79\n",
      "600/600 [100%] ██████████████████████████████ Elapsed: 10s\n",
      "-log p(x) <= 157.130\n",
      "Epoch: 80\n",
      "600/600 [100%] ██████████████████████████████ Elapsed: 10s\n",
      "-log p(x) <= 157.127\n",
      "Epoch: 81\n",
      "600/600 [100%] ██████████████████████████████ Elapsed: 10s\n",
      "-log p(x) <= 157.200\n",
      "Epoch: 82\n",
      "600/600 [100%] ██████████████████████████████ Elapsed: 10s\n",
      "-log p(x) <= 157.031\n",
      "Epoch: 83\n",
      "600/600 [100%] ██████████████████████████████ Elapsed: 10s\n",
      "-log p(x) <= 156.988\n",
      "Epoch: 84\n",
      "600/600 [100%] ██████████████████████████████ Elapsed: 10s\n",
      "-log p(x) <= 156.989\n",
      "Epoch: 85\n",
      "600/600 [100%] ██████████████████████████████ Elapsed: 10s\n",
      "-log p(x) <= 157.085\n",
      "Epoch: 86\n",
      "600/600 [100%] ██████████████████████████████ Elapsed: 10s\n",
      "-log p(x) <= 156.901\n",
      "Epoch: 87\n",
      "600/600 [100%] ██████████████████████████████ Elapsed: 10s\n",
      "-log p(x) <= 156.872\n",
      "Epoch: 88\n",
      "600/600 [100%] ██████████████████████████████ Elapsed: 10s\n",
      "-log p(x) <= 157.011\n",
      "Epoch: 89\n",
      "600/600 [100%] ██████████████████████████████ Elapsed: 10s\n",
      "-log p(x) <= 156.939\n",
      "Epoch: 90\n",
      "600/600 [100%] ██████████████████████████████ Elapsed: 10s\n",
      "-log p(x) <= 157.042\n",
      "Epoch: 91\n",
      "600/600 [100%] ██████████████████████████████ Elapsed: 10s\n",
      "-log p(x) <= 156.951\n",
      "Epoch: 92\n"
     ]
    },
    {
     "name": "stdout",
     "output_type": "stream",
     "text": [
      "600/600 [100%] ██████████████████████████████ Elapsed: 10s\n",
      "-log p(x) <= 157.032\n",
      "Epoch: 93\n",
      "600/600 [100%] ██████████████████████████████ Elapsed: 10s\n",
      "-log p(x) <= 157.015\n",
      "Epoch: 94\n",
      "600/600 [100%] ██████████████████████████████ Elapsed: 10s\n",
      "-log p(x) <= 157.092\n",
      "Epoch: 95\n",
      "600/600 [100%] ██████████████████████████████ Elapsed: 10s\n",
      "-log p(x) <= 156.964\n",
      "Epoch: 96\n",
      "600/600 [100%] ██████████████████████████████ Elapsed: 10s\n",
      "-log p(x) <= 156.933\n",
      "Epoch: 97\n",
      "600/600 [100%] ██████████████████████████████ Elapsed: 10s\n",
      "-log p(x) <= 156.956\n",
      "Epoch: 98\n",
      "600/600 [100%] ██████████████████████████████ Elapsed: 10s\n",
      "-log p(x) <= 156.929\n",
      "Epoch: 99\n",
      "600/600 [100%] ██████████████████████████████ Elapsed: 10s\n",
      "-log p(x) <= 156.896\n",
      "Epoch: 100\n",
      "600/600 [100%] ██████████████████████████████ Elapsed: 10s\n",
      "-log p(x) <= 156.960\n"
     ]
    },
    {
     "data": {
      "image/png": "[encoded data removed]",
      "text/plain": [
       "<matplotlib.figure.Figure at 0x7f4b2fd4e198>"
      ]
     },
     "metadata": {},
     "output_type": "display_data"
    }
   ],
   "source": [
    "n_epoch = 100\n",
    "n_iter_per_epoch = x_train.shape[0] // M\n",
    "log_loss = []\n",
    "for epoch in range(1, n_epoch + 1):\n",
    "  print(\"Epoch: {0}\".format(epoch))\n",
    "  avg_loss = 0.0\n",
    "\n",
    "  pbar = Progbar(n_iter_per_epoch)\n",
    "  for t in range(1, n_iter_per_epoch + 1):\n",
    "    pbar.update(t)\n",
    "    x_batch = next(x_train_generator)\n",
    "    info_dict = inference.update(feed_dict={x_ph: x_batch})\n",
    "    avg_loss += info_dict['loss']\n",
    "  avg_loss = avg_loss / n_iter_per_epoch\n",
    "  avg_loss = avg_loss / M\n",
    "  log_loss.append(-avg_loss)\n",
    "  print(\"-log p(x) <= {:0.3f}\".format(avg_loss))\n",
    "plt.plot(range(n_epoch),log_loss)\n",
    "plt.show()"
   ]
  },
  {
   "cell_type": "code",
   "execution_count": 6,
   "metadata": {},
   "outputs": [
    {
     "data": {
      "image/png": "[encoded data removed]",
      "text/plain": [
       "<matplotlib.figure.Figure at 0x7f4b883e6080>"
      ]
     },
     "metadata": {},
     "output_type": "display_data"
    }
   ],
   "source": [
    "sampe_z = sess.run(qz,feed_dict = {x_ph:x_train[4,:].reshape(1,784).astype('float32')})\n",
    "img = x_train[4,:].reshape(28,28)\n",
    "plt.imshow(img, cmap='gray')\n",
    "plt.show()"
   ]
  },
  {
   "cell_type": "code",
   "execution_count": 8,
   "metadata": {},
   "outputs": [
    {
     "data": {
      "image/png": "[encoded data removed]",
      "text/plain": [
       "<matplotlib.figure.Figure at 0x7f4b2fcf1b70>"
      ]
     },
     "metadata": {},
     "output_type": "display_data"
    },
    {
     "data": {
      "image/png": "[encoded data removed]",
      "text/plain": [
       "<matplotlib.figure.Figure at 0x7f4b2fc7eda0>"
      ]
     },
     "metadata": {},
     "output_type": "display_data"
    },
    {
     "data": {
      "image/png": "[encoded data removed]",
      "text/plain": [
       "<matplotlib.figure.Figure at 0x7f4b2fc2c208>"
      ]
     },
     "metadata": {},
     "output_type": "display_data"
    },
    {
     "data": {
      "image/png": "[encoded data removed]",
      "text/plain": [
       "<matplotlib.figure.Figure at 0x7f4b2d9f1c88>"
      ]
     },
     "metadata": {},
     "output_type": "display_data"
    },
    {
     "data": {
      "image/png": "[encoded data removed]",
      "text/plain": [
       "<matplotlib.figure.Figure at 0x7f4b2d9a0e80>"
      ]
     },
     "metadata": {},
     "output_type": "display_data"
    }
   ],
   "source": [
    "#sample_img = sess.run(x,feed_dict = {z:sampe_z})\n",
    "\n",
    "img = x.sample().eval()\n",
    "for i in range(5):\n",
    "    plt.imshow(img[i,:].reshape(28,28),cmap = 'gray')\n",
    "    plt.show()"
   ]
  },
  {
   "cell_type": "code",
   "execution_count": null,
   "metadata": {},
   "outputs": [],
   "source": []
  }
 ],
 "metadata": {
  "kernelspec": {
   "display_name": "Python 3",
   "language": "python",
   "name": "python3"
  },
  "language_info": {
   "codemirror_mode": {
    "name": "ipython",
    "version": 3
   },
   "file_extension": ".py",
   "mimetype": "text/x-python",
   "name": "python",
   "nbconvert_exporter": "python",
   "pygments_lexer": "ipython3",
   "version": "3.4.3"
  }
 },
 "nbformat": 4,
 "nbformat_minor": 2
}
