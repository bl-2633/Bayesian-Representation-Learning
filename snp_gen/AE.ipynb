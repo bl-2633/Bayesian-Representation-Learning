{
 "cells": [
  {
   "cell_type": "code",
   "execution_count": 1,
   "metadata": {},
   "outputs": [
    {
     "name": "stderr",
     "output_type": "stream",
     "text": [
      "Using TensorFlow backend.\n"
     ]
    }
   ],
   "source": [
    "from keras.layers import Dense, Input\n",
    "from keras.models import Model, Sequential\n",
    "from observations import mnist as mnist_obs\n",
    "from keras.datasets import mnist\n",
    "import numpy as np\n",
    "import matplotlib.pyplot as plt\n",
    "import pickle"
   ]
  },
  {
   "cell_type": "code",
   "execution_count": 2,
   "metadata": {},
   "outputs": [],
   "source": [
    "(x_train, _), (x_test, _) = mnist_obs('./data')"
   ]
  },
  {
   "cell_type": "code",
   "execution_count": 3,
   "metadata": {},
   "outputs": [
    {
     "data": {
      "image/png": "[encoded data removed]",
      "text/plain": [
       "<matplotlib.figure.Figure at 0x7f905a62bc50>"
      ]
     },
     "metadata": {},
     "output_type": "display_data"
    }
   ],
   "source": [
    "f, axes = plt.subplots(2, 2)\n",
    "for ax, i in zip(axes.flat[0:], range(4)):\n",
    "    ax.imshow(x_train[i,:].reshape(28,28),cmap = 'gray')\n",
    "plt.show()"
   ]
  },
  {
   "cell_type": "code",
   "execution_count": 4,
   "metadata": {},
   "outputs": [
    {
     "name": "stdout",
     "output_type": "stream",
     "text": [
      "(60000, 784)\n",
      "(10000, 784)\n"
     ]
    },
    {
     "data": {
      "image/png": "[encoded data removed]",
      "text/plain": [
       "<matplotlib.figure.Figure at 0x7f90582f5898>"
      ]
     },
     "metadata": {},
     "output_type": "display_data"
    }
   ],
   "source": [
    "x_train = x_train.astype('float32') / 255.\n",
    "x_test = x_test.astype('float32') / 255.\n",
    "#x_train = x_train.reshape((len(x_train), np.prod(x_train.shape[1:])))\n",
    "#x_test = x_test.reshape((len(x_test), np.prod(x_test.shape[1:])))\n",
    "print(x_train.shape)\n",
    "print(x_test.shape)\n",
    "f, axes = plt.subplots(2, 2)\n",
    "for ax, i in zip(axes.flat[0:], range(4)):\n",
    "    ax.imshow(x_train[i,:].reshape(28,28),cmap = 'gray')\n",
    "plt.show()"
   ]
  },
  {
   "cell_type": "code",
   "execution_count": 5,
   "metadata": {},
   "outputs": [],
   "source": [
    "encoding_dim = 256\n",
    "input_img = Input((28*28,))\n",
    "encoded = Dense(encoding_dim,activation = 'relu')(input_img)\n",
    "decoded = Dense(28*28, activation = 'sigmoid')(encoded)\n",
    "autoencoder = Model(input_img, decoded)\n",
    "encoder = Model(input_img, encoded)\n",
    "encoded_input = Input(shape=(encoding_dim,))\n",
    "decoder_layer = autoencoder.layers[-1]\n",
    "decoder = Model(encoded_input, decoder_layer(encoded_input))\n",
    "autoencoder.compile(optimizer='adadelta', loss='binary_crossentropy')"
   ]
  },
  {
   "cell_type": "code",
   "execution_count": 6,
   "metadata": {},
   "outputs": [
    {
     "name": "stdout",
     "output_type": "stream",
     "text": [
      "Train on 60000 samples, validate on 10000 samples\n",
      "Epoch 1/50\n",
      "60000/60000 [==============================] - 4s 63us/step - loss: 0.5154 - val_loss: 0.3113\n",
      "Epoch 2/50\n",
      "60000/60000 [==============================] - 4s 62us/step - loss: 0.2881 - val_loss: 0.2745\n",
      "Epoch 3/50\n",
      "60000/60000 [==============================] - 4s 60us/step - loss: 0.2700 - val_loss: 0.2636\n",
      "Epoch 4/50\n",
      "60000/60000 [==============================] - 4s 62us/step - loss: 0.2600 - val_loss: 0.2540\n",
      "Epoch 5/50\n",
      "60000/60000 [==============================] - 4s 61us/step - loss: 0.2504 - val_loss: 0.2442\n",
      "Epoch 6/50\n",
      "60000/60000 [==============================] - 4s 63us/step - loss: 0.2408 - val_loss: 0.2347\n",
      "Epoch 7/50\n",
      "60000/60000 [==============================] - 4s 69us/step - loss: 0.2318 - val_loss: 0.2260\n",
      "Epoch 8/50\n",
      "60000/60000 [==============================] - 4s 61us/step - loss: 0.2236 - val_loss: 0.2181\n",
      "Epoch 9/50\n",
      "60000/60000 [==============================] - 4s 62us/step - loss: 0.2162 - val_loss: 0.2112\n",
      "Epoch 10/50\n",
      "60000/60000 [==============================] - 4s 69us/step - loss: 0.2097 - val_loss: 0.2051\n",
      "Epoch 11/50\n",
      "60000/60000 [==============================] - 4s 59us/step - loss: 0.2039 - val_loss: 0.1996\n",
      "Epoch 12/50\n",
      "60000/60000 [==============================] - 4s 59us/step - loss: 0.1988 - val_loss: 0.1948\n",
      "Epoch 13/50\n",
      "60000/60000 [==============================] - 4s 60us/step - loss: 0.1941 - val_loss: 0.1904\n",
      "Epoch 14/50\n",
      "60000/60000 [==============================] - 4s 61us/step - loss: 0.1899 - val_loss: 0.1864\n",
      "Epoch 15/50\n",
      "60000/60000 [==============================] - 4s 60us/step - loss: 0.1861 - val_loss: 0.1827\n",
      "Epoch 16/50\n",
      "60000/60000 [==============================] - 4s 60us/step - loss: 0.1826 - val_loss: 0.1794\n",
      "Epoch 17/50\n",
      "60000/60000 [==============================] - 4s 60us/step - loss: 0.1794 - val_loss: 0.1763\n",
      "Epoch 18/50\n",
      "60000/60000 [==============================] - 4s 61us/step - loss: 0.1764 - val_loss: 0.1734\n",
      "Epoch 19/50\n",
      "60000/60000 [==============================] - 4s 62us/step - loss: 0.1736 - val_loss: 0.1707\n",
      "Epoch 20/50\n",
      "60000/60000 [==============================] - 4s 63us/step - loss: 0.1709 - val_loss: 0.1682\n",
      "Epoch 21/50\n",
      "60000/60000 [==============================] - 4s 60us/step - loss: 0.1684 - val_loss: 0.1657\n",
      "Epoch 22/50\n",
      "60000/60000 [==============================] - 4s 61us/step - loss: 0.1661 - val_loss: 0.1635\n",
      "Epoch 23/50\n",
      "60000/60000 [==============================] - 4s 60us/step - loss: 0.1639 - val_loss: 0.1613\n",
      "Epoch 24/50\n",
      "60000/60000 [==============================] - 4s 60us/step - loss: 0.1617 - val_loss: 0.1592\n",
      "Epoch 25/50\n",
      "60000/60000 [==============================] - 4s 61us/step - loss: 0.1597 - val_loss: 0.1573\n",
      "Epoch 26/50\n",
      "60000/60000 [==============================] - 4s 60us/step - loss: 0.1578 - val_loss: 0.1553\n",
      "Epoch 27/50\n",
      "60000/60000 [==============================] - 4s 60us/step - loss: 0.1559 - val_loss: 0.1535\n",
      "Epoch 28/50\n",
      "60000/60000 [==============================] - 4s 60us/step - loss: 0.1542 - val_loss: 0.1518\n",
      "Epoch 29/50\n",
      "60000/60000 [==============================] - 4s 60us/step - loss: 0.1525 - val_loss: 0.1502\n",
      "Epoch 30/50\n",
      "60000/60000 [==============================] - 4s 60us/step - loss: 0.1508 - val_loss: 0.1485\n",
      "Epoch 31/50\n",
      "60000/60000 [==============================] - 4s 60us/step - loss: 0.1492 - val_loss: 0.1469\n",
      "Epoch 32/50\n",
      "60000/60000 [==============================] - 4s 60us/step - loss: 0.1477 - val_loss: 0.1455\n",
      "Epoch 33/50\n",
      "60000/60000 [==============================] - 4s 59us/step - loss: 0.1463 - val_loss: 0.1441\n",
      "Epoch 34/50\n",
      "60000/60000 [==============================] - 4s 60us/step - loss: 0.1448 - val_loss: 0.1427\n",
      "Epoch 35/50\n",
      "60000/60000 [==============================] - 4s 64us/step - loss: 0.1435 - val_loss: 0.1413\n",
      "Epoch 36/50\n",
      "60000/60000 [==============================] - 4s 72us/step - loss: 0.1421 - val_loss: 0.1400\n",
      "Epoch 37/50\n",
      "60000/60000 [==============================] - 4s 62us/step - loss: 0.1409 - val_loss: 0.1387\n",
      "Epoch 38/50\n",
      "60000/60000 [==============================] - 4s 62us/step - loss: 0.1396 - val_loss: 0.1376\n",
      "Epoch 39/50\n",
      "60000/60000 [==============================] - 4s 63us/step - loss: 0.1384 - val_loss: 0.1364\n",
      "Epoch 40/50\n",
      "60000/60000 [==============================] - 4s 67us/step - loss: 0.1373 - val_loss: 0.1352\n",
      "Epoch 41/50\n",
      "60000/60000 [==============================] - 4s 67us/step - loss: 0.1361 - val_loss: 0.1341\n",
      "Epoch 42/50\n",
      "60000/60000 [==============================] - 4s 70us/step - loss: 0.1350 - val_loss: 0.1330\n",
      "Epoch 43/50\n",
      "60000/60000 [==============================] - 4s 67us/step - loss: 0.1339 - val_loss: 0.1319\n",
      "Epoch 44/50\n",
      "60000/60000 [==============================] - 4s 65us/step - loss: 0.1329 - val_loss: 0.1309\n",
      "Epoch 45/50\n",
      "60000/60000 [==============================] - 4s 64us/step - loss: 0.1319 - val_loss: 0.1299\n",
      "Epoch 46/50\n",
      "60000/60000 [==============================] - 4s 64us/step - loss: 0.1309 - val_loss: 0.1289\n",
      "Epoch 47/50\n",
      "60000/60000 [==============================] - 4s 64us/step - loss: 0.1299 - val_loss: 0.1279\n",
      "Epoch 48/50\n",
      "60000/60000 [==============================] - 4s 67us/step - loss: 0.1290 - val_loss: 0.1270\n",
      "Epoch 49/50\n",
      "60000/60000 [==============================] - 4s 66us/step - loss: 0.1281 - val_loss: 0.1261\n",
      "Epoch 50/50\n",
      "60000/60000 [==============================] - 4s 61us/step - loss: 0.1272 - val_loss: 0.1252\n"
     ]
    },
    {
     "data": {
      "text/plain": [
       "<keras.callbacks.History at 0x7f905a62b7b8>"
      ]
     },
     "execution_count": 6,
     "metadata": {},
     "output_type": "execute_result"
    }
   ],
   "source": [
    "autoencoder.fit(x_train, x_train,\n",
    "                epochs=50,\n",
    "                batch_size=1000,\n",
    "                shuffle=True,\n",
    "                validation_data=(x_test, x_test),\n",
    "          verbose = 1)"
   ]
  },
  {
   "cell_type": "code",
   "execution_count": 7,
   "metadata": {},
   "outputs": [],
   "source": [
    "encoded_imgs = encoder.predict(x_test)\n",
    "decoded_imgs = decoder.predict(encoded_imgs)"
   ]
  },
  {
   "cell_type": "code",
   "execution_count": 8,
   "metadata": {},
   "outputs": [
    {
     "data": {
      "image/png": "[encoded data removed]",
      "text/plain": [
       "<matplotlib.figure.Figure at 0x7f905068c470>"
      ]
     },
     "metadata": {},
     "output_type": "display_data"
    }
   ],
   "source": [
    "n = 10  # how many digits we will display\n",
    "plt.figure(figsize=(20, 4))\n",
    "for i in range(n):\n",
    "    # display original\n",
    "    ax = plt.subplot(2, n, i + 1)\n",
    "    plt.imshow(x_test[i].reshape(28, 28))\n",
    "    plt.gray()\n",
    "    ax.get_xaxis().set_visible(False)\n",
    "    ax.get_yaxis().set_visible(False)\n",
    "\n",
    "    # display reconstruction\n",
    "    ax = plt.subplot(2, n, i + 1 + n)\n",
    "    plt.imshow(decoded_imgs[i].reshape(28, 28))\n",
    "    plt.gray()\n",
    "    ax.get_xaxis().set_visible(False)\n",
    "    ax.get_yaxis().set_visible(False)\n",
    "plt.show()"
   ]
  },
  {
   "cell_type": "code",
   "execution_count": 10,
   "metadata": {},
   "outputs": [
    {
     "name": "stdout",
     "output_type": "stream",
     "text": [
      "(60000, 256)\n",
      "(10000, 256)\n"
     ]
    }
   ],
   "source": [
    "train_encoded = encoder.predict(x_train)\n",
    "test_encoded = encoder.predict(x_test)\n",
    "print(train_encoded.shape)\n",
    "print(test_encoded.shape)\n",
    "with open('./data/encoded_train_AE.pkl','wb') as f:\n",
    "    pickle.dump(train_encoded,f)\n",
    "with open('./data/encoded_test_AE.pkl','wb') as f:\n",
    "    pickle.dump(test_encoded,f)"
   ]
  },
  {
   "cell_type": "code",
   "execution_count": null,
   "metadata": {},
   "outputs": [],
   "source": []
  }
 ],
 "metadata": {
  "kernelspec": {
   "display_name": "Python 3",
   "language": "python",
   "name": "python3"
  },
  "language_info": {
   "codemirror_mode": {
    "name": "ipython",
    "version": 3
   },
   "file_extension": ".py",
   "mimetype": "text/x-python",
   "name": "python",
   "nbconvert_exporter": "python",
   "pygments_lexer": "ipython3",
   "version": "3.5.3"
  }
 },
 "nbformat": 4,
 "nbformat_minor": 2
}
