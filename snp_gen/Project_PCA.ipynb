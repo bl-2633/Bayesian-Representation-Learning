{
 "cells": [
  {
   "cell_type": "code",
   "execution_count": 154,
   "metadata": {},
   "outputs": [],
   "source": [
    "#Import all the necessary packages\n",
    "import numpy as np\n",
    "import tensorflow as tf\n",
    "import edward as ed\n",
    "from edward.models import Normal, Categorical, Laplace, Bernoulli\n",
    "from edward.util import Progbar\n",
    "import time\n",
    "import math\n",
    "import matplotlib.pyplot as pyplot\n",
    "from sklearn.metrics import accuracy_score\n",
    "import random\n",
    "from observations import mnist as mnist_obs\n",
    "import seaborn as sns\n",
    "import matplotlib.pyplot as plt"
   ]
  },
  {
   "cell_type": "code",
   "execution_count": 2,
   "metadata": {},
   "outputs": [],
   "source": [
    "#loading the MNIST data\n",
    "sess = tf.InteractiveSession()\n",
    "def load_data(path):\n",
    "    f = open(path,'rb')\n",
    "    return pickle.load(f)\n",
    "def accuracy(y_true, y_pred):\n",
    "    correct = 0\n",
    "    for i in range(len(y_true)):\n",
    "        if y_true[i] == y_pred[i]:\n",
    "            correct += 1\n",
    "        else:\n",
    "            pass\n",
    "    return correct/len(y_true)* 1.\n",
    "(X_train, y_train), (X_test, y_test) = mnist_obs('./data')\n",
    "y_train = tf.cast(y_train, tf.int32).eval()\n",
    "y_test = tf.cast(y_test, tf.int32).eval()"
   ]
  },
  {
   "cell_type": "code",
   "execution_count": 3,
   "metadata": {},
   "outputs": [
    {
     "name": "stdout",
     "output_type": "stream",
     "text": [
      "Printing some of the training and label data\n",
      "[[ 0.  0.  0. ...,  0.  0.  0.]\n",
      " [ 0.  0.  0. ...,  0.  0.  0.]\n",
      " [ 0.  0.  0. ...,  0.  0.  0.]\n",
      " ..., \n",
      " [ 0.  0.  0. ...,  0.  0.  0.]\n",
      " [ 0.  0.  0. ...,  0.  0.  0.]\n",
      " [ 0.  0.  0. ...,  0.  0.  0.]]\n",
      "[5 0 4 1 9 2 1 3 1 4]\n",
      "The shape of X_train is (60000, 784)\n"
     ]
    }
   ],
   "source": [
    "print('Printing some of the training and label data')\n",
    "print(X_train[:10])\n",
    "print(y_train[:10])\n",
    "print('The shape of X_train is (%d, %d)' % X_train.shape)"
   ]
  },
  {
   "cell_type": "code",
   "execution_count": 4,
   "metadata": {},
   "outputs": [],
   "source": [
    "#y_train = y_train.reshape((y_train.shape[0], 1))\n",
    "#y_test = y_test.reshape((y_test.shape[0], 1))"
   ]
  },
  {
   "cell_type": "code",
   "execution_count": 5,
   "metadata": {},
   "outputs": [],
   "source": [
    "num_of_class = 10"
   ]
  },
  {
   "cell_type": "code",
   "execution_count": 6,
   "metadata": {},
   "outputs": [],
   "source": [
    "def one_hot(y_label):\n",
    "    num_of_samples = y_label.shape[0]\n",
    "    y_one_hot = np.zeros((num_of_samples, num_of_class))\n",
    "    y_one_hot[range(num_of_samples), y_label] = 1\n",
    "    return y_one_hot\n",
    "#y_train, y_test = one_hot(y_train), one_hot(y_test)\n",
    "#print('Transform label to one hot encode')\n",
    "#print(y_train[10:20:])\n",
    "#print(y_test[10:20])"
   ]
  },
  {
   "cell_type": "code",
   "execution_count": 34,
   "metadata": {},
   "outputs": [],
   "source": [
    "def categorical(y_one_hot):\n",
    "    return np.argmax(y_one_hot, axis=1)\n",
    "#print('Transform one hot encode to label')\n",
    "#print(categorical(y_train)[:10])"
   ]
  },
  {
   "cell_type": "code",
   "execution_count": 8,
   "metadata": {},
   "outputs": [],
   "source": [
    "#A function that would randomly split the training and test set\n",
    "#Default split proportion 0.8\n",
    "def split_train_test(DATA, y, proportion=0.8):\n",
    "    data_size = len(DATA)\n",
    "    train_size = int(proportion * data_size)\n",
    "    permutation = [i for i in range(data_size)]\n",
    "    random.shuffle(permutation)\n",
    "    train_DATA = DATA[permutation[:train_size]]\n",
    "    train_label = y[permutation[:train_size]]\n",
    "    test_DATA = DATA[permutation[train_size:]]\n",
    "    test_label = y[permutation[train_size:]]\n",
    "    return train_DATA, train_label, test_DATA, test_label"
   ]
  },
  {
   "cell_type": "markdown",
   "metadata": {},
   "source": [
    "# Probabilistic \"PCA\" and Bayesian Logistics Regression"
   ]
  },
  {
   "cell_type": "code",
   "execution_count": 152,
   "metadata": {},
   "outputs": [],
   "source": [
    "#All dimension of input data ranges from [-1, 1]\n",
    "#thus motivating usages of non-Gaussian noises\n",
    "#Input: \n",
    "#DATA, the data dimension to be reduced\n",
    "#latent_dim, the latent dimension\n",
    "#dimension_reduction_coef_var, the variance of the coefficients\n",
    "#observation_var, \n",
    "#sigmoid: whether the sigmoid is used before/after addition of noise, or not used\n",
    "#inference_method: the method to infer the latent variables, klqp and HMC implemented\n",
    "#Output:\n",
    "#qw: the \"posterior\" of dimension reduction coefficients\n",
    "#qz: the \"posterior\" of latent variables\n",
    "def unsupervised_dimension_reduction(DATA, latent_dim, dimension_reduction_coef_var, \n",
    "                                    observation_var, sigmoid='last', inference_method='KLqp'):\n",
    "    sample_size = DATA.shape[0]\n",
    "    correlation_count = DATA.shape[1]\n",
    "    w = Normal(loc=tf.zeros([correlation_count, latent_dim]), \n",
    "               scale=dimension_reduction_coef_var * tf.ones([correlation_count, latent_dim]))\n",
    "    z = Normal(loc=tf.zeros([sample_size, latent_dim]), \n",
    "               scale=1.5 * tf.ones([sample_size, latent_dim]))\n",
    "    targets = None\n",
    "    if sigmoid == 'last':\n",
    "        logits = tf.matmul(w, z, transpose_b=True)\n",
    "        t = tf.sigmoid(logits)\n",
    "        targets = Bernoulli(t)\n",
    "    elif sigmoid == 'no_sigmoid':\n",
    "        targets = Normal(loc=tf.matmul(w, z, transpose_b=True), \n",
    "                   scale=observation_var * tf.ones([correlation_count, sample_size]))\n",
    "    elif sigmoid == 'first':\n",
    "        t = tf.sigmoid(tf.matmul(w, z, transpose_b=True))\n",
    "        targets = Bernoulli(t)\n",
    "    qw = Normal(loc=tf.Variable(tf.random_normal([correlation_count, latent_dim])),\n",
    "            scale=tf.nn.softplus(tf.Variable(tf.random_normal([correlation_count, latent_dim]))))\n",
    "    qz = Normal(loc=tf.Variable(tf.random_normal([sample_size, latent_dim])),\n",
    "            scale=tf.nn.softplus(tf.Variable(tf.random_normal([sample_size, latent_dim]))))\n",
    "    inference = ed.KLqp({w: qw, z: qz}, data={targets: DATA.T})\n",
    "    inference.run(n_iter=500, n_print=100, n_samples=100)\n",
    "    return qw, qz, w, z"
   ]
  },
  {
   "cell_type": "code",
   "execution_count": 151,
   "metadata": {},
   "outputs": [],
   "source": [
    "#All dimension of input data ranges from [-1, 1]\n",
    "#thus motivating usages of non-Gaussian noises\n",
    "#Input: \n",
    "#DATA, the data dimension to be reduced\n",
    "#qw: the probability distribution dimension reduction coefficients\n",
    "#latent_dim, the latent dimension\n",
    "#dimension_reduction_coef_var, the variance of the coefficients\n",
    "#observation_var, \n",
    "#sigmoid: whether the sigmoid is used before/after addition of noise, or not used\n",
    "#inference_method: the method to infer the latent variables, klqp and HMC implemented\n",
    "#Output:\n",
    "#qw: the \"posterior\" of dimensino reduction coefficients\n",
    "#qz: the \"posterior\" of latent variables\n",
    "def learn_latent_given_w(DATA, qw, latent_dim, observation_var, sigmoid=False):\n",
    "    sample_size = DATA.shape[0]\n",
    "    correlation_count = DATA.shape[1]\n",
    "    z = Normal(loc=tf.zeros([sample_size, latent_dim]), \n",
    "               scale=tf.ones([sample_size, latent_dim]))\n",
    "    targets = None\n",
    "    if sigmoid == 'last':\n",
    "        logits = tf.matmul(w, z, transpose_b=True)\n",
    "        t = tf.sigmoid(logits)\n",
    "        targets = Bernoulli(t)\n",
    "    elif sigmoid == 'no_sigmoid':\n",
    "        targets = Normal(loc=tf.matmul(w, z, transpose_b=True), \n",
    "                   scale=observation_var * tf.ones([correlation_count, sample_size]))\n",
    "    elif sigmoid == 'first':\n",
    "        t = tf.sigmoid(tf.matmul(w, z, transpose_b=True))\n",
    "        targets = Bernoulli(t)\n",
    "    qz = Normal(loc=tf.Variable(tf.random_normal([sample_size, latent_dim])),\n",
    "            scale=tf.nn.softplus(tf.Variable(tf.random_normal([sample_size, latent_dim]))))\n",
    "    inference = ed.KLqp({z: qz}, data={targets: DATA.T})\n",
    "    inference.run(n_iter=500, n_print=100, n_samples=100)\n",
    "    return qz"
   ]
  },
  {
   "cell_type": "code",
   "execution_count": 105,
   "metadata": {},
   "outputs": [],
   "source": [
    "# Bayesian logistics regression\n",
    "# Input:\n",
    "# qz: the distribution of the input variables, either latent/or not dimensions\n",
    "#y_labels: the labels for this supervised learning\n",
    "#latent_dim: the dimension of qz\n",
    "#regression_coef_var: equivalent to regularization term\n",
    "def bayesian_logistics_regression(qz, y_labels, latent_dim, regression_coef_var, prior):\n",
    "    if prior == 'gaussian':\n",
    "        regression_coef = Normal(loc=tf.zeros([num_of_class, latent_dim]), \n",
    "               scale=regression_coef_var * tf.ones([num_of_class, latent_dim]))\n",
    "    elif prior == 'laplacian':\n",
    "        regression_coef = Laplace(loc=tf.zeros([num_of_class, latent_dim]), \n",
    "               scale=regression_coef_var * tf.ones([num_of_class, latent_dim]))\n",
    "    z = tf.placeholder(tf.float32, [qz.shape[0], latent_dim])\n",
    "    y = Categorical(logits=tf.matmul(z, regression_coef, transpose_b=True))\n",
    "    qcoeff = Normal(loc=tf.Variable(tf.random_normal([num_of_class, latent_dim])),\n",
    "            scale=tf.nn.softplus(tf.Variable(tf.random_normal([num_of_class, latent_dim]))))\n",
    "    inference = ed.KLqp({regression_coef: qcoeff}, data={z: qz, y: y_labels})\n",
    "    inference.run(n_iter=15, n_print=5, n_samples=5)\n",
    "    return qcoeff, regression_coef"
   ]
  },
  {
   "cell_type": "code",
   "execution_count": 144,
   "metadata": {},
   "outputs": [],
   "source": [
    "def bayesian_logistics_regression_with_hidden_z(qz, y_labels, latent_dim, regression_coef_var):\n",
    "    regression_coef = Normal(loc=tf.zeros([num_of_class, latent_dim]), \n",
    "               scale=regression_coef_var * tf.ones([num_of_class, latent_dim]))\n",
    "    y = Categorical(logits=tf.matmul(qz, regression_coef, transpose_b=True))\n",
    "    qcoeff = Normal(loc=tf.Variable(tf.random_normal([num_of_class, latent_dim])),\n",
    "            scale=tf.nn.softplus(tf.Variable(tf.random_normal([num_of_class, latent_dim]))))\n",
    "    inference = ed.KLqp({regression_coef: qcoeff}, data={y: y_labels})\n",
    "    inference.run(n_iter=500, n_print=10, n_samples=5)\n",
    "    return qcoeff, regression_coef"
   ]
  },
  {
   "cell_type": "code",
   "execution_count": 111,
   "metadata": {},
   "outputs": [],
   "source": [
    "#A wrapper that is created to automatically sample training and test set\n",
    "#and compare different models\n",
    "#return the area under the roc curve\n",
    "def dimension_reduction_and_logistics_regression(latent_dim, \n",
    "                                                 dimension_reduction_coef_var, \n",
    "                                                 regression_coef_var, \n",
    "                                                 sigmoid, \n",
    "                                                 observation_var, \n",
    "                                                 DATA, \n",
    "                                                 labels):\n",
    "    train_DATA, train_label, test_DATA, test_label = split_train_test(DATA, labels)\n",
    "    qw, qz_train, w_prior, z_prior = unsupervised_dimension_reduction(train_DATA, latent_dim, \n",
    "                                              dimension_reduction_coef_var, \n",
    "                                              observation_var, sigmoid)\n",
    "    qcoef, coef_prior = bayesian_logistics_regression_with_hidden_z(qz_train, train_label, latent_dim, regression_coef_var)\n",
    "    qz_test = learn_latent_given_w(test_DATA, qw, latent_dim, observation_var, sigmoid)\n",
    "    n_samples=100\n",
    "    probas = tf.reduce_mean(tf.stack([tf.sigmoid(tf.matmul(qz_test.sample(), \n",
    "                                                           qcoef.sample(), \n",
    "                                                           transpose_b=True)) \n",
    "                                      for _ in range(n_samples)],axis=0), axis=0)\n",
    "    score = probas.eval()\n",
    "    y_pred = categorical(score)\n",
    "    return accuracy_score(y_pred, test_label), qw, w_prior, qz_train, z_prior, qcoef, coef_prior"
   ]
  },
  {
   "cell_type": "code",
   "execution_count": 91,
   "metadata": {},
   "outputs": [],
   "source": [
    "#A wrapper for raw bayesian logistics regression\n",
    "#return the area under the roc curve\n",
    "def raw_bayesian_logistics_regression(regression_coef_var, DATA, labels, prior='gaussian'):\n",
    "    train_DATA, train_label, test_DATA, test_label = split_train_test(DATA, labels)\n",
    "    dimension = DATA.shape[1]\n",
    "    qcoef, coef_prior = bayesian_logistics_regression(train_DATA, train_label, dimension, regression_coef_var, prior)\n",
    "    n_samples = 100\n",
    "    test_z = tf.placeholder(tf.float32, test_DATA.shape)\n",
    "    probas = tf.reduce_mean(tf.stack([tf.sigmoid(tf.matmul(test_z, \n",
    "                                                           qcoef.sample(), \n",
    "                                                           transpose_b=True)) \n",
    "                                      for _ in range(n_samples)],axis=0), axis=0)\n",
    "    score = probas.eval(feed_dict={test_z: test_DATA})\n",
    "    y_pred = categorical(score)\n",
    "    return accuracy_score(y_pred, test_label), qcoef, coef_prior"
   ]
  },
  {
   "cell_type": "code",
   "execution_count": 106,
   "metadata": {},
   "outputs": [
    {
     "name": "stdout",
     "output_type": "stream",
     "text": [
      "15/15 [100%] ██████████████████████████████ Elapsed: 17s | Loss: 36784304.000\n",
      "The accuracy achieved by raw bayesian logistics regression is 0.735167\n"
     ]
    },
    {
     "data": {
      "image/png": "[encoded data removed]",
      "text/plain": [
       "<matplotlib.figure.Figure at 0x2974a30b8>"
      ]
     },
     "metadata": {},
     "output_type": "display_data"
    }
   ],
   "source": [
    "regression_coef_var = 1\n",
    "acc, qcoef, coef_prior = raw_bayesian_logistics_regression(regression_coef_var, X_train, y_train)\n",
    "print('The accuracy achieved by raw bayesian logistics regression is %f' \n",
    "      % acc)\n",
    "\n",
    "pos_encode = qcoef.sample().eval()\n",
    "pri_encode = coef_prior.sample().eval()\n",
    "\n",
    "sns.distplot(np.ndarray.flatten(pos_encode), color = 'red')\n",
    "sns.distplot(np.ndarray.flatten(pri_encode), color = 'blue')\n",
    "plt.title('Prior and Posterior Distribution of Logistic Regression Coefficients')\n",
    "plt.show()"
   ]
  },
  {
   "cell_type": "markdown",
   "metadata": {},
   "source": [
    "The posterior (red) and the prior (blue) of the coefficient distribution both characterize the central tendency; however, the prior is much concentrated in the center, and we observe that the posterior have a heavier tail. Hence, we implement the Laplacian distribution as the prior.\n",
    "\n",
    "The following is the result of using a laplacian prior."
   ]
  },
  {
   "cell_type": "code",
   "execution_count": 107,
   "metadata": {},
   "outputs": [
    {
     "name": "stdout",
     "output_type": "stream",
     "text": [
      "15/15 [100%] ██████████████████████████████ Elapsed: 18s | Loss: 48229408.000\n",
      "The accuracy achieved by raw bayesian logistics regression is 0.751833\n"
     ]
    },
    {
     "data": {
      "image/png": "[encoded data removed]",
      "text/plain": [
       "<matplotlib.figure.Figure at 0x29eca3898>"
      ]
     },
     "metadata": {},
     "output_type": "display_data"
    }
   ],
   "source": [
    "regression_coef_var = 1\n",
    "acc, qcoef, coef_prior = raw_bayesian_logistics_regression(regression_coef_var, X_train, y_train, prior='laplacian')\n",
    "print('The accuracy achieved by raw bayesian logistics regression is %f' \n",
    "      % acc)\n",
    "\n",
    "pos_encode = qcoef.sample().eval()\n",
    "pri_encode = coef_prior.sample().eval()\n",
    "\n",
    "sns.distplot(np.ndarray.flatten(pos_encode), color = 'red')\n",
    "sns.distplot(np.ndarray.flatten(pri_encode), color = 'blue')\n",
    "plt.title('Prior and Posterior Distribution of Logistic Regression Coefficients')\n",
    "plt.show()"
   ]
  },
  {
   "cell_type": "markdown",
   "metadata": {},
   "source": [
    "The posterior (red) and the prior (blue) of the coefficient distribution both characterize the central tendency and the heavy tail. The accuracy improved by 2 percent."
   ]
  },
  {
   "cell_type": "code",
   "execution_count": 108,
   "metadata": {},
   "outputs": [
    {
     "name": "stdout",
     "output_type": "stream",
     "text": [
      "15/15 [100%] ██████████████████████████████ Elapsed: 19s | Loss: 57652772.000\n",
      "The accuracy achieved by raw bayesian logistics regression is 0.790250\n"
     ]
    },
    {
     "data": {
      "image/png": "[encoded data removed]",
      "text/plain": [
       "<matplotlib.figure.Figure at 0x2ad049128>"
      ]
     },
     "metadata": {},
     "output_type": "display_data"
    }
   ],
   "source": [
    "regression_coef_var = 1.5\n",
    "acc, qcoef, coef_prior = raw_bayesian_logistics_regression(regression_coef_var, X_train, y_train, prior='laplacian')\n",
    "print('The accuracy achieved by raw bayesian logistics regression is %f' \n",
    "      % acc)\n",
    "\n",
    "pos_encode = qcoef.sample().eval()\n",
    "pri_encode = coef_prior.sample().eval()\n",
    "\n",
    "sns.distplot(np.ndarray.flatten(pos_encode), color = 'red')\n",
    "sns.distplot(np.ndarray.flatten(pri_encode), color = 'blue')\n",
    "plt.title('Prior and Posterior Distribution of Logistic Regression Coefficients')\n",
    "plt.show()"
   ]
  },
  {
   "cell_type": "markdown",
   "metadata": {},
   "source": [
    "According to the plot, the prior and posterior match nicely. The performance again went up 4 percent. "
   ]
  },
  {
   "cell_type": "markdown",
   "metadata": {},
   "source": [
    "Now let's try bayesian logisitcs regression followed by probabilistic PCA"
   ]
  },
  {
   "cell_type": "code",
   "execution_count": null,
   "metadata": {},
   "outputs": [],
   "source": [
    "latent_dim = 256\n",
    "dimension_reduction_coef_var = 1 \n",
    "regression_coef_var = 1 \n",
    "sigmoid = 'last'\n",
    "observation_var = 0.01\n",
    "acc, qw, w_prior, qz_train, z_prior, qcoef, coef_prior = dimension_reduction_and_logistics_regression(latent_dim, \n",
    "                                                        dimension_reduction_coef_var,\n",
    "                                                        regression_coef_var, \n",
    "                                                        sigmoid,\n",
    "                                                        observation_var, \n",
    "                                                        X_train, \n",
    "                                                        y_train)\n",
    "print('The accuracy achieved by bayesian logistics regression followed by dimension reduction is %f' \n",
    "      % acc)"
   ]
  },
  {
   "cell_type": "markdown",
   "metadata": {},
   "source": [
    "256 latent dimensions yeilds trivial performance. Try a smaller dimension"
   ]
  },
  {
   "cell_type": "code",
   "execution_count": null,
   "metadata": {},
   "outputs": [],
   "source": [
    "latent_dim = 10\n",
    "dimension_reduction_coef_var = 1.5\n",
    "regression_coef_var = 1.5\n",
    "sigmoid = 'last'\n",
    "observation_var = 0.001\n",
    "acc, qw, w_prior, qz_train, z_prior, qcoef, coef_prior = dimension_reduction_and_logistics_regression(latent_dim, \n",
    "                                                        dimension_reduction_coef_var,\n",
    "                                                        regression_coef_var, \n",
    "                                                        sigmoid,\n",
    "                                                        observation_var, \n",
    "                                                        X_train, \n",
    "                                                        y_train)\n",
    "print('The accuracy achieved by bayesian logistics regression followed by dimension reduction is %f' \n",
    "      % acc)"
   ]
  },
  {
   "cell_type": "code",
   "execution_count": null,
   "metadata": {},
   "outputs": [],
   "source": [
    "print('The coefficient distribution for latent variable')\n",
    "pos_encode = qz_train.sample().eval()\n",
    "pri_encode = z_prior.sample().eval()\n",
    "\n",
    "sns.distplot(np.ndarray.flatten(pos_encode), color = 'red')\n",
    "sns.distplot(np.ndarray.flatten(pri_encode), color = 'blue')\n",
    "plt.title('Prior and Posterior Distribution of latent variable')\n",
    "plt.show()"
   ]
  },
  {
   "cell_type": "code",
   "execution_count": null,
   "metadata": {},
   "outputs": [],
   "source": [
    "print('The coefficient distribution for dimension reduction')\n",
    "pos_encode = qw.sample().eval()\n",
    "pri_encode = w_prior.sample().eval()\n",
    "\n",
    "sns.distplot(np.ndarray.flatten(pos_encode), color = 'red')\n",
    "sns.distplot(np.ndarray.flatten(pri_encode), color = 'blue')\n",
    "plt.title('Prior and Posterior Distribution of Dimension Reduction coefficient')\n",
    "plt.show()"
   ]
  },
  {
   "cell_type": "code",
   "execution_count": null,
   "metadata": {},
   "outputs": [],
   "source": [
    "print('The prior and posterior of bayesian regression coefficient')\n",
    "pos_encode = qcoef.sample(100).eval()\n",
    "pri_encode = coef_prior.sample(100).eval()\n",
    "\n",
    "sns.distplot(np.ndarray.flatten(pos_encode), color = 'red')\n",
    "sns.distplot(np.ndarray.flatten(pri_encode), color = 'blue')\n",
    "plt.title('Prior and Posterior Distribution of regression coefficient')\n",
    "plt.show()"
   ]
  },
  {
   "cell_type": "code",
   "execution_count": null,
   "metadata": {},
   "outputs": [],
   "source": [
    "latent_dim = 256\n",
    "dimension_reduction_coef_var = 1.5\n",
    "regression_coef_var = 1.5 \n",
    "sigmoid = 'last'\n",
    "observation_var = 0.01\n",
    "latent_dim = 10\n",
    "acc, qw, w_prior, qz_train, z_prior, qcoef, coef_prior = dimension_reduction_and_logistics_regression(latent_dim, \n",
    "                                                        dimension_reduction_coef_var,\n",
    "                                                        regression_coef_var, \n",
    "                                                        sigmoid,\n",
    "                                                        observation_var, \n",
    "                                                        X_train, \n",
    "                                                        y_train)\n",
    "print('The accuracy achieved by bayesian logistics regression followed by dimension reduction is %f' \n",
    "      % acc)"
   ]
  }
 ],
 "metadata": {
  "kernelspec": {
   "display_name": "Python 3",
   "language": "python",
   "name": "python3"
  },
  "language_info": {
   "codemirror_mode": {
    "name": "ipython",
    "version": 3
   },
   "file_extension": ".py",
   "mimetype": "text/x-python",
   "name": "python",
   "nbconvert_exporter": "python",
   "pygments_lexer": "ipython3",
   "version": "3.6.2"
  }
 },
 "nbformat": 4,
 "nbformat_minor": 2
}
