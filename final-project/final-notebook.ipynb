{
 "cells": [
  {
   "cell_type": "markdown",
   "metadata": {},
   "source": [
    "# Deep Bayesian Neural Networks for semi-supervised Representation Learning and Classification"
   ]
  },
  {
   "cell_type": "markdown",
   "metadata": {},
   "source": [
    "## 1.Introduction"
   ]
  },
  {
   "cell_type": "markdown",
   "metadata": {},
   "source": [
    "content goes here"
   ]
  },
  {
   "cell_type": "code",
   "execution_count": 1,
   "metadata": {},
   "outputs": [],
   "source": [
    "# import all necessary libraries\n",
    "%matplotlib inline\n",
    "from edward.util import Progbar\n",
    "import tensorflow as tf\n",
    "from utils import (generator_xy, generator, \n",
    "                   load_data, accuracy, visulize,)\n",
    "import edward as ed\n",
    "import numpy as np\n",
    "from AE import encoder, decoder, mlp, NN_classifier\n",
    "from observations import mnist\n",
    "import matplotlib.pyplot as plt\n",
    "from edward.models import Normal, Bernoulli, Categorical\n",
    "import pickle\n",
    "import seaborn as sns\n",
    "plt.style.use('ggplot')"
   ]
  },
  {
   "cell_type": "markdown",
   "metadata": {},
   "source": [
    "## Data"
   ]
  },
  {
   "cell_type": "markdown",
   "metadata": {},
   "source": [
    "content goes here"
   ]
  },
  {
   "cell_type": "code",
   "execution_count": 2,
   "metadata": {},
   "outputs": [],
   "source": [
    "ed.set_seed(100)\n",
    "sess = tf.InteractiveSession()\n",
    "sess.as_default()\n",
    "M = 12000\n",
    "(x_train, y_train), (x_test, y_test) = mnist('./data')\n",
    "y_train = tf.cast(y_train, tf.int32).eval()\n",
    "y_test = tf.cast(y_test, tf.int32).eval()\n",
    "x_train = x_train.astype('float32') / 255.\n",
    "x_test = x_test.astype('float32') / 255.\n",
    "x_train_AE = load_data('../snp_gen/data/encoded_train_AE.pkl')\n",
    "x_test_AE = load_data('../snp_gen/data/encoded_test_AE.pkl')\n",
    "x_train_BAE = load_data('../snp_gen/data/encoded_train_BAE.pkl')\n",
    "x_test_BAE = load_data('../snp_gen/data/encoded_test_BAE.pkl')\n",
    "x_train_generator = generator_xy([x_train,y_train], M)\n",
    "x_train_generator_AE = generator_xy([x_train_AE, y_train], M)\n",
    "x_train_generator_BAE = generator_xy([x_train_BAE, y_train], M)"
   ]
  },
  {
   "cell_type": "markdown",
   "metadata": {},
   "source": [
    "#### Data Visulization"
   ]
  },
  {
   "cell_type": "code",
   "execution_count": 3,
   "metadata": {},
   "outputs": [
    {
     "data": {
      "image/png": "[encoded data removed]",
      "text/plain": [
       "<matplotlib.figure.Figure at 0x7f137adae240>"
      ]
     },
     "metadata": {},
     "output_type": "display_data"
    }
   ],
   "source": [
    "visulize(10, x_train)"
   ]
  },
  {
   "cell_type": "markdown",
   "metadata": {},
   "source": [
    "## 2.Models "
   ]
  },
  {
   "cell_type": "markdown",
   "metadata": {},
   "source": [
    "content goes here"
   ]
  },
  {
   "cell_type": "markdown",
   "metadata": {},
   "source": [
    "### Bayesian Autoencoder"
   ]
  },
  {
   "cell_type": "markdown",
   "metadata": {},
   "source": [
    "Image of the model goes here"
   ]
  },
  {
   "cell_type": "markdown",
   "metadata": {},
   "source": [
    "### Deep Bayesian Neural Network"
   ]
  },
  {
   "cell_type": "code",
   "execution_count": 4,
   "metadata": {},
   "outputs": [],
   "source": [
    "# define model here\n",
    "num_hidden = 100\n",
    "D = 256\n",
    "num_class = 10\n",
    "\n",
    "W_0 = Normal(loc = tf.zeros([D, num_hidden]), scale = tf.ones([D, num_hidden]))\n",
    "W_1 = Normal(loc = tf.zeros([num_hidden, num_class]), scale = tf.ones([num_hidden,num_class]))\n",
    "b_0 = Normal(loc = tf.zeros(num_hidden), scale = tf.ones(num_hidden))\n",
    "b_1 = Normal(loc = tf.zeros(num_class), scale = tf.ones(num_class))\n",
    "\n",
    "x = tf.placeholder(tf.float32, [None, D])\n",
    "\n",
    "y = Categorical(logits=NN_classifier(x, W_0, W_1, b_0, b_1))\n"
   ]
  },
  {
   "cell_type": "code",
   "execution_count": 5,
   "metadata": {},
   "outputs": [],
   "source": [
    "# define the variational model here\n",
    "qW_0 = Normal(loc = tf.Variable(tf.random_normal([D,num_hidden])),\n",
    "                  scale = tf.nn.softplus(tf.Variable(tf.random_normal([D,num_hidden]))))\n",
    "qW_1 = Normal(loc = tf.Variable(tf.random_normal([num_hidden,num_class])),\n",
    "                  scale = tf.nn.softplus(tf.Variable(tf.random_normal([num_hidden,num_class]))))\n",
    "qb_0 = Normal(loc = tf.Variable(tf.random_normal([num_hidden])),\n",
    "                  scale = tf.nn.softplus(tf.Variable(tf.random_normal([num_hidden]))))\n",
    "qb_1 = Normal(loc = tf.Variable(tf.random_normal([num_class])),\n",
    "                   scale = tf.nn.softplus(tf.Variable(tf.random_normal([num_class]))))"
   ]
  },
  {
   "cell_type": "markdown",
   "metadata": {},
   "source": [
    "## 3.Inference and Critisism"
   ]
  },
  {
   "cell_type": "code",
   "execution_count": 6,
   "metadata": {},
   "outputs": [],
   "source": [
    "# inferece initilization for AE representation\n",
    "inference = ed.KLqp({W_0:qW_0, b_0:qb_0,\n",
    "                    W_1:qW_1, b_1:qb_1}, \n",
    "                    data = {x: x_train_AE, y: y_train})\n",
    "inference.initialize(n_iter = 1000, n_samples = 5)\n",
    "tf.global_variables_initializer().run()"
   ]
  },
  {
   "cell_type": "code",
   "execution_count": 7,
   "metadata": {},
   "outputs": [
    {
     "name": "stdout",
     "output_type": "stream",
     "text": [
      "training accuracy:\n",
      "0.12776666666666667\n",
      "testing accuracy:\n",
      "0.1364\n"
     ]
    }
   ],
   "source": [
    "# prior draw and prediction accuracy for AE representation\n",
    "pri_qW_0 = qW_0.sample()\n",
    "pri_qW_1 = qW_1.sample()\n",
    "pri_qb_0 = qb_0.sample()\n",
    "pri_qb_1 = qb_1.sample()\n",
    "\n",
    "prior_weights = [pri_qW_0, pri_qW_1, pri_qb_0, pri_qb_1] \n",
    "\n",
    "print(\"training accuracy:\")\n",
    "print(accuracy(x_train_AE, y_train, prior_weights))\n",
    "print(\"testing accuracy:\")\n",
    "print(accuracy(x_test_AE, y_test, prior_weights))\n"
   ]
  },
  {
   "cell_type": "code",
   "execution_count": 8,
   "metadata": {},
   "outputs": [
    {
     "name": "stdout",
     "output_type": "stream",
     "text": [
      "Epoch: 1\n"
     ]
    },
    {
     "ename": "NameError",
     "evalue": "name 'log_loss' is not defined",
     "output_type": "error",
     "traceback": [
      "\u001b[0;31m---------------------------------------------------------------------------\u001b[0m",
      "\u001b[0;31mNameError\u001b[0m                                 Traceback (most recent call last)",
      "\u001b[0;32m<ipython-input-8-93a7f2d48a01>\u001b[0m in \u001b[0;36m<module>\u001b[0;34m()\u001b[0m\n\u001b[1;32m     14\u001b[0m         \u001b[0mavg_loss\u001b[0m \u001b[0;34m=\u001b[0m \u001b[0mavg_loss\u001b[0m \u001b[0;34m/\u001b[0m \u001b[0mn_iter_per_epoch\u001b[0m\u001b[0;34m\u001b[0m\u001b[0m\n\u001b[1;32m     15\u001b[0m         \u001b[0mavg_loss\u001b[0m \u001b[0;34m=\u001b[0m \u001b[0mavg_loss\u001b[0m \u001b[0;34m/\u001b[0m \u001b[0mM\u001b[0m\u001b[0;34m\u001b[0m\u001b[0m\n\u001b[0;32m---> 16\u001b[0;31m         \u001b[0mlog_loss\u001b[0m\u001b[0;34m.\u001b[0m\u001b[0mappend\u001b[0m\u001b[0;34m(\u001b[0m\u001b[0;34m-\u001b[0m\u001b[0mavg_loss\u001b[0m\u001b[0;34m)\u001b[0m\u001b[0;34m\u001b[0m\u001b[0m\n\u001b[0m\u001b[1;32m     17\u001b[0m     \u001b[0mprint\u001b[0m\u001b[0;34m(\u001b[0m\u001b[0;34m\"-log p(x) <= {:0.3f}\"\u001b[0m\u001b[0;34m.\u001b[0m\u001b[0mformat\u001b[0m\u001b[0;34m(\u001b[0m\u001b[0mavg_loss\u001b[0m\u001b[0;34m)\u001b[0m\u001b[0;34m)\u001b[0m\u001b[0;34m\u001b[0m\u001b[0m\n",
      "\u001b[0;31mNameError\u001b[0m: name 'log_loss' is not defined"
     ]
    }
   ],
   "source": [
    "n_epoch = 100\n",
    "n_iter_per_epoch = x_train_AE.shape[0] // M\n",
    "loss = []\n",
    "for epoch in range(1, n_epoch + 1):\n",
    "    print(\"Epoch: {0}\".format(epoch))\n",
    "    avg_loss = 0.0\n",
    "\n",
    "    # pbar = Progbar(n_iter_per_epoch)\n",
    "    for t in range(1, n_iter_per_epoch + 1):\n",
    "        # pbar.update(t)\n",
    "        x_batch, y_batch = next(x_train_generator_AE)\n",
    "        info_dict = inference.update(feed_dict={x: x_batch, y: y_batch})\n",
    "        avg_loss += info_dict['loss']\n",
    "        avg_loss = avg_loss / n_iter_per_epoch\n",
    "        avg_loss = avg_loss / M\n",
    "        loss.append(-avg_loss)\n",
    "    print(\"-log p(x) <= {:0.3f}\".format(avg_loss))"
   ]
  },
  {
   "cell_type": "code",
   "execution_count": null,
   "metadata": {},
   "outputs": [],
   "source": [
    "# training loss plot\n",
    "plt.plot(range(n_epoch), loss)\n",
    "plt.show()"
   ]
  },
  {
   "cell_type": "code",
   "execution_count": null,
   "metadata": {},
   "outputs": [],
   "source": [
    "# posterior accuracy check for AE representation\n",
    "pos_qW_0 = qW_0.sample()\n",
    "pos_qW_1 = qW_1.sample()\n",
    "pos_qb_0 = qb_0.sample()\n",
    "pos_qb_1 = qb_1.sample()\n",
    "\n",
    "posterior_weights = [pos_qW_0, pos_qW_1, pos_qb_0, pos_qb_1] \n",
    "\n",
    "print(\"training accuracy:\")\n",
    "print(accuracy(x_train_AE, y_train, prior_weights))\n",
    "print(\"testing accuracy:\")\n",
    "print(accuracy(x_test_AE, y_test, prior_weights))"
   ]
  },
  {
   "cell_type": "code",
   "execution_count": null,
   "metadata": {},
   "outputs": [],
   "source": [
    "# inferece initilization for Bayesian AE representation\n",
    "inference = ed.KLqp({W_0:qW_0, b_0:qb_0,\n",
    "                    W_1:qW_1, b_1:qb_1}, \n",
    "                    data = {x: x_train_BAE, y: y_train})\n",
    "inference.initialize(n_iter = 1000, n_samples = 5)\n",
    "tf.global_variables_initializer().run()"
   ]
  },
  {
   "cell_type": "code",
   "execution_count": null,
   "metadata": {},
   "outputs": [],
   "source": [
    "# prior draw and prediction accuracy for Bayesian AE representation\n",
    "pri_qW_0 = qW_0.sample()\n",
    "pri_qW_1 = qW_1.sample()\n",
    "pri_qb_0 = qb_0.sample()\n",
    "pri_qb_1 = qb_1.sample()\n",
    "\n",
    "prior_weights = [pri_qW_0, pri_qW_1, pri_qb_0, pri_qb_1] \n",
    "\n",
    "print(\"training accuracy:\")\n",
    "print(accuracy(x_train_BAE, y_train, prior_weights))\n",
    "print(\"testing accuracy:\")\n",
    "print(accuracy(x_test_BAE, y_test, prior_weights))\n"
   ]
  },
  {
   "cell_type": "code",
   "execution_count": null,
   "metadata": {},
   "outputs": [],
   "source": [
    "n_epoch = 100\n",
    "n_iter_per_epoch = x_train_BAE.shape[0] // M\n",
    "log_loss = []\n",
    "for epoch in range(1, n_epoch + 1):\n",
    "    print(\"Epoch: {0}\".format(epoch))\n",
    "    avg_loss = 0.0\n",
    "\n",
    "    # pbar = Progbar(n_iter_per_epoch)\n",
    "    for t in range(1, n_iter_per_epoch + 1):\n",
    "        # pbar.update(t)\n",
    "        x_batch, y_batch = next(x_train_generator_BAE)\n",
    "        info_dict = inference.update(feed_dict={x: x_batch, y: y_batch})\n",
    "        avg_loss += info_dict['loss']\n",
    "        avg_loss = avg_loss / n_iter_per_epoch\n",
    "        avg_loss = avg_loss / M\n",
    "        log_loss.append(-avg_loss)\n",
    "    print(\"-log p(x) <= {:0.3f}\".format(avg_loss))"
   ]
  },
  {
   "cell_type": "code",
   "execution_count": null,
   "metadata": {},
   "outputs": [],
   "source": [
    "# posterior accuracy check for Bayesian AE representation\n",
    "pos_qW_0 = qW_0.sample()\n",
    "pos_qW_1 = qW_1.sample()\n",
    "pos_qb_0 = qb_0.sample()\n",
    "pos_qb_1 = qb_1.sample()\n",
    "\n",
    "posterior_weights = [pos_qW_0, pos_qW_1, pos_qb_0, pos_qb_1] \n",
    "\n",
    "print(\"training accuracy:\")\n",
    "print(accuracy(x_train_BAE, y_train, prior_weights))\n",
    "print(\"testing accuracy:\")\n",
    "print(accuracy(x_test_BAE, y_test, prior_weights))"
   ]
  },
  {
   "cell_type": "code",
   "execution_count": null,
   "metadata": {},
   "outputs": [],
   "source": [
    "# training loss plot\n",
    "plt.plot(range(n_epoch), loss)\n",
    "plt.show()"
   ]
  }
 ],
 "metadata": {
  "kernelspec": {
   "display_name": "Python 3",
   "language": "python",
   "name": "python3"
  },
  "language_info": {
   "codemirror_mode": {
    "name": "ipython",
    "version": 3
   },
   "file_extension": ".py",
   "mimetype": "text/x-python",
   "name": "python",
   "nbconvert_exporter": "python",
   "pygments_lexer": "ipython3",
   "version": "3.5.3"
  }
 },
 "nbformat": 4,
 "nbformat_minor": 2
}
