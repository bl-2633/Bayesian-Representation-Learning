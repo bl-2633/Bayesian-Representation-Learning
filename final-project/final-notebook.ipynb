{
 "cells": [
  {
   "cell_type": "markdown",
   "metadata": {},
   "source": [
    "# Deep Bayesian Neural Networks for semi-supervised Representation Learning and Classification"
   ]
  },
  {
   "cell_type": "markdown",
   "metadata": {},
   "source": [
    "## 1.Introduction"
   ]
  },
  {
   "cell_type": "markdown",
   "metadata": {},
   "source": [
    "content goes here"
   ]
  },
  {
   "cell_type": "code",
   "execution_count": 1,
   "metadata": {
    "collapsed": true
   },
   "outputs": [],
   "source": [
    "# import all necessary libraries\n",
    "%matplotlib inline\n",
    "from edward.util import Progbar\n",
    "import tensorflow as tf\n",
    "from utils import (generator_xy, generator, \n",
    "                   load_data, accuracy, visulize,)\n",
    "import edward as ed\n",
    "import numpy as np\n",
    "from AE import encoder, decoder, mlp, NN_classifier\n",
    "from observations import mnist\n",
    "import matplotlib.pyplot as plt\n",
    "from edward.models import Normal, Bernoulli, Categorical\n",
    "plt.style.use('ggplot')"
   ]
  },
  {
   "cell_type": "markdown",
   "metadata": {},
   "source": [
    "## Data"
   ]
  },
  {
   "cell_type": "markdown",
   "metadata": {},
   "source": [
    "content goes here"
   ]
  },
  {
   "cell_type": "code",
   "execution_count": 2,
   "metadata": {
    "collapsed": true
   },
   "outputs": [],
   "source": [
    "ed.set_seed(104)\n",
    "sess = tf.InteractiveSession()\n",
    "sess.as_default()\n",
    "M = 12000\n",
    "(x_train, y_train), (x_test, y_test) = mnist('./data')\n",
    "y_train = tf.cast(y_train, tf.int32).eval()\n",
    "y_test = tf.cast(y_test, tf.int32).eval()\n",
    "x_train = x_train.astype('float32') / 255.\n",
    "x_test = x_test.astype('float32') / 255.\n",
    "x_train_AE = load_data('./data/encoded_train_AE.pkl')\n",
    "x_test_AE = load_data('./data/encoded_test_AE.pkl')\n",
    "x_train_BAE = load_data('./data/encoded_train_BAE.pkl')\n",
    "x_test_BAE = load_data('./data/encoded_test_BAE.pkl')\n",
    "x_train_generator = generator_xy([x_train,y_train], M)\n",
    "x_train_generator_AE = generator_xy([x_train_AE, y_train], M)\n",
    "x_train_generator_BAE = generator_xy([x_train_BAE, y_train], M)"
   ]
  },
  {
   "cell_type": "markdown",
   "metadata": {},
   "source": [
    "#### Data Visulization"
   ]
  },
  {
   "cell_type": "code",
   "execution_count": 3,
   "metadata": {
    "collapsed": false
   },
   "outputs": [
    {
     "data": {
      "image/png": "[encoded data removed]",
      "text/plain": [
       "<matplotlib.figure.Figure at 0x7efe8c2a4438>"
      ]
     },
     "metadata": {},
     "output_type": "display_data"
    }
   ],
   "source": [
    "visulize(10, x_train)"
   ]
  },
  {
   "cell_type": "markdown",
   "metadata": {},
   "source": [
    "# Bayesian Autoencoder"
   ]
  },
  {
   "cell_type": "markdown",
   "metadata": {},
   "source": [
    "For detailed notebook, please go to Bayesian_AE.ipynb"
   ]
  },
  {
   "cell_type": "markdown",
   "metadata": {},
   "source": [
    "## 1. Model"
   ]
  },
  {
   "cell_type": "markdown",
   "metadata": {},
   "source": [
    "Model description goes here."
   ]
  },
  {
   "cell_type": "markdown",
   "metadata": {},
   "source": [
    "![](img/Bayesian_AE_model.png)"
   ]
  },
  {
   "cell_type": "markdown",
   "metadata": {},
   "source": [
    "## 2.Inference"
   ]
  },
  {
   "cell_type": "markdown",
   "metadata": {},
   "source": [
    "![](img/Bayesian_AE_inference.png)"
   ]
  },
  {
   "cell_type": "markdown",
   "metadata": {},
   "source": [
    "## 3. Creticism"
   ]
  },
  {
   "cell_type": "markdown",
   "metadata": {},
   "source": [
    "![](img/Bayesian_AE_prior_draw.png)"
   ]
  },
  {
   "cell_type": "markdown",
   "metadata": {},
   "source": [
    "![](img/Bayesian_AE_posterior_draw.png)"
   ]
  },
  {
   "cell_type": "markdown",
   "metadata": {},
   "source": [
    "![](img/Bayesian_AE_training_loss.png)"
   ]
  },
  {
   "cell_type": "markdown",
   "metadata": {},
   "source": [
    "# Autoencoder in Keras"
   ]
  },
  {
   "cell_type": "markdown",
   "metadata": {},
   "source": [
    "We also build a autoencoder in Keras for comparison purposes. For detailed notebook, please go to AE.ipynb"
   ]
  },
  {
   "cell_type": "markdown",
   "metadata": {},
   "source": [
    "![](img/AE_reconstruct.png)"
   ]
  },
  {
   "cell_type": "markdown",
   "metadata": {},
   "source": [
    "# Deep Bayesian Neural Network"
   ]
  },
  {
   "cell_type": "markdown",
   "metadata": {},
   "source": [
    "## Model"
   ]
  },
  {
   "cell_type": "code",
   "execution_count": 4,
   "metadata": {
    "collapsed": true
   },
   "outputs": [],
   "source": [
    "# define model here\n",
    "num_hidden = 100\n",
    "D = 256\n",
    "num_class = 10\n",
    "\n",
    "W_0 = Normal(loc = tf.zeros([D, num_hidden]), scale = tf.ones([D, num_hidden]))\n",
    "W_1 = Normal(loc = tf.zeros([num_hidden, num_class]), scale = tf.ones([num_hidden,num_class]))\n",
    "b_0 = Normal(loc = tf.zeros(num_hidden), scale = tf.ones(num_hidden))\n",
    "b_1 = Normal(loc = tf.zeros(num_class), scale = tf.ones(num_class))\n",
    "\n",
    "x = tf.placeholder(tf.float32, [None, D])\n",
    "\n",
    "y = Categorical(logits=NN_classifier(x, W_0, W_1, b_0, b_1))\n"
   ]
  },
  {
   "cell_type": "code",
   "execution_count": 5,
   "metadata": {
    "collapsed": true
   },
   "outputs": [],
   "source": [
    "# define the variational model here\n",
    "qW_0 = Normal(loc = tf.Variable(tf.random_normal([D,num_hidden])),\n",
    "                  scale = tf.nn.softplus(tf.Variable(tf.random_normal([D,num_hidden]))))\n",
    "qW_1 = Normal(loc = tf.Variable(tf.random_normal([num_hidden,num_class])),\n",
    "                  scale = tf.nn.softplus(tf.Variable(tf.random_normal([num_hidden,num_class]))))\n",
    "qb_0 = Normal(loc = tf.Variable(tf.random_normal([num_hidden])),\n",
    "                  scale = tf.nn.softplus(tf.Variable(tf.random_normal([num_hidden]))))\n",
    "qb_1 = Normal(loc = tf.Variable(tf.random_normal([num_class])),\n",
    "                   scale = tf.nn.softplus(tf.Variable(tf.random_normal([num_class]))))"
   ]
  },
  {
   "cell_type": "markdown",
   "metadata": {},
   "source": [
    "## Inference and Critisism"
   ]
  },
  {
   "cell_type": "markdown",
   "metadata": {},
   "source": [
    "### Keras Autoencoder Representation"
   ]
  },
  {
   "cell_type": "code",
   "execution_count": 6,
   "metadata": {
    "collapsed": true
   },
   "outputs": [],
   "source": [
    "# inferece initilization for AE representation\n",
    "inference = ed.KLqp({W_0:qW_0, b_0:qb_0,\n",
    "                    W_1:qW_1, b_1:qb_1}, \n",
    "                    data = {x: x_train_AE, y: y_train})\n",
    "inference.initialize(n_iter = 1000, n_samples = 5)\n",
    "tf.global_variables_initializer().run()"
   ]
  },
  {
   "cell_type": "code",
   "execution_count": 7,
   "metadata": {
    "collapsed": false
   },
   "outputs": [
    {
     "name": "stdout",
     "output_type": "stream",
     "text": [
      "training accuracy:\n",
      "0.09811666666666667\n",
      "testing accuracy:\n",
      "0.0931\n"
     ]
    }
   ],
   "source": [
    "# prior draw and prediction accuracy for AE representation\n",
    "pri_qW_0 = qW_0.sample()\n",
    "pri_qW_1 = qW_1.sample()\n",
    "pri_qb_0 = qb_0.sample()\n",
    "pri_qb_1 = qb_1.sample()\n",
    "\n",
    "prior_weights = [pri_qW_0, pri_qW_1, pri_qb_0, pri_qb_1] \n",
    "\n",
    "print(\"training accuracy:\")\n",
    "print(accuracy(x_train_AE, y_train, prior_weights))\n",
    "print(\"testing accuracy:\")\n",
    "print(accuracy(x_test_AE, y_test, prior_weights))"
   ]
  },
  {
   "cell_type": "code",
   "execution_count": 8,
   "metadata": {
    "collapsed": false
   },
   "outputs": [
    {
     "name": "stdout",
     "output_type": "stream",
     "text": [
      "Epoch: 1\n",
      "-log p(x) <= 2.668\n",
      "Epoch: 2\n",
      "-log p(x) <= 2.539\n",
      "Epoch: 3\n",
      "-log p(x) <= 2.487\n",
      "Epoch: 4\n",
      "-log p(x) <= 2.410\n",
      "Epoch: 5\n",
      "-log p(x) <= 2.409\n",
      "Epoch: 6\n",
      "-log p(x) <= 2.363\n",
      "Epoch: 7\n",
      "-log p(x) <= 2.341\n",
      "Epoch: 8\n",
      "-log p(x) <= 2.293\n",
      "Epoch: 9\n",
      "-log p(x) <= 2.255\n",
      "Epoch: 10\n",
      "-log p(x) <= 2.273\n",
      "Epoch: 11\n",
      "-log p(x) <= 2.253\n",
      "Epoch: 12\n",
      "-log p(x) <= 2.241\n",
      "Epoch: 13\n",
      "-log p(x) <= 2.201\n",
      "Epoch: 14\n",
      "-log p(x) <= 2.201\n",
      "Epoch: 15\n",
      "-log p(x) <= 2.203\n",
      "Epoch: 16\n",
      "-log p(x) <= 2.182\n",
      "Epoch: 17\n",
      "-log p(x) <= 2.168\n",
      "Epoch: 18\n",
      "-log p(x) <= 2.193\n",
      "Epoch: 19\n",
      "-log p(x) <= 2.118\n",
      "Epoch: 20\n",
      "-log p(x) <= 2.130\n",
      "Epoch: 21\n",
      "-log p(x) <= 2.076\n",
      "Epoch: 22\n",
      "-log p(x) <= 2.065\n",
      "Epoch: 23\n",
      "-log p(x) <= 2.059\n",
      "Epoch: 24\n",
      "-log p(x) <= 2.086\n",
      "Epoch: 25\n",
      "-log p(x) <= 2.046\n",
      "Epoch: 26\n",
      "-log p(x) <= 2.036\n",
      "Epoch: 27\n",
      "-log p(x) <= 2.015\n",
      "Epoch: 28\n",
      "-log p(x) <= 1.997\n",
      "Epoch: 29\n",
      "-log p(x) <= 1.978\n",
      "Epoch: 30\n",
      "-log p(x) <= 1.921\n",
      "Epoch: 31\n",
      "-log p(x) <= 1.920\n",
      "Epoch: 32\n",
      "-log p(x) <= 1.895\n",
      "Epoch: 33\n",
      "-log p(x) <= 1.880\n",
      "Epoch: 34\n",
      "-log p(x) <= 1.850\n",
      "Epoch: 35\n",
      "-log p(x) <= 1.847\n",
      "Epoch: 36\n",
      "-log p(x) <= 1.833\n",
      "Epoch: 37\n",
      "-log p(x) <= 1.823\n",
      "Epoch: 38\n",
      "-log p(x) <= 1.801\n",
      "Epoch: 39\n",
      "-log p(x) <= 1.793\n",
      "Epoch: 40\n",
      "-log p(x) <= 1.784\n",
      "Epoch: 41\n",
      "-log p(x) <= 1.773\n",
      "Epoch: 42\n",
      "-log p(x) <= 1.780\n",
      "Epoch: 43\n",
      "-log p(x) <= 1.783\n",
      "Epoch: 44\n",
      "-log p(x) <= 1.779\n",
      "Epoch: 45\n",
      "-log p(x) <= 1.763\n",
      "Epoch: 46\n",
      "-log p(x) <= 1.765\n",
      "Epoch: 47\n",
      "-log p(x) <= 1.795\n",
      "Epoch: 48\n",
      "-log p(x) <= 1.790\n",
      "Epoch: 49\n",
      "-log p(x) <= 1.771\n",
      "Epoch: 50\n",
      "-log p(x) <= 1.768\n",
      "Epoch: 51\n",
      "-log p(x) <= 1.787\n",
      "Epoch: 52\n",
      "-log p(x) <= 1.758\n",
      "Epoch: 53\n",
      "-log p(x) <= 1.766\n",
      "Epoch: 54\n",
      "-log p(x) <= 1.751\n",
      "Epoch: 55\n",
      "-log p(x) <= 1.778\n",
      "Epoch: 56\n",
      "-log p(x) <= 1.758\n",
      "Epoch: 57\n",
      "-log p(x) <= 1.751\n",
      "Epoch: 58\n",
      "-log p(x) <= 1.760\n",
      "Epoch: 59\n",
      "-log p(x) <= 1.768\n",
      "Epoch: 60\n",
      "-log p(x) <= 1.763\n",
      "Epoch: 61\n",
      "-log p(x) <= 1.750\n",
      "Epoch: 62\n",
      "-log p(x) <= 1.761\n",
      "Epoch: 63\n",
      "-log p(x) <= 1.751\n",
      "Epoch: 64\n",
      "-log p(x) <= 1.747\n",
      "Epoch: 65\n",
      "-log p(x) <= 1.754\n",
      "Epoch: 66\n",
      "-log p(x) <= 1.748\n",
      "Epoch: 67\n",
      "-log p(x) <= 1.743\n",
      "Epoch: 68\n",
      "-log p(x) <= 1.748\n",
      "Epoch: 69\n",
      "-log p(x) <= 1.751\n",
      "Epoch: 70\n",
      "-log p(x) <= 1.752\n",
      "Epoch: 71\n",
      "-log p(x) <= 1.738\n",
      "Epoch: 72\n",
      "-log p(x) <= 1.754\n",
      "Epoch: 73\n",
      "-log p(x) <= 1.721\n",
      "Epoch: 74\n",
      "-log p(x) <= 1.753\n",
      "Epoch: 75\n",
      "-log p(x) <= 1.760\n",
      "Epoch: 76\n",
      "-log p(x) <= 1.758\n",
      "Epoch: 77\n",
      "-log p(x) <= 1.755\n",
      "Epoch: 78\n",
      "-log p(x) <= 1.735\n",
      "Epoch: 79\n",
      "-log p(x) <= 1.741\n",
      "Epoch: 80\n",
      "-log p(x) <= 1.755\n",
      "Epoch: 81\n",
      "-log p(x) <= 1.759\n",
      "Epoch: 82\n",
      "-log p(x) <= 1.749\n",
      "Epoch: 83\n",
      "-log p(x) <= 1.743\n",
      "Epoch: 84\n",
      "-log p(x) <= 1.760\n",
      "Epoch: 85\n",
      "-log p(x) <= 1.741\n",
      "Epoch: 86\n",
      "-log p(x) <= 1.733\n",
      "Epoch: 87\n",
      "-log p(x) <= 1.732\n",
      "Epoch: 88\n",
      "-log p(x) <= 1.744\n",
      "Epoch: 89\n",
      "-log p(x) <= 1.736\n",
      "Epoch: 90\n",
      "-log p(x) <= 1.745\n",
      "Epoch: 91\n",
      "-log p(x) <= 1.740\n",
      "Epoch: 92\n",
      "-log p(x) <= 1.743\n",
      "Epoch: 93\n",
      "-log p(x) <= 1.736\n",
      "Epoch: 94\n",
      "-log p(x) <= 1.768\n",
      "Epoch: 95\n",
      "-log p(x) <= 1.759\n",
      "Epoch: 96\n",
      "-log p(x) <= 1.763\n",
      "Epoch: 97\n",
      "-log p(x) <= 1.749\n",
      "Epoch: 98\n",
      "-log p(x) <= 1.739\n",
      "Epoch: 99\n",
      "-log p(x) <= 1.730\n",
      "Epoch: 100\n",
      "-log p(x) <= 1.740\n"
     ]
    }
   ],
   "source": [
    "n_epoch = 100\n",
    "n_iter_per_epoch = x_train_AE.shape[0] // M\n",
    "loss = []\n",
    "for epoch in range(1, n_epoch + 1):\n",
    "    print(\"Epoch: {0}\".format(epoch))\n",
    "    avg_loss = 0.0\n",
    "\n",
    "    # pbar = Progbar(n_iter_per_epoch)\n",
    "    for t in range(1, n_iter_per_epoch + 1):\n",
    "        # pbar.update(t)\n",
    "        x_batch, y_batch = next(x_train_generator_AE)\n",
    "        info_dict = inference.update(feed_dict={x: x_batch, y: y_batch})\n",
    "        avg_loss += info_dict['loss']\n",
    "        avg_loss = avg_loss / n_iter_per_epoch\n",
    "        avg_loss = avg_loss / M\n",
    "        loss.append(avg_loss)\n",
    "    print(\"-log p(x) <= {:0.3f}\".format(avg_loss))"
   ]
  },
  {
   "cell_type": "code",
   "execution_count": 9,
   "metadata": {
    "collapsed": false
   },
   "outputs": [
    {
     "data": {
      "image/png": "[encoded data removed]",
      "text/plain": [
       "<matplotlib.figure.Figure at 0x7efe6c2b3908>"
      ]
     },
     "metadata": {},
     "output_type": "display_data"
    }
   ],
   "source": [
    "# training loss plot\n",
    "plt.plot(range(5 * n_epoch), loss)\n",
    "plt.show()"
   ]
  },
  {
   "cell_type": "code",
   "execution_count": 10,
   "metadata": {
    "collapsed": false
   },
   "outputs": [
    {
     "name": "stdout",
     "output_type": "stream",
     "text": [
      "training accuracy:\n",
      "0.8076666666666666\n",
      "testing accuracy:\n",
      "0.7974\n"
     ]
    }
   ],
   "source": [
    "# posterior accuracy check for AE representation\n",
    "pos_qW_0 = qW_0.sample()\n",
    "pos_qW_1 = qW_1.sample()\n",
    "pos_qb_0 = qb_0.sample()\n",
    "pos_qb_1 = qb_1.sample()\n",
    "\n",
    "posterior_weights = [pos_qW_0, pos_qW_1, pos_qb_0, pos_qb_1] \n",
    "\n",
    "print(\"training accuracy:\")\n",
    "print(accuracy(x_train_AE, y_train, prior_weights))\n",
    "print(\"testing accuracy:\")\n",
    "print(accuracy(x_test_AE, y_test, prior_weights))"
   ]
  },
  {
   "cell_type": "markdown",
   "metadata": {},
   "source": [
    "### Bayesian Autoencoder Representation"
   ]
  },
  {
   "cell_type": "code",
   "execution_count": 11,
   "metadata": {
    "collapsed": true
   },
   "outputs": [],
   "source": [
    "# inferece initilization for Bayesian AE representation\n",
    "inference = ed.KLqp({W_0:qW_0, b_0:qb_0,\n",
    "                    W_1:qW_1, b_1:qb_1}, \n",
    "                    data = {x: x_train_BAE, y: y_train})\n",
    "inference.initialize(n_iter = 1000, n_samples = 5)\n",
    "tf.global_variables_initializer().run()"
   ]
  },
  {
   "cell_type": "code",
   "execution_count": 12,
   "metadata": {
    "collapsed": false
   },
   "outputs": [
    {
     "name": "stdout",
     "output_type": "stream",
     "text": [
      "training accuracy:\n",
      "0.10358333333333333\n",
      "testing accuracy:\n",
      "0.0586\n"
     ]
    }
   ],
   "source": [
    "# prior draw and prediction accuracy for Bayesian AE representation\n",
    "pri_qW_0 = qW_0.sample()\n",
    "pri_qW_1 = qW_1.sample()\n",
    "pri_qb_0 = qb_0.sample()\n",
    "pri_qb_1 = qb_1.sample()\n",
    "\n",
    "prior_weights = [pri_qW_0, pri_qW_1, pri_qb_0, pri_qb_1] \n",
    "\n",
    "print(\"training accuracy:\")\n",
    "print(accuracy(x_train_BAE, y_train, prior_weights))\n",
    "print(\"testing accuracy:\")\n",
    "print(accuracy(x_test_BAE, y_test, prior_weights))\n"
   ]
  },
  {
   "cell_type": "code",
   "execution_count": 13,
   "metadata": {
    "collapsed": false
   },
   "outputs": [
    {
     "name": "stdout",
     "output_type": "stream",
     "text": [
      "Epoch: 1\n",
      "-log p(x) <= 2.561\n",
      "Epoch: 2\n",
      "-log p(x) <= 2.346\n",
      "Epoch: 3\n",
      "-log p(x) <= 2.203\n",
      "Epoch: 4\n",
      "-log p(x) <= 2.071\n",
      "Epoch: 5\n",
      "-log p(x) <= 2.013\n",
      "Epoch: 6\n",
      "-log p(x) <= 1.954\n",
      "Epoch: 7\n",
      "-log p(x) <= 1.914\n",
      "Epoch: 8\n",
      "-log p(x) <= 1.888\n",
      "Epoch: 9\n",
      "-log p(x) <= 1.867\n",
      "Epoch: 10\n",
      "-log p(x) <= 1.844\n",
      "Epoch: 11\n",
      "-log p(x) <= 1.834\n",
      "Epoch: 12\n",
      "-log p(x) <= 1.814\n",
      "Epoch: 13\n",
      "-log p(x) <= 1.803\n",
      "Epoch: 14\n",
      "-log p(x) <= 1.795\n",
      "Epoch: 15\n",
      "-log p(x) <= 1.780\n",
      "Epoch: 16\n",
      "-log p(x) <= 1.789\n",
      "Epoch: 17\n",
      "-log p(x) <= 1.780\n",
      "Epoch: 18\n",
      "-log p(x) <= 1.758\n",
      "Epoch: 19\n",
      "-log p(x) <= 1.757\n",
      "Epoch: 20\n",
      "-log p(x) <= 1.739\n",
      "Epoch: 21\n",
      "-log p(x) <= 1.737\n",
      "Epoch: 22\n",
      "-log p(x) <= 1.734\n",
      "Epoch: 23\n",
      "-log p(x) <= 1.720\n",
      "Epoch: 24\n",
      "-log p(x) <= 1.730\n",
      "Epoch: 25\n",
      "-log p(x) <= 1.735\n",
      "Epoch: 26\n",
      "-log p(x) <= 1.711\n",
      "Epoch: 27\n",
      "-log p(x) <= 1.711\n",
      "Epoch: 28\n",
      "-log p(x) <= 1.709\n",
      "Epoch: 29\n",
      "-log p(x) <= 1.713\n",
      "Epoch: 30\n",
      "-log p(x) <= 1.703\n",
      "Epoch: 31\n",
      "-log p(x) <= 1.691\n",
      "Epoch: 32\n",
      "-log p(x) <= 1.689\n",
      "Epoch: 33\n",
      "-log p(x) <= 1.703\n",
      "Epoch: 34\n",
      "-log p(x) <= 1.694\n",
      "Epoch: 35\n",
      "-log p(x) <= 1.686\n",
      "Epoch: 36\n",
      "-log p(x) <= 1.685\n",
      "Epoch: 37\n",
      "-log p(x) <= 1.683\n",
      "Epoch: 38\n",
      "-log p(x) <= 1.685\n",
      "Epoch: 39\n",
      "-log p(x) <= 1.686\n",
      "Epoch: 40\n",
      "-log p(x) <= 1.684\n",
      "Epoch: 41\n",
      "-log p(x) <= 1.675\n",
      "Epoch: 42\n",
      "-log p(x) <= 1.673\n",
      "Epoch: 43\n",
      "-log p(x) <= 1.681\n",
      "Epoch: 44\n",
      "-log p(x) <= 1.681\n",
      "Epoch: 45\n",
      "-log p(x) <= 1.670\n",
      "Epoch: 46\n",
      "-log p(x) <= 1.673\n",
      "Epoch: 47\n",
      "-log p(x) <= 1.670\n",
      "Epoch: 48\n",
      "-log p(x) <= 1.675\n",
      "Epoch: 49\n",
      "-log p(x) <= 1.666\n",
      "Epoch: 50\n",
      "-log p(x) <= 1.662\n",
      "Epoch: 51\n",
      "-log p(x) <= 1.666\n",
      "Epoch: 52\n",
      "-log p(x) <= 1.656\n",
      "Epoch: 53\n",
      "-log p(x) <= 1.667\n",
      "Epoch: 54\n",
      "-log p(x) <= 1.659\n",
      "Epoch: 55\n",
      "-log p(x) <= 1.666\n",
      "Epoch: 56\n",
      "-log p(x) <= 1.664\n",
      "Epoch: 57\n",
      "-log p(x) <= 1.659\n",
      "Epoch: 58\n",
      "-log p(x) <= 1.654\n",
      "Epoch: 59\n",
      "-log p(x) <= 1.654\n",
      "Epoch: 60\n",
      "-log p(x) <= 1.651\n",
      "Epoch: 61\n",
      "-log p(x) <= 1.655\n",
      "Epoch: 62\n",
      "-log p(x) <= 1.650\n",
      "Epoch: 63\n",
      "-log p(x) <= 1.658\n",
      "Epoch: 64\n",
      "-log p(x) <= 1.651\n",
      "Epoch: 65\n",
      "-log p(x) <= 1.647\n",
      "Epoch: 66\n",
      "-log p(x) <= 1.655\n",
      "Epoch: 67\n",
      "-log p(x) <= 1.655\n",
      "Epoch: 68\n",
      "-log p(x) <= 1.650\n",
      "Epoch: 69\n",
      "-log p(x) <= 1.646\n",
      "Epoch: 70\n",
      "-log p(x) <= 1.646\n",
      "Epoch: 71\n",
      "-log p(x) <= 1.645\n",
      "Epoch: 72\n",
      "-log p(x) <= 1.659\n",
      "Epoch: 73\n",
      "-log p(x) <= 1.644\n",
      "Epoch: 74\n",
      "-log p(x) <= 1.646\n",
      "Epoch: 75\n",
      "-log p(x) <= 1.645\n",
      "Epoch: 76\n",
      "-log p(x) <= 1.643\n",
      "Epoch: 77\n",
      "-log p(x) <= 1.639\n",
      "Epoch: 78\n",
      "-log p(x) <= 1.647\n",
      "Epoch: 79\n",
      "-log p(x) <= 1.647\n",
      "Epoch: 80\n",
      "-log p(x) <= 1.638\n",
      "Epoch: 81\n",
      "-log p(x) <= 1.641\n",
      "Epoch: 82\n",
      "-log p(x) <= 1.644\n",
      "Epoch: 83\n",
      "-log p(x) <= 1.646\n",
      "Epoch: 84\n",
      "-log p(x) <= 1.652\n",
      "Epoch: 85\n",
      "-log p(x) <= 1.642\n",
      "Epoch: 86\n",
      "-log p(x) <= 1.639\n",
      "Epoch: 87\n",
      "-log p(x) <= 1.643\n",
      "Epoch: 88\n",
      "-log p(x) <= 1.636\n",
      "Epoch: 89\n",
      "-log p(x) <= 1.632\n",
      "Epoch: 90\n",
      "-log p(x) <= 1.641\n",
      "Epoch: 91\n",
      "-log p(x) <= 1.636\n",
      "Epoch: 92\n",
      "-log p(x) <= 1.637\n",
      "Epoch: 93\n",
      "-log p(x) <= 1.633\n",
      "Epoch: 94\n",
      "-log p(x) <= 1.630\n",
      "Epoch: 95\n",
      "-log p(x) <= 1.630\n",
      "Epoch: 96\n",
      "-log p(x) <= 1.640\n",
      "Epoch: 97\n",
      "-log p(x) <= 1.636\n",
      "Epoch: 98\n",
      "-log p(x) <= 1.638\n",
      "Epoch: 99\n",
      "-log p(x) <= 1.636\n",
      "Epoch: 100\n",
      "-log p(x) <= 1.635\n"
     ]
    }
   ],
   "source": [
    "n_epoch = 100\n",
    "n_iter_per_epoch = x_train_BAE.shape[0] // M\n",
    "loss = []\n",
    "for epoch in range(1, n_epoch + 1):\n",
    "    print(\"Epoch: {0}\".format(epoch))\n",
    "    avg_loss = 0.0\n",
    "\n",
    "    # pbar = Progbar(n_iter_per_epoch)\n",
    "    for t in range(1, n_iter_per_epoch + 1):\n",
    "        # pbar.update(t)\n",
    "        x_batch, y_batch = next(x_train_generator_BAE)\n",
    "        info_dict = inference.update(feed_dict={x: x_batch, y: y_batch})\n",
    "        avg_loss += info_dict['loss']\n",
    "        avg_loss = avg_loss / n_iter_per_epoch\n",
    "        avg_loss = avg_loss / M\n",
    "        loss.append(avg_loss)\n",
    "    print(\"-log p(x) <= {:0.3f}\".format(avg_loss))"
   ]
  },
  {
   "cell_type": "code",
   "execution_count": 14,
   "metadata": {
    "collapsed": false
   },
   "outputs": [
    {
     "data": {
      "image/png": "[encoded data removed]",
      "text/plain": [
       "<matplotlib.figure.Figure at 0x7efe6c2b3550>"
      ]
     },
     "metadata": {},
     "output_type": "display_data"
    }
   ],
   "source": [
    "# training loss plot\n",
    "plt.plot(range(5 * n_epoch), loss)\n",
    "plt.show()"
   ]
  },
  {
   "cell_type": "code",
   "execution_count": 15,
   "metadata": {
    "collapsed": false
   },
   "outputs": [
    {
     "name": "stdout",
     "output_type": "stream",
     "text": [
      "training accuracy:\n",
      "0.9156166666666666\n",
      "testing accuracy:\n",
      "0.9164\n"
     ]
    }
   ],
   "source": [
    "# posterior accuracy check for Bayesian AE representation\n",
    "pos_qW_0 = qW_0.sample()\n",
    "pos_qW_1 = qW_1.sample()\n",
    "pos_qb_0 = qb_0.sample()\n",
    "pos_qb_1 = qb_1.sample()\n",
    "\n",
    "posterior_weights = [pos_qW_0, pos_qW_1, pos_qb_0, pos_qb_1] \n",
    "\n",
    "print(\"training accuracy:\")\n",
    "print(accuracy(x_train_BAE, y_train, prior_weights))\n",
    "print(\"testing accuracy:\")\n",
    "print(accuracy(x_test_BAE, y_test, prior_weights))"
   ]
  }
 ],
 "metadata": {
  "kernelspec": {
   "display_name": "Python 3",
   "language": "python",
   "name": "python3"
  },
  "language_info": {
   "codemirror_mode": {
    "name": "ipython",
    "version": 3
   },
   "file_extension": ".py",
   "mimetype": "text/x-python",
   "name": "python",
   "nbconvert_exporter": "python",
   "pygments_lexer": "ipython3",
   "version": "3.5.3"
  }
 },
 "nbformat": 4,
 "nbformat_minor": 2
}
