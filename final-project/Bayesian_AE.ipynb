{
 "cells": [
  {
   "cell_type": "code",
   "execution_count": 1,
   "metadata": {},
   "outputs": [
    {
     "name": "stderr",
     "output_type": "stream",
     "text": [
      "Using TensorFlow backend.\n"
     ]
    }
   ],
   "source": [
    "%matplotlib inline\n",
    "from edward.util import Progbar\n",
    "import tensorflow as tf\n",
    "from utils import (generator_xy, visulize, accuracy, \n",
    "                  NN_classifier)\n",
    "import keras\n",
    "import edward as ed\n",
    "import numpy as np\n",
    "from observations import mnist\n",
    "import matplotlib.pyplot as plt\n",
    "from edward.models import Normal, Bernoulli, Categorical\n",
    "import pickle\n",
    "import seaborn as sns\n",
    "plt.style.use('ggplot')"
   ]
  },
  {
   "cell_type": "code",
   "execution_count": 2,
   "metadata": {},
   "outputs": [],
   "source": [
    "sess = tf.InteractiveSession()\n",
    "ed.set_seed(100)\n",
    "M = 12000\n",
    "num_latent = 32\n",
    "num_hidden = 16\n",
    "D = 28*28\n",
    "num_class = 10\n",
    "(x_train, y_train), (x_test, y_test) = mnist('./data')\n",
    "y_train = tf.cast(y_train, tf.int32).eval()\n",
    "y_test = tf.cast(y_test, tf.int32).eval()\n",
    "x_train = x_train.astype('float32') / 255.\n",
    "x_test = x_test.astype('float32') / 255.\n",
    "x_train_generator = generator_xy([x_train,y_train], M)"
   ]
  },
  {
   "cell_type": "code",
   "execution_count": 3,
   "metadata": {},
   "outputs": [
    {
     "data": {
      "image/png": "[encoded data removed]",
      "text/plain": [
       "<matplotlib.figure.Figure at 0x7f00bfb36f60>"
      ]
     },
     "metadata": {},
     "output_type": "display_data"
    }
   ],
   "source": [
    "visulize(10, x_train)"
   ]
  },
  {
   "cell_type": "code",
   "execution_count": 4,
   "metadata": {},
   "outputs": [],
   "source": [
    "\n",
    "def auto_encoder(x, W_encode, W_decode, b_endoce, b_decode):\n",
    "    h = tf.nn.relu(tf.matmul(x,W_encode) + b_encode)\n",
    "    h = tf.nn.sigmoid(tf.matmul(h,W_decode) + b_decode)\n",
    "    return h\n",
    "\n",
    "\n",
    "def encoder(x, W_encode, b_encode):\n",
    "    h = tf.matmul(x,W_encode) + b_encode\n",
    "    return h\n"
   ]
  },
  {
   "cell_type": "code",
   "execution_count": 5,
   "metadata": {},
   "outputs": [],
   "source": [
    "W_encode = Normal(loc = tf.zeros([D, num_latent]), scale = 0.01 * tf.ones([D, num_latent]))\n",
    "W_decode = Normal(loc = tf.zeros([num_latent, D]), scale = 0.01 * tf.ones([num_latent,D]))\n",
    "b_encode = Normal(loc = tf.zeros(num_latent), scale = 0.01 * tf.ones(num_latent))\n",
    "b_decode = Normal(loc = tf.zeros(D), scale = 0.01 * tf.ones(D))\n",
    "W_clf_1  = Normal(loc = tf.zeros([num_latent, num_hidden]), scale = tf.ones([num_latent, num_hidden]))\n",
    "b_clf_1  = Normal(loc = tf.zeros(num_hidden), scale = tf.ones(num_hidden)) \n",
    "W_clf_2  = Normal(loc = tf.zeros([num_hidden,num_class]), scale = tf.ones([num_hidden, num_class]))\n",
    "b_clf_2  = Normal(loc = tf.zeros(num_class), scale = tf.ones(num_class))\n",
    "\n",
    "\n",
    "x = tf.placeholder(tf.float32, [None, D])\n",
    "\n",
    "x_reconstruct = Normal(loc=auto_encoder(x, W_encode, W_decode, b_encode, b_decode),\n",
    "                      scale = 0.1 *tf.ones([D]))\n",
    "y = Categorical(logits = NN_classifier(encoder(x, W_encode, b_encode) \n",
    "                             , W_clf_1, W_clf_2, b_clf_1, b_clf_2))"
   ]
  },
  {
   "cell_type": "code",
   "execution_count": 6,
   "metadata": {},
   "outputs": [],
   "source": [
    "qW_encode = Normal(loc = tf.Variable(tf.random_normal([D,num_latent])),\n",
    "                  scale = tf.nn.softplus(tf.Variable(tf.random_normal([D,num_latent]))))\n",
    "qW_decode = Normal(loc = tf.Variable(tf.random_normal([num_latent ,D])),\n",
    "                  scale = tf.nn.softplus(tf.Variable(tf.random_normal([num_latent,D]))))\n",
    "qb_encode = Normal(loc = tf.Variable(tf.random_normal([num_latent])),\n",
    "                  scale = tf.nn.softplus(tf.Variable(tf.random_normal([num_latent]))))\n",
    "qb_decode = Normal(loc = tf.Variable(tf.random_normal([D])),\n",
    "                   scale = tf.nn.softplus(tf.Variable(tf.random_normal([D]))))\n",
    "\n",
    "qW_clf_1 = Normal(loc = tf.Variable(tf.random_normal([num_latent,num_hidden])),\n",
    "                  scale = tf.nn.softplus(tf.Variable(tf.random_normal([num_latent,num_hidden]))))\n",
    "qW_clf_2 = Normal(loc = tf.Variable(tf.random_normal([num_hidden,num_class])),\n",
    "                  scale = tf.nn.softplus(tf.Variable(tf.random_normal([num_hidden,num_class]))))\n",
    "qb_clf_1 = Normal(loc = tf.Variable(tf.random_normal([num_hidden])),\n",
    "                  scale = tf.nn.softplus(tf.Variable(tf.random_normal([num_hidden]))))\n",
    "qb_clf_2 = Normal(loc = tf.Variable(tf.random_normal([num_class])),\n",
    "                   scale = tf.nn.softplus(tf.Variable(tf.random_normal([num_class]))))\n",
    "\n"
   ]
  },
  {
   "cell_type": "code",
   "execution_count": 7,
   "metadata": {},
   "outputs": [],
   "source": [
    "reconstruct = tf.stack([auto_encoder(x,qW_encode.sample(), \n",
    "                                   qW_decode.sample(), qb_encode.sample(), \n",
    "                                   qb_decode.sample()) \n",
    "                          for _ in range(4)])\n",
    "tf.global_variables_initializer().run()\n",
    "out = sess.run(reconstruct, feed_dict = {x: x_train})\n"
   ]
  },
  {
   "cell_type": "code",
   "execution_count": 8,
   "metadata": {},
   "outputs": [
    {
     "name": "stdout",
     "output_type": "stream",
     "text": [
      "(4, 60000, 784)\n"
     ]
    },
    {
     "data": {
      "image/png": "[encoded data removed]",
      "text/plain": [
       "<matplotlib.figure.Figure at 0x7f00b83db940>"
      ]
     },
     "metadata": {},
     "output_type": "display_data"
    },
    {
     "data": {
      "image/png": "[encoded data removed]",
      "text/plain": [
       "<matplotlib.figure.Figure at 0x7f00b8385f98>"
      ]
     },
     "metadata": {},
     "output_type": "display_data"
    }
   ],
   "source": [
    "print(out.shape)\n",
    "f, axes = plt.subplots(2, 2)\n",
    "for ax, i in zip(axes.flat[0:], range(4)):\n",
    "    ax.imshow(out[i,0,:].reshape(28,28),cmap = 'gray')\n",
    "plt.show()\n",
    "plt.imshow(x_train[0,:].reshape(28, 28), cmap = 'gray')\n",
    "plt.show()"
   ]
  },
  {
   "cell_type": "code",
   "execution_count": 9,
   "metadata": {},
   "outputs": [],
   "source": [
    "inference = ed.KLqp({W_encode:qW_encode, b_encode:qb_encode,\n",
    "                    W_decode:qW_decode, b_decode:qb_decode, \n",
    "                    W_clf_1: qW_clf_1, W_clf_2: qW_clf_2, \n",
    "                    b_clf_1: qb_clf_1, b_clf_2: qb_clf_2}, \n",
    "                    data = {x: x_train, x_reconstruct: x_train, \n",
    "                           y: y_train})\n",
    "inference.initialize(n_iter = 1000, n_samples = 5)\n",
    "tf.global_variables_initializer().run()\n"
   ]
  },
  {
   "cell_type": "code",
   "execution_count": 10,
   "metadata": {},
   "outputs": [
    {
     "name": "stdout",
     "output_type": "stream",
     "text": [
      "Epoch: 1\n",
      "-log p(x) <= 94952.614\n",
      "Epoch: 2\n",
      "-log p(x) <= 48365.058\n",
      "Epoch: 3\n",
      "-log p(x) <= 38852.945\n",
      "Epoch: 4\n",
      "-log p(x) <= 34551.929\n",
      "Epoch: 5\n",
      "-log p(x) <= 31123.153\n",
      "Epoch: 6\n",
      "-log p(x) <= 28226.697\n",
      "Epoch: 7\n",
      "-log p(x) <= 25947.471\n",
      "Epoch: 8\n",
      "-log p(x) <= 24168.601\n",
      "Epoch: 9\n",
      "-log p(x) <= 22625.225\n",
      "Epoch: 10\n",
      "-log p(x) <= 21480.770\n",
      "Epoch: 11\n",
      "-log p(x) <= 20561.511\n",
      "Epoch: 12\n",
      "-log p(x) <= 19779.463\n",
      "Epoch: 13\n",
      "-log p(x) <= 19036.766\n",
      "Epoch: 14\n",
      "-log p(x) <= 18227.649\n",
      "Epoch: 15\n",
      "-log p(x) <= 17359.804\n",
      "Epoch: 16\n",
      "-log p(x) <= 15964.366\n",
      "Epoch: 17\n",
      "-log p(x) <= 13729.583\n",
      "Epoch: 18\n",
      "-log p(x) <= 11843.069\n",
      "Epoch: 19\n",
      "-log p(x) <= 10782.135\n",
      "Epoch: 20\n",
      "-log p(x) <= 9548.327\n",
      "Epoch: 21\n",
      "-log p(x) <= 8483.080\n",
      "Epoch: 22\n",
      "-log p(x) <= 7324.893\n",
      "Epoch: 23\n",
      "-log p(x) <= 6269.564\n",
      "Epoch: 24\n",
      "-log p(x) <= 5568.953\n",
      "Epoch: 25\n",
      "-log p(x) <= 4922.873\n",
      "Epoch: 26\n",
      "-log p(x) <= 4216.706\n",
      "Epoch: 27\n",
      "-log p(x) <= 3891.149\n",
      "Epoch: 28\n",
      "-log p(x) <= 4336.295\n",
      "Epoch: 29\n",
      "-log p(x) <= 3703.768\n",
      "Epoch: 30\n",
      "-log p(x) <= 3504.938\n",
      "Epoch: 31\n",
      "-log p(x) <= 3236.575\n",
      "Epoch: 32\n",
      "-log p(x) <= 3080.472\n",
      "Epoch: 33\n",
      "-log p(x) <= 3047.514\n",
      "Epoch: 34\n",
      "-log p(x) <= 2688.001\n",
      "Epoch: 35\n",
      "-log p(x) <= 2857.545\n",
      "Epoch: 36\n",
      "-log p(x) <= 3420.288\n",
      "Epoch: 37\n",
      "-log p(x) <= 2837.468\n",
      "Epoch: 38\n",
      "-log p(x) <= 2457.600\n",
      "Epoch: 39\n",
      "-log p(x) <= 1951.024\n",
      "Epoch: 40\n",
      "-log p(x) <= 2844.487\n",
      "Epoch: 41\n",
      "-log p(x) <= 2531.368\n",
      "Epoch: 42\n",
      "-log p(x) <= 2003.015\n",
      "Epoch: 43\n",
      "-log p(x) <= 1726.539\n",
      "Epoch: 44\n",
      "-log p(x) <= 1507.714\n",
      "Epoch: 45\n",
      "-log p(x) <= 1661.869\n",
      "Epoch: 46\n",
      "-log p(x) <= 1626.947\n",
      "Epoch: 47\n",
      "-log p(x) <= 1250.079\n",
      "Epoch: 48\n",
      "-log p(x) <= 1121.342\n",
      "Epoch: 49\n",
      "-log p(x) <= 1532.960\n",
      "Epoch: 50\n",
      "-log p(x) <= 1025.928\n"
     ]
    }
   ],
   "source": [
    "n_epoch = 50\n",
    "n_iter_per_epoch = x_train.shape[0] // M\n",
    "log_loss = []\n",
    "for epoch in range(1, n_epoch + 1):\n",
    "  print(\"Epoch: {0}\".format(epoch))\n",
    "  avg_loss = 0.0\n",
    "\n",
    "  pbar = Progbar(n_iter_per_epoch, verbose = 0)\n",
    "  for t in range(1, n_iter_per_epoch + 1):\n",
    "    pbar.update(t)\n",
    "    x_batch, y_batch = next(x_train_generator)\n",
    "    info_dict = inference.update(feed_dict={x: x_batch, x_reconstruct: x_batch, \n",
    "                                           y: y_batch})\n",
    "    avg_loss += info_dict['loss']\n",
    "  avg_loss = avg_loss / n_iter_per_epoch\n",
    "  avg_loss = avg_loss / M\n",
    "  log_loss.append(avg_loss)\n",
    "  print(\"-log p(x) <= {:0.3f}\".format(avg_loss))\n",
    "    "
   ]
  },
  {
   "cell_type": "code",
   "execution_count": 11,
   "metadata": {},
   "outputs": [
    {
     "data": {
      "image/png": "[encoded data removed]",
      "text/plain": [
       "<matplotlib.figure.Figure at 0x7f00baa86d68>"
      ]
     },
     "metadata": {},
     "output_type": "display_data"
    },
    {
     "data": {
      "image/png": "[encoded data removed]",
      "text/plain": [
       "<matplotlib.figure.Figure at 0x7f00baa86dd8>"
      ]
     },
     "metadata": {},
     "output_type": "display_data"
    }
   ],
   "source": [
    "out = sess.run(reconstruct, feed_dict={x: x_test})\n",
    "f, axes = plt.subplots(2, 2)\n",
    "for ax, i in zip(axes.flat[0:], range(4)):\n",
    "    ax.imshow(out[i,5,:].reshape(28,28),cmap = 'gray')\n",
    "plt.show()\n",
    "plt.imshow(x_test[5,:].reshape(28, 28), cmap = 'gray')\n",
    "plt.show()"
   ]
  },
  {
   "cell_type": "code",
   "execution_count": 12,
   "metadata": {},
   "outputs": [],
   "source": [
    "encode_weights = qW_encode.sample()\n",
    "encode_bias = qb_encode.sample()\n",
    "train_encoded = tf.matmul(x_train, encode_weights) + encode_bias\n",
    "test_encoded = tf.matmul(x_test, encode_weights) + encode_bias\n",
    "# with open('./data/encoded_train_BAE.pkl','wb') as f:\n",
    "#     pickle.dump(train_encoded.eval(),f)\n",
    "# with open('./data/encoded_test_BAE.pkl','wb') as f:\n",
    "#     pickle.dump(test_encoded.eval(),f)"
   ]
  },
  {
   "cell_type": "code",
   "execution_count": 13,
   "metadata": {},
   "outputs": [
    {
     "data": {
      "image/png": "[encoded data removed]",
      "text/plain": [
       "<matplotlib.figure.Figure at 0x7f00b835b7b8>"
      ]
     },
     "metadata": {},
     "output_type": "display_data"
    }
   ],
   "source": [
    "plt.plot(range(50), log_loss)\n",
    "plt.show()"
   ]
  }
 ],
 "metadata": {
  "kernelspec": {
   "display_name": "Python 3",
   "language": "python",
   "name": "python3"
  },
  "language_info": {
   "codemirror_mode": {
    "name": "ipython",
    "version": 3
   },
   "file_extension": ".py",
   "mimetype": "text/x-python",
   "name": "python",
   "nbconvert_exporter": "python",
   "pygments_lexer": "ipython3",
   "version": "3.5.3"
  }
 },
 "nbformat": 4,
 "nbformat_minor": 2
}
